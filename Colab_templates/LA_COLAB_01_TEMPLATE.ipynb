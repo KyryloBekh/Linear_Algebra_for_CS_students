{
  "nbformat": 4,
  "nbformat_minor": 0,
  "metadata": {
    "colab": {
      "provenance": []
    },
    "kernelspec": {
      "name": "python3",
      "display_name": "Python 3"
    },
    "language_info": {
      "name": "python"
    }
  },
  "cells": [
    {
      "cell_type": "markdown",
      "source": [
        "# **ЛА_COLAB_01: базові поняття лінійної алгебри**"
      ],
      "metadata": {
        "id": "wO7rDz2w7pM3"
      }
    },
    {
      "cell_type": "markdown",
      "source": [
        "**Ім'я Прізвище, група**"
      ],
      "metadata": {
        "id": "R-PFsPsS_hZ_"
      }
    },
    {
      "cell_type": "markdown",
      "source": [
        "В цьому колабі треба продемонструвати виконання завдань з комп'ютерних практикумів LA_CP_01, LA_CP_02, LA_CP_03, які знаходяться за [адресою](https://github.com/LPolyakova/Linear_Algebra_for_CS_students/tree/main/CP)"
      ],
      "metadata": {
        "id": "VyPQqmIk75wW"
      }
    },
    {
      "cell_type": "markdown",
      "source": [
        "Користуватись ресурсами з інтернету або штучним інтелектом не заборонено. Однак, якщо ви використовуєте ШІ, код, довідкові матеріали з інтернету або літератури, ОБОВ'ЯЗКОВО вказуйте посилання на ці ресурси в коментарях. Інакше це буде розцінено як плагіат і завдання не буде зараховано. Також ви повинні розібратися в усьому, що використовували, і бути в змозі відповідати на питання, які стосуються всього, що є у вашій роботі.\n",
        "\n",
        "Виконувати завдання слід САМОСТІЙНО. У разі виявлення однакових розв'язків роботи будуть анульовані!\n",
        "\n",
        "Необхідні імпорти вказано в преамбулі. Імпортувати інші пакети не дозволяється\n",
        "\n",
        "📕 [Довідник з Markdown](https://www.markdownguide.org\n",
        ") (для набору в текстових комірках)\n",
        "\n",
        "📕 [Короткий довідник набору формул у TeX](https://ru.wikibooks.org/wiki/%D0%9C%D0%B0%D1%82%D0%B5%D0%BC%D0%B0%D1%82%D0%B8%D1%87%D0%B5%D1%81%D0%BA%D0%B8%D0%B5_%D1%84%D0%BE%D1%80%D0%BC%D1%83%D0%BB%D1%8B_%D0%B2_LaTeX)"
      ],
      "metadata": {
        "id": "MY3sTd5U8cXV"
      }
    },
    {
      "cell_type": "code",
      "execution_count": null,
      "metadata": {
        "id": "3Wx4heRt7FrT"
      },
      "outputs": [],
      "source": [
        "import matplotlib.pyplot as plt\n",
        "import numpy as np\n",
        "import networkx as nx\n",
        "import pandas as pd\n",
        "from scipy import linalg\n",
        "import sympy"
      ]
    },
    {
      "cell_type": "markdown",
      "source": [
        " 💻 **Вправа 1.** Оберіть одну з вправ 1.1 - 1.5 на ваш вибір з комп'ютерного практикуму [LA_CP_01](https://github.com/LPolyakova/Linear_Algebra_for_CS_students/blob/main/CP/LA_CP_01_Matrices.ipynb). Скопіюйте умову в комірки нижче та виконайте завдання."
      ],
      "metadata": {
        "id": "KRAhGRE39XwX"
      }
    },
    {
      "cell_type": "markdown",
      "source": [
        "✔️ *Запишіть умови й розв'язки тут та нижче*"
      ],
      "metadata": {
        "id": "NwCwA-2L96HJ"
      }
    },
    {
      "cell_type": "code",
      "source": [
        "# write your code here"
      ],
      "metadata": {
        "id": "okRURROp9KFe"
      },
      "execution_count": null,
      "outputs": []
    },
    {
      "cell_type": "markdown",
      "source": [
        "<font color=\"red\"> *Коментар викладача:* <font>"
      ],
      "metadata": {
        "id": "BNaaoaNw-fCT"
      }
    },
    {
      "cell_type": "markdown",
      "source": [
        "\n",
        "🧩  **Задача 1.** Оберіть одну із задач 1.6 - 1.7 на ваш вибір з комп'ютерного практикуму [LA_CP_01](https://github.com/LPolyakova/Linear_Algebra_for_CS_students/blob/main/CP/LA_CP_01_Matrices.ipynb). Скопіюйте умову в комірки нижче та виконайте завдання."
      ],
      "metadata": {
        "id": "cf2hxpP4AyDL"
      }
    },
    {
      "cell_type": "markdown",
      "source": [
        "✔️ *Запишіть умови й розв'язки тут та нижче*"
      ],
      "metadata": {
        "id": "B8vAPaTNAyDM"
      }
    },
    {
      "cell_type": "code",
      "source": [
        "# write your code here"
      ],
      "metadata": {
        "id": "-bt-iszTAyDN"
      },
      "execution_count": null,
      "outputs": []
    },
    {
      "cell_type": "markdown",
      "source": [
        "<font color=\"red\"> *Коментар викладача:* <font>"
      ],
      "metadata": {
        "id": "WSpKbeK8AyDO"
      }
    },
    {
      "cell_type": "markdown",
      "source": [
        " 💻 **Вправа 2.** Оберіть одну з вправ 2.1 - 2.5 на ваш вибір з комп'ютерного практикуму [LA_CP_02](https://github.com/LPolyakova/Linear_Algebra_for_CS_students/blob/main/CP/LA_CP_02_Linear_equations.ipynb). Скопіюйте умову в комірки нижче та виконайте завдання."
      ],
      "metadata": {
        "id": "oXmrNhSbBin4"
      }
    },
    {
      "cell_type": "markdown",
      "source": [
        "✔️ *Запишіть умови й розв'язки тут та нижче*"
      ],
      "metadata": {
        "id": "sTFY5FN4Bin5"
      }
    },
    {
      "cell_type": "code",
      "source": [
        "# write your code here"
      ],
      "metadata": {
        "id": "O-_TE41GBin6"
      },
      "execution_count": null,
      "outputs": []
    },
    {
      "cell_type": "markdown",
      "source": [
        "<font color=\"red\"> *Коментар викладача:* <font>"
      ],
      "metadata": {
        "id": "kM2eMouGBin6"
      }
    },
    {
      "cell_type": "markdown",
      "source": [
        "\n",
        "🧩  **Задача 2.** Оберіть одну із задач 2.6 - 2.7 на ваш вибір з комп'ютерного практикуму [LA_CP_02](https://github.com/LPolyakova/Linear_Algebra_for_CS_students/blob/main/CP/LA_CP_02_Linear_equations.ipynb). Скопіюйте умову в комірки нижче та виконайте завдання."
      ],
      "metadata": {
        "id": "DT_1_UojBin7"
      }
    },
    {
      "cell_type": "markdown",
      "source": [
        "✔️ *Запишіть умови й розв'язки тут та нижче*"
      ],
      "metadata": {
        "id": "TSuOsvX5Bin7"
      }
    },
    {
      "cell_type": "code",
      "source": [
        "# write your code here"
      ],
      "metadata": {
        "id": "6H9u5QiUBin7"
      },
      "execution_count": null,
      "outputs": []
    },
    {
      "cell_type": "markdown",
      "source": [
        "<font color=\"red\"> *Коментар викладача:* <font>"
      ],
      "metadata": {
        "id": "D8I7MA99Bin8"
      }
    },
    {
      "cell_type": "markdown",
      "source": [
        "💻 **Вправа 3.** Оберіть одну з вправ 3.1 - 3.5 на ваш вибір з комп'ютерного практикуму [LA_CP_03](https://github.com/LPolyakova/Linear_Algebra_for_CS_students/blob/main/CP/LA_CP_03_Determinants.ipynb). Скопіюйте умову в комірки нижче та виконайте завдання."
      ],
      "metadata": {
        "id": "DUa8Uc9zBjl2"
      }
    },
    {
      "cell_type": "markdown",
      "source": [
        "✔️ *Запишіть умови й розв'язки тут та нижче*"
      ],
      "metadata": {
        "id": "CM4qpz4nBjl3"
      }
    },
    {
      "cell_type": "code",
      "source": [
        "# write your code here"
      ],
      "metadata": {
        "id": "H79NjVGxBjl3"
      },
      "execution_count": null,
      "outputs": []
    },
    {
      "cell_type": "markdown",
      "source": [
        "<font color=\"red\"> *Коментар викладача:* <font>"
      ],
      "metadata": {
        "id": "PhgPCwxVBjl3"
      }
    },
    {
      "cell_type": "markdown",
      "source": [
        "\n",
        "🧩  **Задача 3.** Оберіть одну із задач 3.6 - 3.7 на ваш вибір з комп'ютерного практикуму [LA_CP_03](https://github.com/LPolyakova/Linear_Algebra_for_CS_students/blob/main/CP/LA_CP_03_Determinants.ipynb). Скопіюйте умову в комірки нижче та виконайте завдання."
      ],
      "metadata": {
        "id": "hLDe3ZyhBjl4"
      }
    },
    {
      "cell_type": "markdown",
      "source": [
        "✔️ *Запишіть умови й розв'язки тут та нижче*"
      ],
      "metadata": {
        "id": "BX_IhGnqBjl4"
      }
    },
    {
      "cell_type": "code",
      "source": [
        "# write your code here"
      ],
      "metadata": {
        "id": "DOvnzHZsBjl4"
      },
      "execution_count": null,
      "outputs": []
    },
    {
      "cell_type": "markdown",
      "source": [
        "<font color=\"red\"> *Коментар викладача:* <font>"
      ],
      "metadata": {
        "id": "VQjiSuZuBjl4"
      }
    }
  ]
}