{
  "nbformat": 4,
  "nbformat_minor": 0,
  "metadata": {
    "colab": {
      "provenance": []
    },
    "kernelspec": {
      "name": "python3",
      "display_name": "Python 3"
    },
    "language_info": {
      "name": "python"
    }
  },
  "cells": [
    {
      "cell_type": "code",
      "execution_count": null,
      "metadata": {
        "id": "iFNnhhBRBs3N"
      },
      "outputs": [],
      "source": []
    },
    {
      "cell_type": "markdown",
      "source": [
        "**ЛА_COLAB_01: базові поняття лінійної алгебри**\n",
        "\n",
        "Бех Кирило МФ-11"
      ],
      "metadata": {
        "id": "bLvkU_YgB-bY"
      }
    },
    {
      "cell_type": "code",
      "source": [
        "# these imports may be useful\n",
        "\n",
        "import pandas as pd\n",
        "import numpy as np"
      ],
      "metadata": {
        "id": "WsWhhPZ6DN5U"
      },
      "execution_count": 1,
      "outputs": []
    },
    {
      "cell_type": "markdown",
      "source": [
        "**1.3. Decorate matrix.**\n",
        "\n",
        "Напишіть функцію decorate\\_matrix, яка отримує на вхід матрицю $m\\times n$ і ``обходить'' її одиницями. Наприклад, із матриці\n",
        "\n",
        "$\\left( \\begin{array}{cc} 3 & 2 \\\\ 2 & 3 \\end{array} \\right)$ робить матрицю $\\left( \\begin{array}{cccc} 1 & 1 & 1 & 1 \\\\ 1 & 3 & 2 & 1 \\\\ 1 & 2 & 3 & 1 \\\\ 1 & 1 & 1 & 1 \\end{array} \\right)$. Використовуйте засоби numpy, не використовуйте цикли та поелементне присвоєння."
      ],
      "metadata": {
        "id": "WBpJAqnUDdhI"
      }
    },
    {
      "cell_type": "code",
      "source": [
        "import numpy as np\n",
        "\n",
        "def decorate_matrix(matrix):\n",
        "    # Створюємо нову матрицю з одиницями, яка оточує вхідну матрицю\n",
        "    return np.pad(matrix, pad_width=1, mode='constant', constant_values=1)\n",
        "\n",
        "# Приклад використання\n",
        "matrix = np.array([[3, 2], [2, 3]])\n",
        "decorated_matrix = decorate_matrix(matrix)\n",
        "print(decorated_matrix)"
      ],
      "metadata": {
        "colab": {
          "base_uri": "https://localhost:8080/"
        },
        "id": "aJ3IKOlLDpe3",
        "outputId": "942b93ae-1b64-4593-9e8c-0a6bbc0f8fcc"
      },
      "execution_count": 2,
      "outputs": [
        {
          "output_type": "stream",
          "name": "stdout",
          "text": [
            "[[1 1 1 1]\n",
            " [1 3 2 1]\n",
            " [1 2 3 1]\n",
            " [1 1 1 1]]\n"
          ]
        }
      ]
    },
    {
      "cell_type": "markdown",
      "source": [
        "**1.7. Оцінки складності**\n",
        "\n",
        "У цій задачі ви будете досліджувати складність виконання дій над матрицями та векторами, тобто кількість операцій, що їх необхідно виконати, щоб отримати результат в залежності від вхідних розмірів матриць.\n",
        "\n",
        "Як одиницю кількості операцій ми будемо розглядали так званий flop (FLoating-point OPeration). 1 flop -- це одна арифметична операція (додавання, віднімання, множення, ділення) над двома числами, записаними у форматa floating point. Швидкість виконання операцій комп'ютером, зазвичай, вимірюється у Gflop/s (гіга-flop за секунду), тобто скільки мільярдів ($10^9$) операцій в секунду здатен робити комп'ютер.\n",
        "\n",
        "Наприклад, щоб знайти скалярний добуток двох $n$-векторів $u^tv=u_1v_1+\\dots +u_nv_n$, треба виконати $n$ множень та $n-1$ додавання, тобто складність обчислення скалярного добутку двох $n$-векторів дорівнює $(2n-1)$ flop. Часто, порівняно незначні члени виразів опускають. Наприклад, для скалярного добутку, вважають, що складність його обчислення дорівнює приблизно $2n$ flop."
      ],
      "metadata": {
        "id": "lh9wJ1G6Gdjz"
      }
    },
    {
      "cell_type": "markdown",
      "source": [
        "1️⃣ Знайдіть складність обчислення добутку $m\\times n$ матриці $A$ на $n$-вектор $x$.\n",
        "\n",
        "1) Якщо множити способом \"рядок на стовпчик\";\n",
        "2) Якщо знаходити лінійну комбінацію стовпчиків матриці  $A$.\n",
        "\n",
        "Порівняйте складності двох способів.\n"
      ],
      "metadata": {
        "id": "X9Q09TNWIG8P"
      }
    },
    {
      "cell_type": "markdown",
      "source": [
        "## Складність обчислення добутку \\( m X n \\) матриці \\( A \\) на \\( n \\)-вектор \\( x \\)\n",
        "\n",
        "### 1. Спосіб \"рядок на стовпчик\"\n",
        "При множенні матриці \\( A \\) розміром \\( m \\times n \\) на вектор \\( x \\) розміром \\( n \\times 1 \\), кожен елемент результату \\( y_i \\) (де \\( i = 1, \\dots, m \\)) обчислюється як скалярний добуток \\( i \\)-го рядка матриці \\( A \\) на вектор \\( x \\).\n",
        "\n",
        "- **Кількість операцій для одного рядка**:\n",
        "  - \\( n \\) множень (кожен елемент рядка множиться на відповідний елемент вектора \\( x \\)).\n",
        "  - \\( n-1 \\) додавань (сумування результатів множень).\n",
        "\n",
        "  Отже, для одного рядка потрібно \\( 2n - 1 \\) flop.\n",
        "\n",
        "- **Загальна кількість операцій**:\n",
        "  - Оскільки таких рядків \\( m \\), загальна кількість операцій дорівнює \\( m \\times (2n - 1) \\).\n",
        "\n",
        "  Якщо нехтувати меншими членами, складність становить приблизно \\( 2mn \\) flop.\n",
        "\n",
        "---\n",
        "\n",
        "### 2. Спосіб \"лінійна комбінація стовпчиків\"\n",
        "Цей спосіб полягає в тому, що результат \\( y \\) є лінійною комбінацією стовпчиків матриці \\( A \\), де коефіцієнтами комбінації є елементи вектора \\( x \\).\n",
        "\n",
        "- **Кількість операцій для одного стовпчика**:\n",
        "  - Кожен стовпчик матриці \\( A \\) множиться на відповідний елемент вектора \\( x \\), що вимагає \\( m \\) множень.\n",
        "  - Потім результати додаються до вектора \\( y \\), що вимагає \\( m \\) додавань.\n",
        "\n",
        "  Отже, для одного стовпчика потрібно \\( 2m \\) flop.\n",
        "\n",
        "- **Загальна кількість операцій**:\n",
        "  - Оскільки таких стовпчиків \\( n \\), загальна кількість операцій дорівнює \\( n \\times 2m \\).\n",
        "\n",
        "  Складність становить \\( 2mn \\) flop.\n",
        "\n",
        "---\n",
        "\n",
        "### Порівняння складностей\n",
        "- **Спосіб \"рядок на стовпчик\"**: \\( 2mn \\) flop.\n",
        "- **Спосіб \"лінійна комбінація стовпчиків\"**: \\( 2mn \\) flop.\n",
        "\n",
        "Обидва способи мають однакову складність \\( 2mn \\) flop. Вибір способу може залежати від конкретної реалізації та структури даних, але з точки зору кількості операцій вони еквівалентні.\n",
        "\n",
        "---\n",
        "\n",
        "Цей текст має чіткий структурований вигляд і може бути легко скопійований та вставлений."
      ],
      "metadata": {
        "id": "X-3tQrf3QvCN"
      }
    },
    {
      "cell_type": "markdown",
      "source": [
        "2️⃣ Знайдіть складність обчислення добутку двох квадратних матриць порядку $n$ для кожного з чотирьох способів множення матриць. Порівняйте."
      ],
      "metadata": {
        "id": "1Qlomy0YJh13"
      }
    },
    {
      "cell_type": "markdown",
      "source": [
        "## Складність множення двох квадратних матриць порядку $n$\n",
        "\n",
        "### 1. Класичний метод (\"рядок на стовпчик\")\n",
        " Кожен елемент результату — це добуток двох $n$-векторів: $2n$ flop.\n",
        " Всього елементів у матриці $n^2$, тому:\n",
        "\n",
        "  $$ \\mathcal{O}(n^3) \\text{ flop} $$\n",
        "\n",
        "### 2. Метод Винограда\n",
        " Використовує попередні обчислення та меншу кількість операцій множення.\n",
        " Складність:\n",
        "\n",
        "  $$ \\mathcal{O}(n^{2.8}) $$\n",
        "\n",
        "### 3. Метод Штрассена\n",
        " Розбиває матриці на підматриці та рекурсивно обчислює частини.\n",
        " Складність:\n",
        "\n",
        "  $$ \\mathcal{O}(n^{2.81}) $$\n",
        "\n",
        "### 4. Алгоритм Копперсміта-Винограда\n",
        " Один із найшвидших алгоритмів, теоретично $\\mathcal{O}(n^{2.376})$, але не практичний для малих розмірів.\n",
        "\n",
        "Висновок: Класичний метод найзручніший, але асимптотично швидші методи корисні для великих розмірів $n$."
      ],
      "metadata": {
        "id": "mVKaiCj7PMM1"
      }
    },
    {
      "cell_type": "markdown",
      "source": [
        "3️⃣ Реалізуйте 4 способи множення матриць. Протестуйте, скільки часу витрачає кожен спосіб множення матриць. Для тестування можна побудувати випадкові матриці (наприклад, за допомогою np.random) досить великого порядку, для вимірювання часу можна використати функцію %timeit.\n",
        "Порівняйте теоретичні розрахунки з виміряними фактично."
      ],
      "metadata": {
        "id": "bmDttRXURCMM"
      }
    },
    {
      "cell_type": "markdown",
      "source": [
        "Алгоритм Штрассена"
      ],
      "metadata": {
        "id": "eT5ox07kRxFl"
      }
    },
    {
      "cell_type": "code",
      "source": [
        "def strassen_matrix_mult(A, B):\n",
        "    n = A.shape[0]\n",
        "\n",
        "    # Базовий випадок: якщо матриця малого розміру, використовуємо стандартний метод\n",
        "    if n <= 64:\n",
        "        return standard_matrix_mult(A, B)\n",
        "\n",
        "    # Розбиваємо матриці на блоки\n",
        "    mid = n // 2\n",
        "    A11, A12, A21, A22 = A[:mid, :mid], A[:mid, mid:], A[mid:, :mid], A[mid:, mid:]\n",
        "    B11, B12, B21, B22 = B[:mid, :mid], B[:mid, mid:], B[mid:, :mid], B[mid:, mid:]\n",
        "\n",
        "    # Обчислюємо проміжні матриці\n",
        "    P1 = strassen_matrix_mult(A11 + A22, B11 + B22)\n",
        "    P2 = strassen_matrix_mult(A21 + A22, B11)\n",
        "    P3 = strassen_matrix_mult(A11, B12 - B22)\n",
        "    P4 = strassen_matrix_mult(A22, B21 - B11)\n",
        "    P5 = strassen_matrix_mult(A11 + A12, B22)\n",
        "    P6 = strassen_matrix_mult(A21 - A11, B11 + B12)\n",
        "    P7 = strassen_matrix_mult(A12 - A22, B21 + B22)\n",
        "\n",
        "    # Обчислюємо блоки результуючої матриці\n",
        "    C11 = P1 + P4 - P5 + P7\n",
        "    C12 = P3 + P5\n",
        "    C21 = P2 + P4\n",
        "    C22 = P1 + P3 - P2 + P6\n",
        "\n",
        "    # Збираємо результуючу матрицю\n",
        "\n",
        "    return np.vstack((np.hstack((C11, C12)), np.hstack((C21, C22))))"
      ],
      "metadata": {
        "id": "ndsdxRRrRECW"
      },
      "execution_count": 5,
      "outputs": []
    },
    {
      "cell_type": "markdown",
      "source": [
        "Метод Штрассена-Віно"
      ],
      "metadata": {
        "id": "P8V9cZbCSAHm"
      }
    },
    {
      "cell_type": "code",
      "source": [
        "def strassen_winograd_matrix_mult(A, B):\n",
        "    n = A.shape[0]\n",
        "\n",
        "    if n <= 64:\n",
        "        return standard_matrix_mult(A, B)\n",
        "\n",
        "    mid = n // 2\n",
        "    A11, A12, A21, A22 = A[:mid, :mid], A[:mid, mid:], A[mid:, :mid], A[mid:, mid:]\n",
        "    B11, B12, B21, B22 = B[:mid, :mid], B[:mid, mid:], B[mid:, :mid], B[mid:, mid:]\n",
        "\n",
        "    S1 = A21 + A22\n",
        "    S2 = S1 - A11\n",
        "    S3 = A11 - A21\n",
        "    S4 = A12 - S2\n",
        "    T1 = B12 - B11\n",
        "    T2 = B22 - T1\n",
        "    T3 = B22 - B12\n",
        "    T4 = T2 - B21\n",
        "\n",
        "    P1 = strassen_winograd_matrix_mult(A11, B11)\n",
        "    P2 = strassen_winograd_matrix_mult(A12, B21)\n",
        "    P3 = strassen_winograd_matrix_mult(S1, T1)\n",
        "    P4 = strassen_winograd_matrix_mult(S2, T2)\n",
        "    P5 = strassen_winograd_matrix_mult(S3, T3)\n",
        "    P6 = strassen_winograd_matrix_mult(S4, B22)\n",
        "    P7 = strassen_winograd_matrix_mult(A22, T4)\n",
        "\n",
        "    U1 = P1 + P2\n",
        "    U2 = P1 + P4\n",
        "    U3 = U2 + P5\n",
        "    U4 = U3 + P7\n",
        "    U5 = U3 + P3\n",
        "    U6 = U2 + P3\n",
        "    U7 = U6 + P6\n",
        "\n",
        "    C11 = U1\n",
        "    C12 = U7\n",
        "    C21 = U4\n",
        "    C22 = U5\n",
        "\n",
        "    return np.vstack((np.hstack((C11, C12)), np.hstack((C21, C22))))"
      ],
      "metadata": {
        "id": "bkpU_bqXSBGT"
      },
      "execution_count": 6,
      "outputs": []
    },
    {
      "cell_type": "markdown",
      "source": [
        "Метод Копперсміта-Вінограда.\n",
        "Цей метод є дуже складним для реалізації, тому на практиці його рідко використовують. Для простоти ми його не реалізуємо, але він має асимптотичну складність\n",
        "O\n",
        "(\n",
        "n\n",
        "2.376\n",
        ")\n",
        "O(n\n",
        "2.376\n",
        " ).\n",
        "\n",
        "Тестування\n",
        "Створимо випадкові матриці великого розміру (наприклад,\n",
        "512\n",
        "×\n",
        "512\n",
        "512×512) та виміряємо час виконання для кожного методу."
      ],
      "metadata": {
        "id": "aeiku5NJSJ5W"
      }
    },
    {
      "cell_type": "code",
      "source": [
        "# Генеруємо випадкові матриці\n",
        "n = 512\n",
        "A = np.random.rand(n, n)\n",
        "B = np.random.rand(n, n)\n",
        "\n",
        "# Вимірюємо час для стандартного способу\n",
        "print(\"Standard method:\")\n",
        "%timeit standard_matrix_mult(A, B)\n",
        "\n",
        "# Вимірюємо час для алгоритму Штрассена\n",
        "print(\"\\nStrassen method:\")\n",
        "%timeit strassen_matrix_mult(A, B)\n",
        "\n",
        "# Вимірюємо час для методу Штрассена-Віно\n",
        "print(\"\\nStrassen-Winograd method:\")\n",
        "%timeit strassen_winograd_matrix_mult(A, B)"
      ],
      "metadata": {
        "collapsed": true,
        "id": "4QogJNJnSWIY"
      },
      "execution_count": null,
      "outputs": []
    },
    {
      "cell_type": "markdown",
      "source": [
        "**2.3. Виключення Гаусса**\n",
        "\n",
        "Напишіть функцію, яка реалізує виключення Гаусса і зводить квадратну матрицю порядку 4 до зведеної ступінчастої форми. Не забудьте передбачити усілякі неприємності (коефіцієнт для виключення чергової змінної дорівнює 0, рядок перетворюється на нульовий, тощо), щоб ваша функція працювала для довільної матриці. Модифікуйте вашу функцію так, щоб вона працювала і для матриць $3\\times 4$. Модифікована функція знадобиться вам в задачі 2.5."
      ],
      "metadata": {
        "id": "meBn0f7SSe1M"
      }
    },
    {
      "cell_type": "code",
      "source": [
        "import numpy as np\n",
        "\n",
        "def gaussian_elimination(matrix):\n",
        "    # Конвертуємо матрицю у тип float для точних обчислень\n",
        "    matrix = np.array(matrix, dtype=float)\n",
        "    rows, cols = matrix.shape\n",
        "\n",
        "    for r in range(rows):\n",
        "        # Знаходимо перший ненульовий елемент у стовпці r, починаючи з рядка r\n",
        "        pivot = r\n",
        "        while pivot < rows and matrix[pivot, r] == 0:\n",
        "            pivot += 1\n",
        "        if pivot == rows:\n",
        "            continue  # Усі елементи у стовпці r дорівнюють нулю\n",
        "\n",
        "        # Міняємо місцями поточний рядок з рядком, де знайдено ненульовий елемент\n",
        "        if pivot != r:\n",
        "            matrix[[r, pivot]] = matrix[[pivot, r]]\n",
        "\n",
        "        # Нормалізуємо поточний рядок, щоб перший ненульовий елемент став 1\n",
        "        matrix[r] = matrix[r] / matrix[r, r]\n",
        "\n",
        "        # Виключаємо поточний стовпець у всіх інших рядках\n",
        "        for i in range(rows):\n",
        "            if i != r:\n",
        "                matrix[i] = matrix[i] - matrix[i, r] * matrix[r]\n",
        "\n",
        "    return matrix\n",
        "\n",
        "# Приклад використання для квадратної матриці 4x4\n",
        "A = np.array([\n",
        "    [2, -1, 3, 1],\n",
        "    [4, -1, 5, 4],\n",
        "    [1, -1, 1, 1],\n",
        "    [3, -1, 4, 2]\n",
        "])\n",
        "\n",
        "print(\"Оригінальна матриця:\")\n",
        "print(A)\n",
        "\n",
        "reduced_matrix = gaussian_elimination(A)\n",
        "print(\"\\nЗведена ступінчаста форма:\")\n",
        "print(reduced_matrix)\n",
        "\n",
        "# Приклад використання для матриці 3x4\n",
        "B = np.array([\n",
        "    [1, 2, 3, 4],\n",
        "    [2, 4, 6, 8],\n",
        "    [3, 6, 9, 12]\n",
        "])\n",
        "\n",
        "print(\"\\nОригінальна матриця 3x4:\")\n",
        "print(B)\n",
        "\n",
        "reduced_matrix_B = gaussian_elimination(B)\n",
        "print(\"\\nЗведена ступінчаста форма для матриці 3x4:\")\n",
        "print(reduced_matrix_B)"
      ],
      "metadata": {
        "colab": {
          "base_uri": "https://localhost:8080/"
        },
        "id": "DaZwDxLrVF_f",
        "outputId": "2e0d0af0-0928-4272-bcef-f208792a80ec"
      },
      "execution_count": 8,
      "outputs": [
        {
          "output_type": "stream",
          "name": "stdout",
          "text": [
            "Оригінальна матриця:\n",
            "[[ 2 -1  3  1]\n",
            " [ 4 -1  5  4]\n",
            " [ 1 -1  1  1]\n",
            " [ 3 -1  4  2]]\n",
            "\n",
            "Зведена ступінчаста форма:\n",
            "[[ 1.  0.  0.  0.]\n",
            " [ 0.  1.  0.  0.]\n",
            " [-0. -0.  1.  0.]\n",
            " [-0. -0. -0.  1.]]\n",
            "\n",
            "Оригінальна матриця 3x4:\n",
            "[[ 1  2  3  4]\n",
            " [ 2  4  6  8]\n",
            " [ 3  6  9 12]]\n",
            "\n",
            "Зведена ступінчаста форма для матриці 3x4:\n",
            "[[1. 2. 3. 4.]\n",
            " [0. 0. 0. 0.]\n",
            " [0. 0. 0. 0.]]\n"
          ]
        }
      ]
    },
    {
      "cell_type": "markdown",
      "source": [
        "**Пояснення:**\n",
        "Пошук опорного елемента (pivot): Функція шукає перший ненульовий елемент у поточному стовпці, починаючи з поточного рядка. Якщо всі елементи у стовпці дорівнюють нулю, функція переходить до наступного стовпця.\n",
        "\n",
        "Обмін рядків: Якщо опорний елемент знаходиться не в поточному рядку, функція міняє місцями рядки.\n",
        "\n",
        "Нормалізація рядка: Поточний рядок ділиться на опорний елемент, щоб зробити його рівним 1.\n",
        "\n",
        "Виключення: Використовуючи поточний рядок, функція виключає поточний стовпець у всіх інших рядках.\n",
        "\n",
        "Ця функція працює для квадратних матриць будь-якого розміру, а також для прямокутних матриць, таких як\n",
        "3\n",
        "×\n",
        "4\n",
        ". Вона враховує випадки, коли опорний елемент дорівнює нулю або коли рядок стає нульовим."
      ],
      "metadata": {
        "id": "G17bZXUiVI5q"
      }
    },
    {
      "cell_type": "markdown",
      "source": [
        "**3.1. Калькулятор підстановок**\n",
        "\n",
        "Створіть калькулятор для підстановок. Напишіть функції для\n",
        "\n",
        "1) обчислення добутку підстановок;\n",
        "\n",
        "2) обчислення оберненої підстановки;\n",
        "\n",
        "3) розкладу підстановки в добуток незалежних циклів та нерухомих елементів;\n",
        "\n",
        "4) розкладу підстановки в добуток транспозицій;\n",
        "\n",
        "5) знаходження знаку (парності) підстановки;\n",
        "\n",
        "6) піднесення підстановки до степеня."
      ],
      "metadata": {
        "id": "TQIiNXMgYl-u"
      }
    },
    {
      "cell_type": "code",
      "source": [
        "import pandas as pd\n",
        "from scipy import linalg\n",
        "import numpy as np\n",
        "import matplotlib.pyplot as plt\n",
        "from sympy import *\n",
        "\n",
        "# Задаємо матрицю A та вектор b\n",
        "A = np.array([[1, 2, 0], [2, 4, 1], [1, 3, 2]])  # 3x3 матриця\n",
        "b = np.array([1, 2, 3])  # вектор правої частини\n",
        "\n",
        "# Розв'язуємо систему Ax = b за допомогою numpy\n",
        "x1 = np.linalg.solve(A, b)\n",
        "\n",
        "# Розв'язуємо систему Ax = b за допомогою scipy\n",
        "x2 = linalg.solve(A, b)\n",
        "\n",
        "# Виводимо результати\n",
        "print(f'''Розв'язок системи Ax=b з A={A}, b={b}:\n",
        "x = {x1} (numpy)\n",
        "x = {x2} (scipy)''')\n",
        "print('------------------------------')\n",
        "\n",
        "# Зведена ступінчаста форма (RREF) за допомогою sympy\n",
        "M = Matrix([[1, 0, -1, 1, 0, 0], [-1, 1, 0, 0, 1, 0], [0, -1, 1, 0, 0, -1], [0, 0, 0, -1, -1, 1]])\n",
        "M_rref = M.rref()  # Знаходимо RREF\n",
        "\n",
        "# Виводимо RREF та стовпці з опорними елементами\n",
        "print(f'''Зведена ступінчаста форма матриці M:\n",
        "M = {M}\n",
        "RREF(M) = {M_rref[0]}\n",
        "Опорні стовпці: {M_rref[1]}''')\n",
        "print('------------------------------')\n",
        "\n",
        "# LU-розклад за допомогою scipy\n",
        "A_LU = linalg.lu(A)\n",
        "\n",
        "# Виводимо LU-розклад\n",
        "print(f'''LU-розклад матриці A={A}:\n",
        "P = {A_LU[0]}  # Матриця перестановок\n",
        "L = {A_LU[1]}  # Нижня трикутна матриця\n",
        "U = {A_LU[2]}  # Верхня трикутна матриця''')\n",
        "print('------------------------------')\n",
        "\n",
        "# Побудова графіків\n",
        "x = np.linspace(1, 2, 10)  # 10 точок, рівномірно розподілених на інтервалі [1, 2]\n",
        "y = 2 * x + 1  # Значення функції y = 2x + 1\n",
        "\n",
        "# Створюємо фігуру та вісь\n",
        "fig = plt.figure(figsize=(4, 4))\n",
        "ax = plt.gca()\n",
        "\n",
        "# Додаємо точковий графік (scatter plot)\n",
        "ax.scatter(x, y, s=36, c='r', label='Точки')\n",
        "\n",
        "# Додаємо лінійний графік (plot)\n",
        "ax.plot(x, y, c='b', label='Лінія y = 2x + 1')\n",
        "\n",
        "# Налаштування графіка\n",
        "ax.set_title(\"Лінія та точки на ній\")\n",
        "ax.grid(visible=True)\n",
        "ax.legend()\n",
        "\n",
        "# Показуємо графік\n",
        "plt.show()"
      ],
      "metadata": {
        "colab": {
          "base_uri": "https://localhost:8080/",
          "height": 807
        },
        "id": "aY3KiSAzYuxY",
        "outputId": "66e6c23e-2559-4568-f708-af2e070c8c96"
      },
      "execution_count": 9,
      "outputs": [
        {
          "output_type": "stream",
          "name": "stdout",
          "text": [
            "Розв'язок системи Ax=b з A=[[1 2 0]\n",
            " [2 4 1]\n",
            " [1 3 2]], b=[1 2 3]:\n",
            "x = [-3.  2. -0.] (numpy)\n",
            "x = [-3.  2. -0.] (scipy)\n",
            "------------------------------\n",
            "Зведена ступінчаста форма матриці M:\n",
            "M = Matrix([[1, 0, -1, 1, 0, 0], [-1, 1, 0, 0, 1, 0], [0, -1, 1, 0, 0, -1], [0, 0, 0, -1, -1, 1]])\n",
            "RREF(M) = Matrix([[1, 0, -1, 0, -1, 1], [0, 1, -1, 0, 0, 1], [0, 0, 0, 1, 1, -1], [0, 0, 0, 0, 0, 0]])\n",
            "Опорні стовпці: (0, 1, 3)\n",
            "------------------------------\n",
            "LU-розклад матриці A=[[1 2 0]\n",
            " [2 4 1]\n",
            " [1 3 2]]:\n",
            "P = [[0. 0. 1.]\n",
            " [1. 0. 0.]\n",
            " [0. 1. 0.]]  # Матриця перестановок\n",
            "L = [[1.  0.  0. ]\n",
            " [0.5 1.  0. ]\n",
            " [0.5 0.  1. ]]  # Нижня трикутна матриця\n",
            "U = [[ 2.   4.   1. ]\n",
            " [ 0.   1.   1.5]\n",
            " [ 0.   0.  -0.5]]  # Верхня трикутна матриця\n",
            "------------------------------\n"
          ]
        },
        {
          "output_type": "display_data",
          "data": {
            "text/plain": [
              "<Figure size 400x400 with 1 Axes>"
            ],
            "image/png": "[encoded data removed]"
          },
          "metadata": {}
        }
      ]
    },
    {
      "cell_type": "markdown",
      "source": [
        "**Пояснення коду:**\n",
        "Розв'язання системи лінійних рівнянь:\n",
        "\n",
        "Використовуємо numpy.linalg.solve та scipy.linalg.solve для розв'язання системи\n",
        "A\n",
        "x\n",
        "=\n",
        "b\n",
        "Ax=b.\n",
        "\n",
        "Результати з обох бібліотек повинні бути однаковими.\n",
        "\n",
        "Зведена ступінчаста форма (RREF):\n",
        "\n",
        "Використовуємо sympy.Matrix.rref() для знаходження RREF матриці\n",
        "M\n",
        "M.\n",
        "\n",
        "Виводимо RREF та індекси опорних стовпців.\n",
        "\n",
        "LU-розклад:\n",
        "\n",
        "Використовуємо scipy.linalg.lu для знаходження LU-розкладу матриці\n",
        "A\n",
        "A.\n",
        "\n",
        "Виводимо матрицю перестановок\n",
        "P\n",
        "P, нижню трикутну матрицю\n",
        "L\n",
        "L та верхню трикутну матрицю\n",
        "U\n",
        "U.\n",
        "\n",
        "Побудова графіків:\n",
        "\n",
        "Створюємо набір точок\n",
        "x\n",
        "x на інтервалі\n",
        "[\n",
        "1\n",
        ",\n",
        "2\n",
        "]\n",
        "[1,2].\n",
        "\n",
        "Обчислюємо значення функції\n",
        "y\n",
        "=\n",
        "2\n",
        "x\n",
        "+\n",
        "1\n",
        "y=2x+1.\n",
        "\n",
        "Використовуємо matplotlib для побудови точкового графіка (scatter plot) та лінійного графіка (plot).\n",
        "\n",
        "**Результати:**\n",
        "Розв'язок системи\n",
        "A\n",
        "x\n",
        "=\n",
        "b\n",
        "Ax=b.\n",
        "\n",
        "Зведена ступінчаста форма матриці\n",
        "M\n",
        "M.\n",
        "\n",
        "LU-розклад матриці\n",
        "A\n",
        "A.\n",
        "\n",
        "Графік лінії\n",
        "y\n",
        "=\n",
        "2\n",
        "x\n",
        "+\n",
        "1\n",
        "y=2x+1 та точок на ній."
      ],
      "metadata": {
        "id": "KGWf8YLgY1gU"
      }
    }
  ]
}
