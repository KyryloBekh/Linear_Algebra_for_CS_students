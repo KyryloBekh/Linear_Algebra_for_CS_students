{
 "cells": [
  {
   "cell_type": "markdown",
   "id": "2f6ce096-493b-4e83-8fe9-679fa9cb4bed",
   "metadata": {},
   "source": [
    "<a target=\"_blank\" href=\"https://colab.research.google.com/github/LPolyakova/Linear_Algebra_for_CS_students/blob/main/CP/LA_CP_05_Euclidean_spaces.ipynb\">\n",
    "  <img src=\"https://colab.research.google.com/assets/colab-badge.svg\" alt=\"Open In Colab\"/>\n",
    "</a>"
   ]
  },
  {
   "cell_type": "markdown",
   "id": "37c98f43-7de0-4705-9027-086ec1ce2609",
   "metadata": {},
   "source": [
    "# ЛА-Практика програмування-05. Евклідові простори"
   ]
  },
  {
   "cell_type": "code",
   "execution_count": 1,
   "id": "78a0c669-3e61-42ca-90f6-59cfc254786e",
   "metadata": {},
   "outputs": [],
   "source": [
    "# these imports may be useful\n",
    "\n",
    "import pandas as pd\n",
    "from scipy import linalg\n",
    "from scipy.spatial.distance import pdist, cdist\n",
    "import numpy as np\n",
    "import matplotlib.pyplot as plt\n",
    "from sklearn import linear_model\n"
   ]
  },
  {
   "cell_type": "markdown",
   "id": "b90895ce-5ab9-4197-85cc-0dc2f586d721",
   "metadata": {},
   "source": [
    " #### Деякі інструменти, які стануть у нагоді "
   ]
  },
  {
   "cell_type": "code",
   "execution_count": 2,
   "id": "96f03867-c0bc-43c0-a7bd-4a357860aef5",
   "metadata": {
    "scrolled": true
   },
   "outputs": [
    {
     "name": "stdout",
     "output_type": "stream",
     "text": [
      "Inner product of vectors e1=[1 2 2] and e2=[ 2  3 -4] is 0\n",
      "___________________________________\n",
      "The cosine distance between e1=[1 2 2] and e2=[ 2  3 -4] is  1.0\n",
      "___________________________________\n",
      "Euclidean norm of e1=[1 2 2] is 3.0. \n",
      " Frobenius norm of A=[[1 1]\n",
      " [0 1]] is 1.7320508075688772\n",
      "___________________________________\n",
      "QR-decomposition of [[ 1  1  3]\n",
      " [ 2  1  2]\n",
      " [ 2 -6  1]\n",
      " [ 0  1  1]] is Q=[[-0.33333333 -0.36514837  0.77067464]\n",
      " [-0.66666667 -0.54772256 -0.49543369]\n",
      " [-0.66666667  0.73029674  0.11009638]\n",
      " [-0.         -0.18257419  0.38533732]], R=[[-3.          3.         -3.        ]\n",
      " [ 0.         -5.47722558 -1.64316767]\n",
      " [ 0.          0.          1.81659021]]. \n",
      "\n",
      "It means that the columns of Q form the orthonormal basis of the space spanned by original vectors\n"
     ]
    }
   ],
   "source": [
    "# these tools may be useful\n",
    "\n",
    "# inner product\n",
    "e1 = np.array([1,2,2])\n",
    "e2 = np.array([2,3,-4])\n",
    "p = np.dot(e1, e2)\n",
    "print(f'''Inner product of vectors e1={e1} and e2={e2} is {p}''')\n",
    "print('___________________________________')\n",
    "\n",
    "# calculate distance between points\n",
    "metric = 'cosine'\n",
    "d = cdist([e1], [e2], metric=metric) #array of pairwise distances, here of the shape (1,1) \n",
    "print(f'''The {metric} distance between e1={e1} and e2={e2} is  {d[0][0]}''')\n",
    "print('___________________________________')\n",
    "\n",
    "\n",
    "# vector norm, matrix norm\n",
    "A = np.array([[1,1], [0,1]])\n",
    "e1_norm = np.linalg.norm(e1) # default Euclidean norm\n",
    "A_norm = np.linalg.norm(A)   # default Frobenius norm\n",
    "print(f'''Euclidean norm of e1={e1} is {e1_norm}. \\n Frobenius norm of A={A} is {A_norm}''')\n",
    "print('___________________________________')\n",
    "\n",
    "\n",
    "# qr decomposition\n",
    "B = np.array([[1, 2, 2, 0], [1, 1, -6, 1], [3, 2, 1, 1]]) #originally have three 4-vectors.\n",
    "Bt = B.T  #write them as columns of a matrix\n",
    "q, r = np.linalg.qr(Bt)\n",
    "print(f'''QR-decomposition of {Bt} is Q={q}, R={r}. \\n\n",
    "It means that the columns of Q form the orthonormal basis of the space spanned by original vectors''')\n"
   ]
  },
  {
   "cell_type": "markdown",
   "id": "9fdd79dd-2132-4e66-9f29-2577a2d43534",
   "metadata": {},
   "source": [
    "## Вправи"
   ]
  },
  {
   "cell_type": "markdown",
   "id": "380c0d0f-c83c-4bc3-bbfa-d25db6150481",
   "metadata": {},
   "source": [
    "💻  **5.1. Ортонормований базис.** Напишіть функцію, яка перевіряє, чи є базис, що його дано на вході, ортонормованим. Напишіть функцію, яка розкладає даний вектор за  даним ортонормованим базисом, шукаючи його проекції на базисні вектори за допомогою скалярних добутків. Протестуйте свої функції. Для тестування можна використовувати дані з задач математичного практикуму."
   ]
  },
  {
   "cell_type": "code",
   "execution_count": null,
   "id": "2a6c1b73-1310-41b4-8667-86c63c60bd06",
   "metadata": {},
   "outputs": [],
   "source": [
    "#write your code here"
   ]
  },
  {
   "cell_type": "markdown",
   "id": "9fb9cfda-a26d-4f3d-855a-46bd69392ac1",
   "metadata": {},
   "source": [
    "💻  **5.2. Алгоритм Грама-Шмідта.**  Напишіть програму, яка здійснює для даної системи векторів (довільної кількості) у $\\mathbb{R}^4$ процес ортогоналізації та виводить ортонормований базис лінійної оболонки даних векторів. Порівняйте свої результати з QR-розкладом матриці, що складається з координат даних векторів. Для знаходження QR-розкладу можна використовувати numpy.linalg.qr або scipy.linalg.qr."
   ]
  },
  {
   "cell_type": "code",
   "execution_count": null,
   "id": "276dfa33-ad6d-4c60-9f32-adad434a6f9c",
   "metadata": {},
   "outputs": [],
   "source": [
    "#write your code here"
   ]
  },
  {
   "cell_type": "markdown",
   "id": "3d7f922a-1bab-4c05-9b07-d99c7f548aec",
   "metadata": {},
   "source": [
    "💻  **5.3. Матриця проекції.** Напишіть функцію, яка обчислює матрицю ортогональної проекції на підпростір, натягнутий на дані вектори. Протестуйте цю функцію на прикладах (можна взяти приклади з математичного практикуму). Проілюструйте дію функції."
   ]
  },
  {
   "cell_type": "code",
   "execution_count": null,
   "id": "95d85f9e-488b-4804-918b-01ba3b34e83e",
   "metadata": {},
   "outputs": [],
   "source": [
    "#write your code here"
   ]
  },
  {
   "cell_type": "markdown",
   "id": "5fc800f0-bd91-40ea-a29b-8e0713d01c9c",
   "metadata": {},
   "source": [
    "💻  **5.4. Розв'язання трикутників.** Напишіть програму, яка за заданими трьома точками площини (або тривимірного простору) \n",
    "1) Малює трикутник з вершинами у даних точках.\n",
    "2) Обчислює довжини сторін трикутника.\n",
    "3) Обчислює кути трикутника.\n",
    "\n",
    "Використайте вбудовані функції, що обчислюють норми векторів та скалярні добутки. Також можна використати вбудовану функцію scipy.spatial.distance.pdist, що обчислює попарні відстані між точками й видає їх у вигляді списку або (якщо додатково застосувати функцію  squareform) у вигляді матриці."
   ]
  },
  {
   "cell_type": "code",
   "execution_count": null,
   "id": "ddb58065-1cf4-48a4-a681-8dfd1df9b8f5",
   "metadata": {},
   "outputs": [],
   "source": [
    "#write your code here"
   ]
  },
  {
   "cell_type": "markdown",
   "id": "96cbaf11-b3ca-4e1e-b5c4-17b62da3f355",
   "metadata": {},
   "source": [
    "💻  **5.5. Що більше метрик, то краще.** Відстань між точками у просторі можна вимірювати не лише за допомогою евклідової метрики. Хоча лише евклідова метрика має природній вираз через скалярний добуток. Поекспериментуйте з різними метриками, що їх пропонує обчислювати модуль scipy.spatial.distance. Навчиться ними користуватися, зрозумійте їх геометричний зміст. Намалюйте в кожній з метрик одиничне коло, тобто множину точок, що знаходяться на відстані 1 від початку координат. Зверніть увагу на те, що ці \"кола\" не обов'язково круглі. "
   ]
  },
  {
   "cell_type": "code",
   "execution_count": null,
   "id": "135e430e-4782-49ab-917c-0a322b381b92",
   "metadata": {},
   "outputs": [],
   "source": [
    "#write your code here"
   ]
  },
  {
   "cell_type": "markdown",
   "id": "2951cc3c-78c6-4b0d-a64a-a901fd4e69ad",
   "metadata": {},
   "source": [
    "## Задачі"
   ]
  },
  {
   "cell_type": "code",
   "execution_count": null,
   "id": "94e86ff0-ee4b-416a-9ad6-6bb2a8a4fc7d",
   "metadata": {},
   "outputs": [],
   "source": [
    "# import section"
   ]
  },
  {
   "cell_type": "markdown",
   "id": "117a0d62-da4e-409f-a64b-837d343d4046",
   "metadata": {},
   "source": [
    "🧩 **5.6. Лінійна регресія.** У цій задачі ми спробуємо побудувати модель, яка дозволить передбачувати індекс жиру людини (так званий BFI або  body fat index), який дорівнює відстотку жиру в тілі людини. Згідно з медичиними дослідженнями індекс жиру людини розраховується за формулою ${\\rm BFI} = 100 (\\frac{4.57}{\\rho} - 4.142)$, де  $\\rho$ -- густина тіла людини. Спосіб знаходження густини (ще з часів Архімеда) передбачає повне занурення людини у рідину (воду) з подальшим вимірюванням об'єму витісненої рідини. Це не дуже зручний спосіб (особливо для людини, що її пхають у воду), тому можна піти іншим шляхом і змоделювати індекс BFI, маючи у розпоряджені виміри людини, що знаходяться простішим чином. Ми побудуємо модель лінійної залежності  BFI  від таких параметрів людини як вага (weight) у кілограмах, зріст (height), окружність талії (abdomen), окружність бедер (hip), окружність шиї (neck) у сантиметрах. Дані для побудови моделі можна завантажити з файлу data\\BFI.xlsx. Дані вказано для жінок, отже, якщо ви потім захочете скористатися побудованою моделлю, то майте на увазі, що для чоловіків вона не спрацює."
   ]
  },
  {
   "cell_type": "code",
   "execution_count": 3,
   "id": "34684d55-09f5-42b0-b5bb-92761b29c1b6",
   "metadata": {},
   "outputs": [
    {
     "data": {
      "text/html": [
       "<div>\n",
       "<style scoped>\n",
       "    .dataframe tbody tr th:only-of-type {\n",
       "        vertical-align: middle;\n",
       "    }\n",
       "\n",
       "    .dataframe tbody tr th {\n",
       "        vertical-align: top;\n",
       "    }\n",
       "\n",
       "    .dataframe thead th {\n",
       "        text-align: right;\n",
       "    }\n",
       "</style>\n",
       "<table border=\"1\" class=\"dataframe\">\n",
       "  <thead>\n",
       "    <tr style=\"text-align: right;\">\n",
       "      <th></th>\n",
       "      <th>Weight</th>\n",
       "      <th>Height</th>\n",
       "      <th>Abdomen</th>\n",
       "      <th>Neck</th>\n",
       "      <th>Hip</th>\n",
       "      <th>BFI</th>\n",
       "    </tr>\n",
       "  </thead>\n",
       "  <tbody>\n",
       "    <tr>\n",
       "      <th>0</th>\n",
       "      <td>55</td>\n",
       "      <td>150</td>\n",
       "      <td>64</td>\n",
       "      <td>34</td>\n",
       "      <td>90</td>\n",
       "      <td>22</td>\n",
       "    </tr>\n",
       "    <tr>\n",
       "      <th>1</th>\n",
       "      <td>80</td>\n",
       "      <td>179</td>\n",
       "      <td>70</td>\n",
       "      <td>42</td>\n",
       "      <td>95</td>\n",
       "      <td>16</td>\n",
       "    </tr>\n",
       "    <tr>\n",
       "      <th>2</th>\n",
       "      <td>80</td>\n",
       "      <td>161</td>\n",
       "      <td>75</td>\n",
       "      <td>38</td>\n",
       "      <td>100</td>\n",
       "      <td>28</td>\n",
       "    </tr>\n",
       "    <tr>\n",
       "      <th>3</th>\n",
       "      <td>54</td>\n",
       "      <td>164</td>\n",
       "      <td>62</td>\n",
       "      <td>33</td>\n",
       "      <td>89</td>\n",
       "      <td>17</td>\n",
       "    </tr>\n",
       "    <tr>\n",
       "      <th>4</th>\n",
       "      <td>90</td>\n",
       "      <td>158</td>\n",
       "      <td>75</td>\n",
       "      <td>38</td>\n",
       "      <td>100</td>\n",
       "      <td>29</td>\n",
       "    </tr>\n",
       "    <tr>\n",
       "      <th>5</th>\n",
       "      <td>70</td>\n",
       "      <td>165</td>\n",
       "      <td>71</td>\n",
       "      <td>35</td>\n",
       "      <td>99</td>\n",
       "      <td>26</td>\n",
       "    </tr>\n",
       "    <tr>\n",
       "      <th>6</th>\n",
       "      <td>85</td>\n",
       "      <td>156</td>\n",
       "      <td>80</td>\n",
       "      <td>40</td>\n",
       "      <td>112</td>\n",
       "      <td>37</td>\n",
       "    </tr>\n",
       "    <tr>\n",
       "      <th>7</th>\n",
       "      <td>52</td>\n",
       "      <td>170</td>\n",
       "      <td>61</td>\n",
       "      <td>32</td>\n",
       "      <td>90</td>\n",
       "      <td>16</td>\n",
       "    </tr>\n",
       "    <tr>\n",
       "      <th>8</th>\n",
       "      <td>63</td>\n",
       "      <td>160</td>\n",
       "      <td>74</td>\n",
       "      <td>37</td>\n",
       "      <td>96</td>\n",
       "      <td>26</td>\n",
       "    </tr>\n",
       "    <tr>\n",
       "      <th>9</th>\n",
       "      <td>49</td>\n",
       "      <td>162</td>\n",
       "      <td>59</td>\n",
       "      <td>30</td>\n",
       "      <td>88</td>\n",
       "      <td>17</td>\n",
       "    </tr>\n",
       "  </tbody>\n",
       "</table>\n",
       "</div>"
      ],
      "text/plain": [
       "   Weight  Height  Abdomen  Neck  Hip  BFI\n",
       "0      55     150       64    34   90   22\n",
       "1      80     179       70    42   95   16\n",
       "2      80     161       75    38  100   28\n",
       "3      54     164       62    33   89   17\n",
       "4      90     158       75    38  100   29\n",
       "5      70     165       71    35   99   26\n",
       "6      85     156       80    40  112   37\n",
       "7      52     170       61    32   90   16\n",
       "8      63     160       74    37   96   26\n",
       "9      49     162       59    30   88   17"
      ]
     },
     "execution_count": 3,
     "metadata": {},
     "output_type": "execute_result"
    }
   ],
   "source": [
    "df_bfi = pd.read_excel('data\\\\BFI.xlsx')\n",
    "df_bfi"
   ]
  },
  {
   "cell_type": "markdown",
   "id": "55b41f92-1ca2-4fa4-a54b-74665ddb8feb",
   "metadata": {},
   "source": [
    "1️⃣ Розглянемо модель лінійної залежності $\\overline{BFI} = \\theta_0+\\theta_1 w+\\theta_2 l+\\theta_3 a+\\theta_4 n +\\theta_5 h$ з невідомим вектором коефіцієнтів $\\Theta = (\\theta_0, \\dots, \\theta_5)$. Підставте дані для змінних $w, l, a, n, h$, а також значення цільової змінної BFI до попереднього рівняння та отримайте матрицю $A$ й вектор правої частини $y$ у системі $A\\Theta = y$ для знаходження невідомого вектора $\\Theta$. З'ясуйте, чи має ця система розв'язок? Обережно: матриця системи не є квадратною, отже, стандартний np.linalg.solve для знаходження розв'язку не спрацює."
   ]
  },
  {
   "cell_type": "code",
   "execution_count": null,
   "id": "6912b86f-38ae-4d08-9da0-b8242b919b5d",
   "metadata": {},
   "outputs": [],
   "source": [
    "#write your code here"
   ]
  },
  {
   "cell_type": "markdown",
   "id": "55217c5f-9302-4626-aeb1-4acb1198f74c",
   "metadata": {},
   "source": [
    "✔️ Ваші міркування запишіть тут."
   ]
  },
  {
   "cell_type": "markdown",
   "id": "c849a730-ddd0-4d98-ac41-dc9a0f8a7948",
   "metadata": {},
   "source": [
    "2️⃣ Оскільки точного розв'язку не знайшлося, то будемо шукати найкращий розв'язок за допомогою методу найменших квадратів. Для цього домножимо обидві боки системи на матрицю $A^t$ та побудуємо так звану нормальну систему $A^tA\\Theta = A^t y$ для знаходження вектора $\\Theta$. Визначте матрицю $A^tA$ та вектор правої частини $A^t y$ цієї системи. Розв'яжіть нормальну систему (наприклад, за допомогою np.linalg.solve) і знайдіть вектор $\\Theta$."
   ]
  },
  {
   "cell_type": "code",
   "execution_count": null,
   "id": "9ea65500-141b-4518-97e4-59f8fbf21a7f",
   "metadata": {},
   "outputs": [],
   "source": [
    "#write your code here"
   ]
  },
  {
   "cell_type": "markdown",
   "id": "b239b780-929a-4c9a-90bb-f5f477cc06ff",
   "metadata": {},
   "source": [
    "3️⃣ Знайдемо розв'язок ще одним способом. Нехай $A=QR$ -- QR-розклад матриці $A$. Підставте вираз для $A$ в нормальну систему й спростіть вирази. Скористайтеся тим, що матриця $Q$ має ортонормовані стовпці (отже, $Q^tQ=$ чому?), а матриця $R$ -- невироджена верхньотрикутна. Зі спрощеної системи виразіть вектор $\\Theta$ через $Q, R, y$. Поміркуйте над тим, чи буде такий спосіб обчислення $\\Theta$ кращим порівняно зі стандартними методами розв'язання нормальної системи (методом Гауса або через LU-розклад). У яких випадках?"
   ]
  },
  {
   "cell_type": "markdown",
   "id": "b57a3f1f-ff17-45b0-a941-59971382b9db",
   "metadata": {},
   "source": [
    "✔️ Ваші міркування запишіть тут."
   ]
  },
  {
   "cell_type": "markdown",
   "id": "621cd8a9-259a-45af-a30b-5738a782dac4",
   "metadata": {},
   "source": [
    "4️ Обчисліть QR-розклад матриці $A$ й знайдіть  $\\Theta$. Порівняйте з тим розв'язком, що ви знайшли його вище."
   ]
  },
  {
   "cell_type": "code",
   "execution_count": null,
   "id": "4f072263-5e5d-4d71-9d50-91e7f7d635d5",
   "metadata": {},
   "outputs": [],
   "source": [
    "#write your code here\n"
   ]
  },
  {
   "cell_type": "markdown",
   "id": "d22e5a76-875d-4fb9-8664-630311f1c79b",
   "metadata": {},
   "source": [
    "5️⃣ Тепер скористайтеся стандартним класом LinearRegression для побудови моделі лінійної регресії з пакету sklearn.linear_model.\n",
    "Атририбути reg.intercept_, reg.coef_, що ви їх отримаєте після того, як модель буде побудовано -- це шукані коефцієнти моделі $\\theta_0$ та $(\\theta_1, \\dots, \\theta_5)$ відповідно. Якщо ви все зробили вірно, то вони мають співпасти з тими, що ви знайшли вище. Таким чином, тепер ви знаєте, що знаходиться \"під капотом\" у вбудованих методів побудови лінійних моделей."
   ]
  },
  {
   "cell_type": "code",
   "execution_count": null,
   "id": "26372f68-b411-46d9-aee0-223100137e74",
   "metadata": {},
   "outputs": [],
   "source": [
    "reg = linear_model.LinearRegression()\n",
    "# use reg.fit() to build the model"
   ]
  },
  {
   "cell_type": "markdown",
   "id": "c3cfcebf-64bd-4e19-a0a2-b747e5597708",
   "metadata": {},
   "source": [
    "🧩 **5.7. TF-IDF пошук документів.**\n",
    "\n",
    "У цій задачі ми подивимося на один із засобів пошуку релевантних документів за ключовими словами серед певної множини документів (так званого корпусу).\n",
    "\n",
    "Підхід, який ми використаємо, грунтується на обчисленні двох мір, які характеризують, наскільки часто зустрічаються ті чи інші ключові слова в документах.\n",
    "Ці міри мають назви TF(Term Frequency) та IDF(Inverse Document Frequency). Ми розглянемо їх визначення, а також дію на \"іграшковому\"  прикладі. Замість ключових слів у нас будуть букви(символи), а замість документів -- рядки символів.\n",
    "\n",
    "Міра TF вимірює, наскільки часто зустрічається конкретне слово в конкретному документі, і визначається як доля даного слова серед усіх слів документу:\n",
    "$$TF(word, document) = \\frac{number\\ of\\ 'word'\\ in\\ document}{total\\  number\\ of\\ words\\ in\\ document}$$\n",
    "\n",
    "Наприклад, ми можемо визначити міру TF для символів та рядків в такий спосіб"
   ]
  },
  {
   "cell_type": "code",
   "execution_count": 4,
   "id": "5b5d6c58-e370-4fce-8e2f-0883cb8e3ce1",
   "metadata": {},
   "outputs": [
    {
     "name": "stdout",
     "output_type": "stream",
     "text": [
      "Symbol 'a' has TF 0.538 in document 'ababagalamaga' \n"
     ]
    }
   ],
   "source": [
    "docs = ['ababagalamaga',\n",
    "        'abracadabra',\n",
    "        'baccara',\n",
    "        'gml' ]\n",
    "\n",
    "symbols = ['a', 'b', 'c', 'd', 'g', 'l', 'm', 'r']\n",
    "\n",
    "#term frequency\n",
    "def tf(s, doc):\n",
    "    '''Returns the term frequency of the symbol s in the string doc'''\n",
    "    return doc.count(s) / len(doc)\n",
    "\n",
    "print(f'''Symbol '{symbols[0]}' has TF {round(tf(symbols[0], docs[0]), 3)} in document '{docs[0]}' ''')"
   ]
  },
  {
   "cell_type": "markdown",
   "id": "ab29a715-4dc6-4c7f-b6b4-4a59f2bf1f08",
   "metadata": {},
   "source": [
    "На відміну від міри TF, яка визначає, наскільки важливим є певне слово в документі, міра IDF слідкує за тим, чи не є це слово \"занадто уживаним\", а отже, й таким, що не несе багато змісту (наприклад, як прийменники або артіклі).  IDF рахує відношення кількості усіх документів корпусу до кількості тих, що містять певне слово. З технічних причин зручніше додавати 1 у знаменнику (бо якщо слово не зустрічається в жодному з документів, то в знаменнику опиниться 0) і в чисельнику (подумайте, чому), а також розглядати логарифм цієї величини, збільшений на 1.\n",
    "\n",
    "$$IDF(word, corpus) = \\log\\frac{number\\ of\\ documents\\ in\\ corpus + 1}{number\\ of\\ documents\\ with\\ 'word' + 1} + 1.$$\n",
    "\n",
    "Для корпусу букв та рядків IDF можна обчислити в такий спосіб"
   ]
  },
  {
   "cell_type": "code",
   "execution_count": 5,
   "id": "3f547c2c-94b8-4057-9ba7-5678bc52a249",
   "metadata": {},
   "outputs": [
    {
     "name": "stdout",
     "output_type": "stream",
     "text": [
      "Symbol 'g' has IDF 1.511 in the corpus\n"
     ]
    }
   ],
   "source": [
    "#inverse document frequency\n",
    "def idf(s, docs):\n",
    "    '''Returns the inverse document frequency of the symbol s in the corpus of strings docs'''\n",
    "    num_docs_with_s = np.sum([(s in doc) for doc in docs])\n",
    "    return np.log((len(docs) + 1) / (num_docs_with_s + 1)) + 1 \n",
    "\n",
    "print(f'''Symbol '{symbols[4]}' has IDF {round(idf(symbols[4], docs), 3)} in the corpus''')"
   ]
  },
  {
   "cell_type": "markdown",
   "id": "10e2b45b-9702-4ba9-ae02-e823310f7328",
   "metadata": {},
   "source": [
    "Тепер ми можемо визначити підсумкову міру кожного ключового слова в кожному документі корпусу як\n",
    "$$TF\\_IDF(word, document, corpus) = TF(word, document) \\cdot IDF(word, corpus)$$\n",
    "\n",
    "А також \"векторизувати\"  кожен документ, співставивши йому вектор значень  TF_IDF для певного списку ключових слів (або ж усіх слів, які зустрічаються в документах)."
   ]
  },
  {
   "cell_type": "code",
   "execution_count": 6,
   "id": "273df9b8-90a8-4114-b73a-62e1b813673d",
   "metadata": {},
   "outputs": [
    {
     "name": "stdout",
     "output_type": "stream",
     "text": [
      "T=[[0.65861576 0.18817593 0.         0.         0.23243471 0.11621736\n",
      "  0.11621736 0.        ]\n",
      " [0.55597434 0.22238974 0.13734778 0.17420825 0.         0.\n",
      "  0.         0.27469557]\n",
      " [0.52420438 0.17473479 0.43166446 0.         0.         0.\n",
      "  0.         0.21583223]\n",
      " [0.         0.         0.         0.         0.50360854 0.50360854\n",
      "  0.50360854 0.        ]]\n",
      "The  rows of matrix T correspond to vector TF_IDF presentation of documents by symbols from ['a', 'b', 'c', 'd', 'g', 'l', 'm', 'r'].\n"
     ]
    }
   ],
   "source": [
    "#vector model of a doc\n",
    "def tf_idf_vector_model(doc, symbols, docs):\n",
    "    '''Returns the tf-idf vector model of a string doc within set of symbols and corpus of strings docs'''\n",
    "    return np.array([tf(s, doc)*idf(s, docs) for s in symbols])\n",
    "\n",
    "# \n",
    "def tf_idf_matrix(symbols, docs):\n",
    "    '''Returns the tf-idf vector models for all strings from docs'''\n",
    "    return np.array([tf_idf_vector_model(doc, symbols, docs) for doc in docs])\n",
    "\n",
    "T = tf_idf_matrix(symbols, docs)\n",
    "\n",
    "print(f'''T={T}''')\n",
    "print(f'''The  rows of matrix T correspond to vector TF_IDF presentation of documents by symbols from {symbols}.''')"
   ]
  },
  {
   "cell_type": "markdown",
   "id": "422e8504-2e7d-4a92-82c3-ad0946daff34",
   "metadata": {},
   "source": [
    "Тепер, якщо нас цікавить документ, який найкраще підходить до певного ключового слова (або списку слів), то ми можемо здійснити пошук вектора, в якому сума відповідних до списку ключових слів компонент найбільша.  "
   ]
  },
  {
   "cell_type": "code",
   "execution_count": 7,
   "id": "244d18f3-8b03-4a53-8535-a9e60d7411b5",
   "metadata": {},
   "outputs": [
    {
     "name": "stdout",
     "output_type": "stream",
     "text": [
      "The best document relevant to ['b', 'c'] is 'baccara' \n"
     ]
    }
   ],
   "source": [
    "key_symbols_index = [1, 2]\n",
    "\n",
    "def find_best_document(key_symbols_index, symbols, docs):\n",
    "    '''Returns the most relevant string from docs for the list of symbols key_symbols_index'''\n",
    "    T_matrix = tf_idf_matrix(symbols, docs) #TF_IDF matrix of documents\n",
    "    score = np.zeros(len(docs))             # scores of key words\n",
    "    for i in key_symbols_index:\n",
    "        score = score + T_matrix.T[i]\n",
    "    best_document_index = np.argmax(score)  # index of maximum score\n",
    "    return docs[best_document_index]\n",
    "\n",
    "key_symbols = [symbols[i] for i in key_symbols_index]\n",
    "print(f'''The best document relevant to {key_symbols} is '{find_best_document(key_symbols_index, symbols, docs)}' ''')"
   ]
  },
  {
   "cell_type": "markdown",
   "id": "4aa5ee41-8c8e-4bbf-8abc-29a866541a21",
   "metadata": {},
   "source": [
    "1️⃣ Після довгого пояснення та прикладів час братися до роботи. Ви маєте реалізувати TF-IDF пошук для справжнього корпусу документів.\n",
    "Створіть корпус документів з певної галузі знань. Документів має бути чимало (хоча б 20), при цьому не обов'язково, щоб вони були довгими --  вистачить декілька речень. Найкраще, якщо це будуть документи, які мають відношення до вашого навчання. Наприклад, шпаргалки, що містять означення та основні факти з лінійної алгебри. Ви можете використати штучний інтелект для полегшення своєї роботи, створити документи зі статей Вікіпедії, знайти готові корпуси документів на Kaggle, тощо. Документи, створені англійською мовою, обробляти буде простіше, адже англійські іменники мають менше форм, ніж українські. Надрукуйте кілька документів (чи їх фрагментів)."
   ]
  },
  {
   "cell_type": "code",
   "execution_count": 8,
   "id": "eb90bc0e-30f4-4861-a0fd-40322ad982f5",
   "metadata": {},
   "outputs": [],
   "source": [
    "#write your code here"
   ]
  },
  {
   "cell_type": "markdown",
   "id": "bb6b3116-83c9-4fc9-ad3c-5f7f50cccec3",
   "metadata": {},
   "source": [
    "2️⃣ Створіть список ключових слів, які зустрічаються у документах (або використайте всі слова, що там є). Напишіть функції, що обчислюють TF, IDF, TF-IDF та векторне представлення документів за допомогою TF-IDF з урахуванням створеного списку слів. Зверніть увагу, що ваша задача складніша, ніж у випадку символів та рядків, адже вам треба попередньо обробити тексти документів таким чином, щоб розбити їх лише на слова (без знаків), записані лише маленькими літерами, і щоб ці слова зустрічалися в деякій стандартній формі (наприклад, називний відмінок однини для іменників). "
   ]
  },
  {
   "cell_type": "code",
   "execution_count": 9,
   "id": "bd0e3291-c166-474e-8522-6c8ad43b1c2e",
   "metadata": {},
   "outputs": [],
   "source": [
    "#write your code here"
   ]
  },
  {
   "cell_type": "markdown",
   "id": "a90b317c-cb1e-4306-8062-acf04d227126",
   "metadata": {},
   "source": [
    "3️⃣ Напишіть функцію, яка знаходить кілька (кількість ви задаєте самі) найбільш релевантних документів за даним списком ключових слів (це мають бути слова, які зустрічаються в списку слів, використаному при побудові векторної моделі корпусу). Мірою релевантності має бути сума всіх TF-IDF- характеристик, що відповідають заданим ключовим словам.  Протестуйте вашу функцію. Чи може вона видавати шпаргалки з потрібними означеннями та теоремами за вашими запитами?"
   ]
  },
  {
   "cell_type": "code",
   "execution_count": null,
   "id": "eab05a53-9646-4a6f-be52-055a4232d283",
   "metadata": {},
   "outputs": [],
   "source": [
    "#write your code here"
   ]
  },
  {
   "cell_type": "markdown",
   "id": "7d36944a-9dce-4aa1-bfa5-3614d4d486ed",
   "metadata": {},
   "source": [
    "4️ Порівнюючи тексти між собою, часто використовують так звану косинусну відстань. Для двох векторів $u, v$ косинусна відстань між ними обчислюється як $$d_{cos}(u,v)=1-cos(u,v)=1-\\frac{u\\cdot v}{\\|u\\|\\cdot \\|v\\|}.$$\n",
    "\n",
    "Треба зазначити, що у строгому математичному сенсі косинусна відстань не є метрикою. Математики називають метрикою (або відстанню) функцію двох векторів $d(u,v)$, яка задовольняє такі умови для довільних векторів $u, v, w$:\n",
    "\n",
    "1) Додатна визначенність: $d(u,v)\\geq 0$, причому $d(u, v)=0$ в тому і лише тому випадку, коли  $u=v$.\n",
    "2) Симетричність: $d(u,v)=d(v,u)$.\n",
    "3) Нерівність трикутника: $d(u,v)\\leq d(u,w)+d(w,v)$.\n",
    "\n",
    "Дослідіть, які з цих властивостей має косинусна відстань, а які ні. Яких значень може набувати косинусна відстань? Що можна сказати про вектори, якщо косинусна відстань між ними мінімальна? максимальна?\n",
    "\n",
    "Термін \"відстань\" використовують для $d_{cos}(u,v)$ тому, що вона має певні зв'язки з евклідовою відстанню ($d_{eucl}$). А саме для нормованих векторів (тобто таких, норма яких дорівнює 1 ) виконано рівність $(d_{eucl}(u,v))^2=2d_{cos}(u,v)$, тобто косинусна відстань пропорційна квадрату евклідової відстані. Доведіть цю тотожність."
   ]
  },
  {
   "cell_type": "markdown",
   "id": "7debc5af-0b58-49cb-8613-fbacc3aa7504",
   "metadata": {},
   "source": [
    "✔️ *Ваші міркування запишіть тут.*"
   ]
  },
  {
   "cell_type": "markdown",
   "id": "a9edf848-d8ad-459c-8f35-34ff9588db2d",
   "metadata": {},
   "source": [
    "5️⃣ Використайте косинусну відстань для того, щоб знайти документи, що найбільш релевантні деякому запиту. Для цього за заданим запитом обчисліть його TF-IDF векторне представлення, використовуючи той самий список ключових слів, що ви його створили для побудови векторного подання документів корпусу. IDF характеристики ключових слів можна не перераховувати наново, а взяти ті, що розраховано для корпусу.\n",
    "\n",
    "Потім серед усіх документів корпусу оберіть так званих \"найближчих сусідів\" -- такі документи, що їх векторні представлення знаходяться найближче (з точки зору косинусної відстані) до вектора запиту. Кількість найближчих сусідів ви задаєте самі.\n",
    "\n",
    "Порівняйте результати дії функцій, що ви їх написали в цьому пункті та в пункті 3️⃣"
   ]
  },
  {
   "cell_type": "code",
   "execution_count": null,
   "id": "1795261a-2153-4b42-9a9a-6547e827fc69",
   "metadata": {},
   "outputs": [],
   "source": [
    "#write your code here"
   ]
  },
  {
   "cell_type": "markdown",
   "id": "50479a6b-5b44-4a85-921e-8a8fd0040c5b",
   "metadata": {},
   "source": [
    "✔️ Ваші міркування запишіть тут.\n"
   ]
  },
  {
   "cell_type": "markdown",
   "id": "e805e04f-bae2-46dc-9301-bdc06a3ea02f",
   "metadata": {},
   "source": [
    "6️⃣ Додатково. Вбудований клас TfidfTransformer з пакету sklearn.feature_extraction.text виконує перетворення документів у вектори за допомогою TF-IDF. Ви можете поекспериментувати з ним та порівняти з тим, що отримали ви."
   ]
  },
  {
   "cell_type": "code",
   "execution_count": null,
   "id": "bab8a4b7-381f-4540-954d-14c70fa5de93",
   "metadata": {},
   "outputs": [],
   "source": []
  }
 ],
 "metadata": {
  "kernelspec": {
   "display_name": "Python 3 (ipykernel)",
   "language": "python",
   "name": "python3"
  },
  "language_info": {
   "codemirror_mode": {
    "name": "ipython",
    "version": 3
   },
   "file_extension": ".py",
   "mimetype": "text/x-python",
   "name": "python",
   "nbconvert_exporter": "python",
   "pygments_lexer": "ipython3",
   "version": "3.11.9"
  }
 },
 "nbformat": 4,
 "nbformat_minor": 5
}
