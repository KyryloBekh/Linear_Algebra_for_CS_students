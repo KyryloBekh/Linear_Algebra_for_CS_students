{
 "cells": [
  {
   "cell_type": "markdown",
   "id": "37c98f43-7de0-4705-9027-086ec1ce2609",
   "metadata": {},
   "source": [
    "# ЛА-Практика програмування-02. Системи лінійних рівнянь"
   ]
  },
  {
   "cell_type": "code",
   "execution_count": 1,
   "id": "78a0c669-3e61-42ca-90f6-59cfc254786e",
   "metadata": {},
   "outputs": [],
   "source": [
    "# these imports may be useful\n",
    "\n",
    "import pandas as pd\n",
    "from scipy import linalg\n",
    "import numpy as np\n",
    "import matplotlib.pyplot as plt\n",
    "from sympy import *                  #module to do symbolic calculations"
   ]
  },
  {
   "cell_type": "markdown",
   "id": "b90895ce-5ab9-4197-85cc-0dc2f586d721",
   "metadata": {},
   "source": [
    " #### Деякі інструменти, які стануть у нагоді "
   ]
  },
  {
   "cell_type": "code",
   "execution_count": 2,
   "id": "96f03867-c0bc-43c0-a7bd-4a357860aef5",
   "metadata": {},
   "outputs": [
    {
     "name": "stdout",
     "output_type": "stream",
     "text": [
      "The solution of Ax=b with A=[[1 2 0]\n",
      " [2 4 1]\n",
      " [1 3 2]], b=[1 2 3] is x=[-3.  2. -0.] by numpy and x=[-3.  2. -0.] by scipy\n",
      "------------------------------\n",
      "The Row echelon form of matrix M =Matrix([[1, 0, -1, 1, 0, 0], [-1, 1, 0, 0, 1, 0], [0, -1, 1, 0, 0, -1], [0, 0, 0, -1, -1, 1]])  and the pivot column : RREF(M) = (Matrix([\n",
      "[1, 0, -1, 0, -1,  1],\n",
      "[0, 1, -1, 0,  0,  1],\n",
      "[0, 0,  0, 1,  1, -1],\n",
      "[0, 0,  0, 0,  0,  0]]), (0, 1, 3))\n",
      "------------------------------\n",
      "(P)LU-decomposition of A=[[1 2 0]\n",
      " [2 4 1]\n",
      " [1 3 2]] is A=PLU with \n",
      " P = [[0. 0. 1.]\n",
      " [1. 0. 0.]\n",
      " [0. 1. 0.]], \n",
      " L =  [[1.  0.  0. ]\n",
      " [0.5 1.  0. ]\n",
      " [0.5 0.  1. ]], \n",
      " U = [[ 2.   4.   1. ]\n",
      " [ 0.   1.   1.5]\n",
      " [ 0.   0.  -0.5]],\n",
      "------------------------------\n"
     ]
    },
    {
     "data": {
      "image/png": "[encoded data removed]",
      "text/plain": [
       "<Figure size 400x400 with 1 Axes>"
      ]
     },
     "metadata": {},
     "output_type": "display_data"
    }
   ],
   "source": [
    "# these tools may be useful\n",
    "# give a matrix\n",
    "A = np.array([[1, 2, 0], [2, 4, 1], [1, 3, 2]]) #3x3 linear system matrix\n",
    "b = np.array([1, 2, 3])                   #right part column vector\n",
    "\n",
    "# solve the linear system Ax=b \n",
    "x1 = np.linalg.solve(A, b)\n",
    "\n",
    "# the same with scipy.linalg\n",
    "x2 = linalg.solve(A, b)\n",
    "print(f'''The solution of Ax=b with A={A}, b={b} is x={x1} by numpy and x={x2} by scipy''')\n",
    "print('------------------------------')\n",
    "\n",
    "#Reduced row eschelon form (RREF) by sympy\n",
    "M = Matrix([[1, 0, -1, 1, 0, 0], [-1, 1, 0, 0, 1, 0], [0, -1, 1, 0, 0, -1], [0, 0, 0, -1, -1, 1]])\n",
    "M_rref = M.rref()  \n",
    "\n",
    "print(f'''The Row echelon form of matrix M ={M}  and the pivot column : RREF(M) = {M_rref}''') \n",
    "print('------------------------------')\n",
    "\n",
    "#LU-decomposition\n",
    "A_LU = linalg.lu(A)\n",
    "\n",
    "print(f'''(P)LU-decomposition of A={A} is A=PLU with \\n P = {A_LU[0]}, \\n L =  {A_LU[1]}, \\n U = {A_LU[2]},''')\n",
    "print('------------------------------')\n",
    "\n",
    "\n",
    "#plot(line) and scatter-plot(set of points) drawing\n",
    "x = np.linspace(1, 2, 10) #10 points equaly distributed on [1, 2]\n",
    "y = 2*x+1                 #the values of the function\n",
    "\n",
    "fig = plt.figure(figsize=(4,4)) # a figure to draw\n",
    "ax = plt.gca()                  # an axis -- a piece of figure to draw, it is possible to be some axis on one figure   \n",
    "ax.scatter(x,y, s=36, c='r') #scatter-plot\n",
    "ax.plot(x,y, c='b')          #plot\n",
    "ax.set_title(\"A line and some points on it\")\n",
    "ax.grid(visible=True)"
   ]
  },
  {
   "cell_type": "markdown",
   "id": "9fdd79dd-2132-4e66-9f29-2577a2d43534",
   "metadata": {},
   "source": [
    "## Вправи"
   ]
  },
  {
   "cell_type": "markdown",
   "id": "57e7db09-f870-41b6-ab22-75162cce9d3d",
   "metadata": {},
   "source": [
    "💻 **2.1. Графічне розв'язання систем лінійних рівнянь.**\n",
    "\n",
    "Напишіть програму яка \n",
    "\n",
    "1. Отримує на вхід коефіцієнти системи двох лінійних рівнянь з двома невідомими  $\\displaystyle \\begin{cases}\n",
    "a_{1} x+b_{1} y=c_{1}\\\\\n",
    "a_{2} x+b_{2} y=c_{2}\n",
    "\\end{cases}$,\n",
    "\n",
    "2. Будує на площині прямі $\\displaystyle a_{1} x+b_{1} y=c_{1}$ , $\\displaystyle a_{2} x+b_{2} y=c_{2}$ .\n",
    "\n",
    "3. Робить висновки про кількість розв'язків системи та наводить розв'язки, якщо вони існують.\n",
    "\n",
    "4. Узагальніть вашу програму на випадок трьох рівнянь з двома невідомими (тобто трьох прямих на площині).\n",
    "\n",
    "\n",
    "\n",
    "Протестуйте вашу програму."
   ]
  },
  {
   "cell_type": "code",
   "execution_count": 3,
   "id": "2a6c1b73-1310-41b4-8667-86c63c60bd06",
   "metadata": {},
   "outputs": [],
   "source": [
    "#write your code here"
   ]
  },
  {
   "cell_type": "markdown",
   "id": "7d036256-7864-4cc2-873a-af8a261d6245",
   "metadata": {},
   "source": [
    "💻  **2.2. Що більше солверів, то краще**\n",
    "\n",
    "Знайдіть, які функції розв'язують системи лінійних рівнянь в пакетах numpy, scipy, sympy. Навчиться ними користуватися. Порівняйти їхню дію (в тому числі за часом) на тестових системах рівнянь, зокрема на \"великих\", кількість змінних у яких не менше 100. Створити \"великі\" матриці можна, згенерувавши випадкові коефіцієнти за допомогою, наприклад, np.random.\n",
    "\n",
    "Подумайте над тим (і пошукайте на теренах інтернета, або ж спитайте штучний інтелект), які  Python-засоби розв'язання систем можна використати у випадку їх невизначенності (наприклад, якщо кількість рівнянь не співпадає з кількістю невідомих)."
   ]
  },
  {
   "cell_type": "code",
   "execution_count": null,
   "id": "3aad9882-559d-490d-928b-9b0dae473cb7",
   "metadata": {},
   "outputs": [],
   "source": [
    "#write your code here"
   ]
  },
  {
   "cell_type": "markdown",
   "id": "c76b218d-f09f-4f85-ace2-aafaa62f1508",
   "metadata": {},
   "source": [
    "💻  **2.3. Виключення Гаусса**\n",
    "\n",
    "Напишіть функцію, яка реалізує виключення Гаусса і зводить квадратну матрицю порядку 4 до зведеної ступінчастої форми. Не забудьте передбачити усілякі неприємності (коефіцієнт для виключення чергової змінної дорівнює 0, рядок перетворюється на нульовий, тощо), щоб ваша функція працювала для довільної матриці. Модифікуйте вашу функцію так, щоб вона працювала і для матриць $3\\times 4$. Модифікована функція знадобиться вам в задачі 2.5."
   ]
  },
  {
   "cell_type": "code",
   "execution_count": null,
   "id": "f73528c7-3955-4fa7-96aa-e107d0f746e6",
   "metadata": {},
   "outputs": [],
   "source": [
    "#write your code here"
   ]
  },
  {
   "cell_type": "markdown",
   "id": "07f686bf-01dd-4127-98a9-47581abee133",
   "metadata": {},
   "source": [
    "💻  **2.4. (R)REF**\n",
    "\n",
    "Напишіть функцію, яка для даної матриці перевіряє, чи має матриця \n",
    "1) ступінчасту форму\n",
    "2) зведену ступінчасту форму."
   ]
  },
  {
   "cell_type": "code",
   "execution_count": null,
   "id": "32662583-0f64-4a56-8aee-595892f6b8da",
   "metadata": {},
   "outputs": [],
   "source": [
    "#write your code here"
   ]
  },
  {
   "cell_type": "markdown",
   "id": "27398711-0335-4d03-9cb8-dcc311516536",
   "metadata": {},
   "source": [
    "💻  **2.5. GPS**\n",
    "\n",
    "GPS -- глобальна навігаційна система, яка складається із системи супутників і дозволяє визначати координати об'єктів на поверхні Землі. Супутники рухаються над поверхней Землі на відстані 17-18 тис. км таким чином, щоб кожну точку поверхні Землі спостерігали від 5 до 8 супутників.\n",
    "\n",
    "У цій вправі ми побачимо, як GPS ( а також інші навігаційні системи) розраховує координати об'єктів.\n",
    "Із Землею пов'яжемо систему координат $x,y,z$ з центром у центрі Землі та віссю $z$, напрямленою на Північний полюс (див. мал.)\n",
    "\n",
    "<img src='Earth_coordinates.png' width=320, heigth=240>\n",
    "\n",
    "Ми будемо знаходити невідомі координати об'єкта (наприклад, корабля) на поверхні Землі. Радіус Землі приймемо за одиницю довжини. Отже, для координат має місце рівність $x^2+y^2+z^2=1$.\n",
    "\n",
    "GPS знаходить координати корабля, використовуючи час, за який сигнал від корабля дістається супутника. Швидкість сигнала дорівнює швидкості світла  $c$, тобто 300 тис.км/год, або ж 0,469 земного радіуса за соту долю секунди. Ви можете впевнитися в тому, що це та сама швидкість, виконавши переведення швідкості з одних одиниць у інші. Радіус Землі приблизно дорівнює 6400 км.\n",
    "\n",
    "Якщо корабель отримав сигнал від супутника в момент часу $t$, а супутник передав його в момент часу $t_0$, то відстань, яку подолав сигнал дорівнює $d = c(t-t_0)$.\n",
    "\n",
    "З іншого боку відстань між супутником та кораблем дорівнює $d=\\sqrt{(x-x_0)^2+(y-y_0)^2+(z-z_0)^2}$, де $x_0, y_0, z_0$ -- координати супутника.\n",
    "\n",
    "Отже, кожен супутник, що спостерігає корабель, дає рівняння для визначення координат корабля\n",
    "(яке, звісно, зручніше записати без кореня):\n",
    "\n",
    "$$(x-x_0)^2 +(y-y_0)^2 +(z-z_0)^2= c^2(t-t_0)^2$$\n",
    "\n",
    "Треба зазначити, що час $t$ також вважають невідомим, адже немає гарантії, що годинник корабля синхронізований з годинником супутника. Тому для знаходження координат $x, y, z$ (і часу $t$) використовують дані з чотирьох супутників. Отже, ми маємо скласти 4 рівняння.\n",
    "\n",
    "Рівняння, що ми їх отримали, на перший погляд можуть здатися квадратними. Для того, щоб позбутися квадратів, їх переносять в праву частину, а потім віднімають три з чотирьох отриманих рівняннь з першого. Після цього залишиться три лінійні рівняння з чотирма невідомими.\n",
    "\n",
    "1️⃣ Вважайте, що вам дано положення чотирьох супутників $(x_{0i}, y_{0i}, z_{0i})$  $(i=1,2,3,4)$ в моменти часу $t_{0i}$ відповідно. Виконайте зазначене перетворення системи рівнянь для того, щоб позбутися квадратів і напишіть, яку систему лінійних рівнянь відносно $x,y,z,t$ ви отримали.\n",
    "\n",
    "✔️ *Ваші міркування запишіть тут.*"
   ]
  },
  {
   "cell_type": "markdown",
   "id": "7c68862b-dd03-4274-89df-2c85c8772a07",
   "metadata": {},
   "source": [
    "Розв'язуючи систему рівнянь, ми отримаємо, що змінні $x,y,z,t$  залежатимуть від одного параметра (позначимо  його $s$). Значення змінних мають знайтися у вигляді $x=\\alpha + \\beta s$ (і аналогічно  для $y,z,t$), де $\\alpha, \\beta$ -- числа, які буде отримано під час розв'язку. Підставляючи ці вирази в одне з вихідних рівнянь, ми отримаємо квадратне рівняння відносно параметра $s$, з якого можна знайти $s$ (зазвичай треба брати додатний корінь рівняння). Знаючи $s$ нескладно визначити $x,y,z,t$."
   ]
  },
  {
   "cell_type": "code",
   "execution_count": 5,
   "id": "32af5c67-cba6-45a4-9bbb-5cbacd1f10da",
   "metadata": {},
   "outputs": [
    {
     "data": {
      "text/html": [
       "<div>\n",
       "<style scoped>\n",
       "    .dataframe tbody tr th:only-of-type {\n",
       "        vertical-align: middle;\n",
       "    }\n",
       "\n",
       "    .dataframe tbody tr th {\n",
       "        vertical-align: top;\n",
       "    }\n",
       "\n",
       "    .dataframe thead th {\n",
       "        text-align: right;\n",
       "    }\n",
       "</style>\n",
       "<table border=\"1\" class=\"dataframe\">\n",
       "  <thead>\n",
       "    <tr style=\"text-align: right;\">\n",
       "      <th></th>\n",
       "      <th>Satellite</th>\n",
       "      <th>Position (x0, y0, z0)</th>\n",
       "      <th>Time(t0)</th>\n",
       "    </tr>\n",
       "  </thead>\n",
       "  <tbody>\n",
       "    <tr>\n",
       "      <th>0</th>\n",
       "      <td>1</td>\n",
       "      <td>(1.12, 2.1, 1.4)</td>\n",
       "      <td>1.06</td>\n",
       "    </tr>\n",
       "    <tr>\n",
       "      <th>1</th>\n",
       "      <td>2</td>\n",
       "      <td>(0.0, 1.53, 2.3)</td>\n",
       "      <td>0.56</td>\n",
       "    </tr>\n",
       "    <tr>\n",
       "      <th>2</th>\n",
       "      <td>3</td>\n",
       "      <td>(1.4, 1.12, 2.1)</td>\n",
       "      <td>1.16</td>\n",
       "    </tr>\n",
       "    <tr>\n",
       "      <th>3</th>\n",
       "      <td>4</td>\n",
       "      <td>(2.3, 0.0, 1.53)</td>\n",
       "      <td>0.75</td>\n",
       "    </tr>\n",
       "  </tbody>\n",
       "</table>\n",
       "</div>"
      ],
      "text/plain": [
       "   Satellite Position (x0, y0, z0)  Time(t0)\n",
       "0          1      (1.12, 2.1, 1.4)      1.06\n",
       "1          2      (0.0, 1.53, 2.3)      0.56\n",
       "2          3      (1.4, 1.12, 2.1)      1.16\n",
       "3          4      (2.3, 0.0, 1.53)      0.75"
      ]
     },
     "execution_count": 5,
     "metadata": {},
     "output_type": "execute_result"
    }
   ],
   "source": [
    "satellite_info = pd.DataFrame(columns=['Satellite', 'Position (x0, y0, z0)', 'Time(t0)'] )\n",
    "satellite_info['Satellite'] = [1,2,3,4]\n",
    "satellite_info['Position (x0, y0, z0)'] = [(1.12, 2.10, 1.40), (0.00, 1.53, 2.30), (1.40, 1.12, 2.10), (2.30, 0.00, 1.53)]\n",
    "satellite_info['Time(t0)'] = [1.06, 0.56, 1.16, 0.75]\n",
    "\n",
    "satellite_info"
   ]
  },
  {
   "cell_type": "markdown",
   "id": "a9348ba4-69e2-49ca-a846-59bd5864c689",
   "metadata": {},
   "source": [
    "2️⃣ За даними про положення супутників (див. таблицю вище) та час відправлення сигналу супутником складіть систему рівнянь для знаходження координат корабля $x,y,z$ згідно з описаними вище міркуваннями.\n",
    "\n",
    "Розв'яжіть цю систему. Вам знадобиться зводити матрицю системи до зведеного ступінчастого вигляду (див. задачу 2.3), а також зрозуміти, як знайти значення параметра $s$.\n",
    "\n",
    "Якщо все вийде вірно, то координати корабля, які ви отримаєте, будуть приблизно такими $(0.624, 0.519, 0.598)$."
   ]
  },
  {
   "cell_type": "code",
   "execution_count": null,
   "id": "ca50aca3-cd01-480c-a89d-c1f76b7dd463",
   "metadata": {},
   "outputs": [],
   "source": [
    "#write your code here"
   ]
  },
  {
   "cell_type": "markdown",
   "id": "2951cc3c-78c6-4b0d-a64a-a901fd4e69ad",
   "metadata": {},
   "source": [
    "## Задачі"
   ]
  },
  {
   "cell_type": "code",
   "execution_count": null,
   "id": "94e86ff0-ee4b-416a-9ad6-6bb2a8a4fc7d",
   "metadata": {},
   "outputs": [],
   "source": [
    "# import section"
   ]
  },
  {
   "cell_type": "markdown",
   "id": "62c0c1d2-937a-492f-b231-2e2f767e301c",
   "metadata": {},
   "source": [
    "🧩 **2.6. Взаємодія галузей економіки**\n",
    "\n",
    "1️⃣  У цій задачі за допомогою систем лінійних рівнянь ми будемо досліджувати як впливає зміна потреб у тих чи інших ресурсах на виробництво цих ресурсів.\n",
    "Припустимо ми маємо дві галузі економіки (наприклад, виробництво сталі ($B_1$), та виробництво автомобілей ($B_2$)). Кожна з цих галузей $B_i$ виробляє продукцію, яку споживають: вона сама ($d_{ii}$), друга з розгляданих галузей ($d_{ij}$), а також інші галузі економіки ($d_{i0}$). Наприклад, за означеними галузями у деякому році спостерігається ситуація, наведена в таблиці нижче. До речі, ці дані наведено щодо економіки США за 1958 рік у млн.дол. зі статті нобелівського лауреата з економіки Василя Леонтьєва: Wassily W. Leontief, The Structure of the U.S. Economy, Scientific\n",
    "American, volume 212 number 4 (Apr. 1965), p. 2. Ідея аналізу, відомого також як input-output analysis, також належить йому."
   ]
  },
  {
   "cell_type": "code",
   "execution_count": 3,
   "id": "07f034d3-4498-4c28-8062-249e235be057",
   "metadata": {},
   "outputs": [
    {
     "data": {
      "text/html": [
       "<div>\n",
       "<style scoped>\n",
       "    .dataframe tbody tr th:only-of-type {\n",
       "        vertical-align: middle;\n",
       "    }\n",
       "\n",
       "    .dataframe tbody tr th {\n",
       "        vertical-align: top;\n",
       "    }\n",
       "\n",
       "    .dataframe thead th {\n",
       "        text-align: right;\n",
       "    }\n",
       "</style>\n",
       "<table border=\"1\" class=\"dataframe\">\n",
       "  <thead>\n",
       "    <tr style=\"text-align: right;\">\n",
       "      <th></th>\n",
       "      <th>branch</th>\n",
       "      <th>B1_consumption</th>\n",
       "      <th>B2_consumption</th>\n",
       "      <th>other_consumption</th>\n",
       "      <th>total</th>\n",
       "    </tr>\n",
       "  </thead>\n",
       "  <tbody>\n",
       "    <tr>\n",
       "      <th>0</th>\n",
       "      <td>B1</td>\n",
       "      <td>5395</td>\n",
       "      <td>2664</td>\n",
       "      <td></td>\n",
       "      <td>25448</td>\n",
       "    </tr>\n",
       "    <tr>\n",
       "      <th>1</th>\n",
       "      <td>B2</td>\n",
       "      <td>48</td>\n",
       "      <td>9030</td>\n",
       "      <td></td>\n",
       "      <td>30346</td>\n",
       "    </tr>\n",
       "  </tbody>\n",
       "</table>\n",
       "</div>"
      ],
      "text/plain": [
       "  branch  B1_consumption  B2_consumption other_consumption  total\n",
       "0     B1            5395            2664                    25448\n",
       "1     B2              48            9030                    30346"
      ]
     },
     "execution_count": 3,
     "metadata": {},
     "output_type": "execute_result"
    }
   ],
   "source": [
    "df_economy = pd.DataFrame(columns = ['branch', 'B1_consumption', 'B2_consumption', 'other_consumption', 'total'])\n",
    "df_economy['branch'] = ['B1', 'B2']\n",
    "df_economy['B1_consumption'] = [5395, 48]\n",
    "df_economy['B2_consumption'] = [2664, 9030]\n",
    "df_economy['other_consumption'] = ['', '']\n",
    "df_economy['total'] = [25448, 30346]\n",
    "df_economy"
   ]
  },
  {
   "cell_type": "markdown",
   "id": "2a35f2c5-3b0f-4b16-91db-8f84135aec29",
   "metadata": {},
   "source": [
    "З цієї таблиці, зокрема можна довідатися, що сталеливарна промисловість споживає власної продукції на суму $d_{11} = 5395$ млн. дол., а автомобілебудування споживає сталі на суму $d_{12} = 2664$ млн. дол. Також, знаючи загальний обсяг виробництва сталі $D_1=25448$, можна  розрахувати скільки сталі споживають інші галузі економіки (зокрема й іде на експорт, або залишається на складах): $d_{10}=D_1-d_{11}-d_{12}$. Зробіть це для обох галузей $B_1$, $B_2$ й запишіть результати у стовпчик 'other_consumption'.   "
   ]
  },
  {
   "cell_type": "code",
   "execution_count": 4,
   "id": "7d8e7ecb-7ae2-40ed-903d-a30cce1cee9d",
   "metadata": {},
   "outputs": [
    {
     "data": {
      "text/html": [
       "<div>\n",
       "<style scoped>\n",
       "    .dataframe tbody tr th:only-of-type {\n",
       "        vertical-align: middle;\n",
       "    }\n",
       "\n",
       "    .dataframe tbody tr th {\n",
       "        vertical-align: top;\n",
       "    }\n",
       "\n",
       "    .dataframe thead th {\n",
       "        text-align: right;\n",
       "    }\n",
       "</style>\n",
       "<table border=\"1\" class=\"dataframe\">\n",
       "  <thead>\n",
       "    <tr style=\"text-align: right;\">\n",
       "      <th></th>\n",
       "      <th>branch</th>\n",
       "      <th>B1_consumption</th>\n",
       "      <th>B2_consumption</th>\n",
       "      <th>other_consumption</th>\n",
       "      <th>total</th>\n",
       "    </tr>\n",
       "  </thead>\n",
       "  <tbody>\n",
       "    <tr>\n",
       "      <th>0</th>\n",
       "      <td>B1</td>\n",
       "      <td>5395</td>\n",
       "      <td>2664</td>\n",
       "      <td>17389</td>\n",
       "      <td>25448</td>\n",
       "    </tr>\n",
       "    <tr>\n",
       "      <th>1</th>\n",
       "      <td>B2</td>\n",
       "      <td>48</td>\n",
       "      <td>9030</td>\n",
       "      <td>21268</td>\n",
       "      <td>30346</td>\n",
       "    </tr>\n",
       "  </tbody>\n",
       "</table>\n",
       "</div>"
      ],
      "text/plain": [
       "  branch  B1_consumption  B2_consumption  other_consumption  total\n",
       "0     B1            5395            2664              17389  25448\n",
       "1     B2              48            9030              21268  30346"
      ]
     },
     "execution_count": 4,
     "metadata": {},
     "output_type": "execute_result"
    }
   ],
   "source": [
    "#write your code here\n",
    "df_economy['other_consumption'] = df_economy['total'] - df_economy['B1_consumption'] - df_economy['B2_consumption']\n",
    "df_economy"
   ]
  },
  {
   "cell_type": "markdown",
   "id": "2aadae00-c9a4-490d-a11d-a4379f24ea8a",
   "metadata": {},
   "source": [
    "Нехай ми маємо прогноз щодо того, як зміниться споживання сталі та авто зовнішніми споживачами ('other\\_consumption') на наступний рік:\r\n",
    "\r\n",
    "$d'_{10} =d_{10} +\\Delta _{1}$, $d'_{20} =d_{20} +\\Delta _{2}$, $\\Delta _{1} =200$, $\\Delta _{2} =-25$. Тобто споживання сталі зовнішніми споживачами зросте на 200 млн. дол., а споживання авто зменшиться на 25 млн. дол.\r\n",
    "\r\n",
    "\r\n",
    "\r\n",
    "Наша мета розрахувати, скільки сталі та авто має вироблятися для того, щоб задовольнити усі п,отреби зважаючи на передбачувані зміни у споживанні. \r\n",
    "\r\n",
    "\r\n",
    "\r\n",
    "Для цього ми запишемо умови, що пов'язують усі наведені та шукані величини.\r\n",
    "\r\n",
    "\r\n",
    "\r\n",
    "Споживання цього року (значення всіх величин нам відомі з таблиці) задається системою умов:\r\n",
    "\r\n",
    "\r\n",
    "\r\n",
    "${\\displaystyle \\begin{cases}\r\n",
    "D_{1} =d_{11} +d_{12} +d_{10} ;\\\\\r\n",
    "D_{2} =d_{21} +d_{22} +d_{20}\r\n",
    "\\end{cases}}$\r\n",
    "\r\n",
    "\r\n",
    "\r\n",
    "Споживання наступного року:\r\n",
    "\r\n",
    "\r\n",
    "\r\n",
    "${\\displaystyle \\begin{cases}\r\n",
    "D'_{1} =d'_{11} +d'_{12} +d'_{10} ;\\\\\r\n",
    "D'_{2} =d'_{21} +d'_{22} +d'_{20}\r\n",
    "\\end{cases}}$\r\n",
    "\r\n",
    "\r\n",
    "\r\n",
    "У другій системі умов нам відомі лише значення величин $d'_{10} ,d'_{20}$. Для того, щоб знайти $D'_{1} ,D'_{2}$ ми будемо додержуватися припущення, що частка споживання галуззю власної продукції та продукції другої з розгляданих галузей залишається незмінною з року в рік, тобто: $\\dfrac{d'_{ij}}{D'_{i}} =\\dfrac{d_{ij}}{D_{i}}$. Наприклад, якщо цього року автопромисловість споживала приблизно 10\\% усієї сталі, то наступного року вонспоживатиме такий самий відіоток.\r\n",
    "\r\n",
    "\r\n",
    "\r\n",
    "З останньої рівності виразуть велиини $d'_{ij}$ та підставте в др'у сис$  $ему. Також підставте значення $d _{10,d'_{20}$. Має залишитися система рівн\n",
    "\n",
    "янь з двома невідомими $D'_{1} ,D'_{2}$."
   ]
  },
  {
   "cell_type": "markdown",
   "id": "73a6351c-9e94-482c-967d-b2ef8cb33135",
   "metadata": {},
   "source": [
    "✔️ *Ваші міркування запишіть тут.*"
   ]
  },
  {
   "cell_type": "markdown",
   "id": "0466a636-f588-45c1-9b7c-613153a74e9a",
   "metadata": {},
   "source": [
    "Запишіть матрицю системи, її праву частину, та розв'яжіть систему, щоб знайти  $D'_1, D'_2$."
   ]
  },
  {
   "cell_type": "code",
   "execution_count": null,
   "id": "6cbcb4ba-bfc9-4d10-b103-1aa4614bea22",
   "metadata": {},
   "outputs": [],
   "source": [
    "#write your code here"
   ]
  },
  {
   "cell_type": "markdown",
   "id": "b0f9db29-079e-498e-86c6-a3d4943cd2a6",
   "metadata": {},
   "source": [
    "Зробіть спостереження: чи вірно, що виробництво сталі ($D'_1$) зросло на величину $\\Delta_1$, а виробництво авто ($D'_2$) зменшилося на величину $\\Delta_2$? Як змінилися ці величини порявняно з попереднім роком? Чи можете Ви висловити припущення, чому так сталося?\n",
    "\n",
    "✔️ *Ваші міркування запишіть тут.*"
   ]
  },
  {
   "cell_type": "markdown",
   "id": "417bc795-4c60-4afd-9cf0-c8baee295441",
   "metadata": {},
   "source": [
    "2️⃣ Узагальніть ідею такого аналізу на довільну кількість окремо розглянутих галузей: $B_1, B_2, \\dots , B_n$ та зовнішніх споживачів ('other consumption').\n",
    "Вважайте, що вам задано вектор загального виробництва (і споживання) $D = (D_1, \\dots , D_n)$ матрицю споживання галузями $(d_{ij})$ на цей рік, а також вектор прогнозів змін у споживанні зовнішніми споживачами на наступний рік $\\Delta = (\\Delta_1, \\dots, \\Delta_n)$, такий що $d'_{i0}=d_{i0}+\\Delta_i$. Напишіть функцію, яка розраховує вектор виробництва за галузями на наступний рік: $D' = (D'_1, \\dots , D'_n)$. "
   ]
  },
  {
   "cell_type": "code",
   "execution_count": null,
   "id": "55db0b1e-5f56-4a95-b3bc-6d7971681218",
   "metadata": {},
   "outputs": [],
   "source": [
    "#write your code here"
   ]
  },
  {
   "cell_type": "markdown",
   "id": "ebaa6702-6bd1-4b43-a8cc-ee73e0b05007",
   "metadata": {},
   "source": [
    "Протестуйте вашу функцію зокрема на наступній матриці статистики виробництва-споживання за трьома галузями (наприклад, 'сільське господарство', 'залізниця', 'морські перевезення') і векторі змін зовнішнього споживання $\\Delta = (625, 200, 475)$"
   ]
  },
  {
   "cell_type": "code",
   "execution_count": null,
   "id": "925cf068-b0a1-4e43-a458-ce995c691068",
   "metadata": {},
   "outputs": [],
   "source": [
    "df_economy_test = pd.DataFrame(columns = ['branch', 'B1_consumption', 'B2_consumption','B3_consumption' ,'other_consumption', 'total'])\n",
    "df_economy_test['branch'] = ['B1', 'B2', 'B3']\n",
    "df_economy_test['B1_consumption'] = [25,  25, 15]\n",
    "df_economy_test['B2_consumption'] = [50,  50, 10]\n",
    "df_economy_test['B3_consumption'] = [100, 50, 0]\n",
    "df_economy_test['other_consumption'] = ['', '', '']\n",
    "df_economy_test['total'] = [800, 300, 500]\n",
    "df_economy_test"
   ]
  },
  {
   "cell_type": "markdown",
   "id": "50e1d2b4-81b6-406c-8e5d-84b32465a864",
   "metadata": {},
   "source": [
    "🧩 **2.7. Кубічні сплайни**\n",
    "\n",
    "У цій задачі ми будемо розв'язувати задачу інтерполяції кубічними сплайнами, а саме будувати гладкі функції, що набувають певних значень в певних точках і при цьому\n",
    "на ділянках своєї області визначення задаються як многочлени -- різні на різних ділянках, але дуже добре узгоджені.\n",
    "\n",
    "Як відомо, задача про інтерполяційний многочлен полягає в тому, щоб за заданими значеннями многочлена в певних точках відновити цей многочлен.\n",
    "Також відомо (погортайте свій конспект з алгебри за перший семестр, або дивіться тут https://en.wikipedia.org/wiki/Polynomial_interpolation), що\n",
    "за $n+1$ парою значень вигляду $(x_i, y_i)$ можна обнозначно відновити многочлен $f(x)$ степеня $n$, такий що $f(x_i)=y_i$ -- так званий інтерполяційний многочлен.\n",
    "\n",
    "Але, зазвичай, якщо точок багато, то поведінка інтерполяційного многочлена не відповідає очікуванням поза тими точками, через які він має проходити.\n",
    "Це так званий ``феномен Рунге''. Кажуть, що інтерполяційний многочлен осцілює поза тими точками, через які  проходить. Такий ефект спостерігається для інтерполяційних многочленів великого степеня.\r\n",
    "Побачити це можна на наступному прикладі: ми намагаємося наблизити многочленом 10-го степення функцію $f(x)=\\dfrac{1}{1+25x^{2}}$. Побудований многочлен, звісно, проходить через вказані точки, але зовсім не схожий на функцію, що він її має наближати, між точками, особливо на краях "
   ]
  },
  {
   "cell_type": "markdown",
   "id": "367c4e7d-3091-49fe-bce4-e33fb6ed9314",
   "metadata": {},
   "source": [
    "<img src='Interpolation_runge_funktion.png' width=320, heigth=240>"
   ]
  },
  {
   "cell_type": "markdown",
   "id": "cb06eb4c-e7d4-42e8-b2d8-c11c55a8c9f3",
   "metadata": {},
   "source": [
    "Виходом є підхід, у якому ми наближаємо функцію за шматками многочленами невеликого степеня, наприклад, третього. Кожен з таких многочленів задано на відрізку, при цьому у точках 'стику' многочлени узгоджені (див. https://en.wikipedia.org/wiki/Spline_interpolation), так щоб функція, визначена на сукупності усіх заданих відрізків була гладкою. Такий підхід називається сплайновою інтерполяцією й виник з потреб проектування кузовів автомобілів, які добре обтікаються повітрям.\n",
    "\n",
    "Побудуємо систему кубічних сплайнів, що проходять через систему точок $[(x_0,y_0), \\dots, (x_n, y_n)]$.\n",
    "\n",
    "Кубічний многочлен з номером $i$ буде задано на відрізку $[x_i, x_{i+1}]$ і на кінцях цього відрізку він має набувати значення  $y_i, y_{i+1}$ відповідно. Ми будемо подавати многочлен з номером $i$ у вигляді\n",
    "$S_i=a_i+b_i(x-x_i)+c_i(x-x_i)^2+d_i(x-x_i)^3$ (тобто розкладати не за степенями  $x$, а за степенями $x-x_i$ -- так зручніше).\n",
    "\n",
    "Для отримання суцільної гладкої функціі мають виконуватися наступні умови:\n",
    "\n",
    "1. $S_i(x_i)=y_i; S_i(x_{i+1})=y_{i+1}, \\quad (i=0,1,\\dots, n-1)$, тобто умова інтерполяції -- функція проходить через усі задані точки, зокрема 'сусідні' многочлени мають однакові значення у точках 'стику'. \n",
    "\n",
    "2. $S'_i(x_{i+1})=S'_{i+1}(x_{i+1})  \\quad  (i=0,1,\\dots, n-2)$, тобто рівність похідних --  умова гладкості у точках 'стику', гарантує, що ми не помітимо перехід від одного 'шматка' функціі до наступного неозброєним оком, перехід відбудеться гладко.\n",
    "\n",
    "3. $S''_i(x_{i+1})=S''_{i+1}(x_{i+1})  \\quad  (i=0,1,\\dots, n-2)$, тобто рівність других похідних -- умова рівності кривизни зліва й справа у точках 'стику', гарантує, що перехід не лише відбудеться без зламів, але й плавно. \n",
    "\n",
    "4. $S''_0(x_0)=0; S''_{n-1}(x_n)=0$, тобто умова нульової кривизни на кінцях відрізка -- для того, що побудовану функцію можна було 'приклеїти' ще до якоїсь за потреби.\n",
    "\n",
    "1️⃣ Обчисліть похідні многочленів  $S_i$ й запишіть умови кубічних сплайнів у вигляді системи лінійних рівнянь відносно невідомих коефіцієнтів многочленів $a_i, b_i, c_i, d_i$."
   ]
  },
  {
   "cell_type": "markdown",
   "id": "8a16ccf3-3a43-4305-94c4-ab1fb3dcd9ad",
   "metadata": {},
   "source": [
    "✔️ *Ваші міркування запишіть тут.*"
   ]
  },
  {
   "cell_type": "markdown",
   "id": "e9d1dc8c-2363-4579-bdf0-4a09130d4b53",
   "metadata": {},
   "source": [
    "2️⃣ Напишіть функції, які за заданими точками $[(x_0,y_0), \\dots, (x_n, y_n)]$\n",
    "\n",
    "1. Знаходить матрицю системи умов для кубічних сплайнів.\n",
    "2. Знаходить праву частину системи. \n",
    "3. Розв'язує систему й знаходить коефіцієнти кубічних сплайнів.\n",
    "4. За заданим масивом значень $x$ і коефіцієнтами кубічного многочлена $S$ обчислює значення цього многочлена у точках з масиву $x$."
   ]
  },
  {
   "cell_type": "code",
   "execution_count": null,
   "id": "b626e1fe-1d2a-4561-99de-307eca2614bc",
   "metadata": {},
   "outputs": [],
   "source": [
    "# write your code here"
   ]
  },
  {
   "cell_type": "markdown",
   "id": "a0868a5c-ea49-4ace-af5e-d0fe11da9c9c",
   "metadata": {},
   "source": [
    "Зробіть візуалізацію отриманих результатів:\n",
    "\n",
    "1. Задайте точки  $[(x_0,y_0), \\dots, (x_n, y_n)]$.\n",
    "2. Cформуйте масиви значень $x$ для кожного відрізка  $[x_i, x_{i+1}]$.\n",
    "3. Обчисліть значення відповідного многочлена на цьому відрізку (у вас уже є для цього функція)\n",
    "4. Намалюйте графіки многочленів на площині."
   ]
  },
  {
   "cell_type": "code",
   "execution_count": null,
   "id": "1a4cd5a7-7754-4a1a-9603-76dfd47d56d9",
   "metadata": {},
   "outputs": [],
   "source": [
    "# write your code here"
   ]
  },
  {
   "cell_type": "markdown",
   "id": "07b2fcb8-9ce9-41d9-8e74-5de5748142df",
   "metadata": {},
   "source": [
    "Має вийти щось схоже на наступний малюнок. На ньому три сплайни, які проходять через точки $(1,2), (2,3), (4,1), (7, 4)$.\n",
    "На кожному з відрізків $[1,2], [2,4], [4,7]$ функція є кубічним многочленом. "
   ]
  },
  {
   "cell_type": "markdown",
   "id": "73764138-f11d-4151-a9b8-25ad7505483c",
   "metadata": {},
   "source": [
    "<img src='Cubic_splines.png' width=320, heigth=240>"
   ]
  },
  {
   "cell_type": "markdown",
   "id": "50ab7f6e-466c-489c-8c2a-b35c67bda8be",
   "metadata": {},
   "source": [
    "3️⃣ Для цієї ж задачі використайте готову функцію  CubicSpline з бібліотеки scipy.interpolate.\n",
    "Зробіть її візуалізацію. Порівняйте результати."
   ]
  },
  {
   "cell_type": "code",
   "execution_count": null,
   "id": "e43e5eaf-ae6c-4933-8cd1-86148e5fbbdd",
   "metadata": {},
   "outputs": [],
   "source": [
    "from scipy.interpolate import CubicSpline\n",
    "#write your code here"
   ]
  },
  {
   "cell_type": "code",
   "execution_count": null,
   "id": "34684d55-09f5-42b0-b5bb-92761b29c1b6",
   "metadata": {},
   "outputs": [],
   "source": []
  }
 ],
 "metadata": {
  "kernelspec": {
   "display_name": "Python 3 (ipykernel)",
   "language": "python",
   "name": "python3"
  },
  "language_info": {
   "codemirror_mode": {
    "name": "ipython",
    "version": 3
   },
   "file_extension": ".py",
   "mimetype": "text/x-python",
   "name": "python",
   "nbconvert_exporter": "python",
   "pygments_lexer": "ipython3",
   "version": "3.11.9"
  }
 },
 "nbformat": 4,
 "nbformat_minor": 5
}
