{
 "cells": [
  {
   "cell_type": "markdown",
   "metadata": {
    "id": "koS6S03fcKlH"
   },
   "source": [
    "# **LA_01 Matrices**"
   ]
  },
  {
   "cell_type": "markdown",
   "metadata": {
    "id": "ALM2P2ubcXhA"
   },
   "source": [
    "#### **Definition.**\n",
    "\n",
    "A *matrix* is a rectangular array of scalar elements $a_{ij}$  with $m$ rows and $n$ columns:\n",
    "$$\\displaystyle \\left(\\begin{array}{ c c c c }\n",
    "a_{11} & a_{12} & \\dotsc  & a_{1n}\\\\\n",
    "a_{21} & a_{22} & \\dotsc  & a_{2n}\\\\\n",
    "\\vdots  & \\vdots  & \\ddots  & \\vdots \\\\\n",
    "a_{m1} & a_{m2} & \\dotsc  & a_{mn}\n",
    "\\end{array}\\right).$$\n",
    "\n",
    "The matrix elements (entries) $a_{ij}$ can be taken from any field.\n",
    "\n",
    "A short-hand notation for the $m\\times n$ matrix with elements $a_{ij}$ in $i$-th row and $j$-th column can be as follows:\n",
    "\n",
    "$$A=(a_{ij}) = (a_{ij})_{m\\times n}.$$\n"
   ]
  },
  {
   "cell_type": "markdown",
   "metadata": {
    "id": "pfKWbvGEiUX6"
   },
   "source": [
    "#### **The row and column nature of the matrix**.  \n",
    "\n",
    "A convinient way to understand a matrix is its representation as a number of column-vectors or row-vectors. The common way to write vectors in linear algebra is in the column style: $x\\ =\\left(\\begin{array}{ c }\n",
    "x_{1}\\\\\n",
    "x_{2}\\\\\n",
    "\\vdots \\\\\n",
    "x_{m}\n",
    "\\end{array}\\right)$. The row-vectors are written as $x^t\\ =\\left(x_1, x_2, \\dots , x_m \\right)$, where $t$ -- is a symbol of *transpose*, i.e. operation, that transforms columns into rows.\n",
    "\n",
    "A matrix $A$ with column-vectors $c_1, c_2, \\dots, c_n$ can be written as $$\\displaystyle a\\ =\\left(\\begin{array}{ c c c }\n",
    "| &  & |\\\\\n",
    "c_{1} & \\dotsc  & c_{n}\\\\\n",
    "| &  & |\n",
    "\\end{array}\\right) =( c_{1} ,\\ \\dotsc ,\\ c_{n})=( c_{,1} ,\\ \\dotsc ,\\ c_{,n}).$$\n",
    "\n",
    "The last pre-comma indexation is for highlighting the column nature of $c_1, \\dots, c_n$.\n",
    "\n",
    "A matrix $A$ with row-vectors $r_1, r_2, \\dots, r_m$ can be written as\n",
    "$\\displaystyle A =\\left(\\begin{array}{ c c c }\n",
    "- & r_{1,}^{t} & -\\\\\n",
    " & \\vdots  & \\\\\n",
    "- & r_{m,}^{t} & -\n",
    "\\end{array}\\right) =\\left(\\begin{array}{ c }\n",
    "r_{1,}^{t}\\\\\n",
    "\\vdots \\\\\n",
    "r_{m,}^{t}\n",
    "\\end{array}\\right)$\n",
    "\n",
    "The after-comma indexation  is  for highlighting the row nature of $r_1, \\dots, r_m$.\n",
    "\n",
    "\n"
   ]
  },
  {
   "cell_type": "markdown",
   "metadata": {
    "id": "Alx8q7obAbPO"
   },
   "source": [
    "\n",
    "\n",
    "---\n",
    "#### **Coding sample: how to define a matrix in numpy**"
   ]
  },
  {
   "cell_type": "code",
   "execution_count": 1,
   "metadata": {
    "colab": {
     "base_uri": "https://localhost:8080/"
    },
    "id": "Oepr2uKicBpc",
    "outputId": "8b1c731f-b2ea-4d8c-96f0-117671ce7033"
   },
   "outputs": [
    {
     "name": "stdout",
     "output_type": "stream",
     "text": [
      "A = [[1 2]\n",
      " [2 4]\n",
      " [3 6]] \n",
      "\n",
      "c = [[1]\n",
      " [2]] \n",
      "\n",
      "r = [1 2 3] \n",
      "\n",
      "Z = [[0. 0. 0.]\n",
      " [0. 0. 0.]] \n",
      "\n",
      "N = [[1. 1. 1.]\n",
      " [1. 1. 1.]] \n",
      "\n"
     ]
    }
   ],
   "source": [
    "import numpy as np\n",
    "\n",
    "A = np.array([[1,2], [2,4], [3,6]]) #3x2 matrix\n",
    "c = np.array([[1], [2]])            #2x1 matrix = column vector\n",
    "r = np.array([1,2,3])               #1x3 matrix = row vector\n",
    "\n",
    "#zero matrix 2x3\n",
    "Z = np.zeros((2, 3))\n",
    "\n",
    "#matrix with all 1 elements\n",
    "N = np.ones((2,3))\n",
    "\n",
    "print(f'A = {A} \\n')\n",
    "print(f'c = {c} \\n')\n",
    "print(f'r = {r} \\n')\n",
    "print(f'Z = {Z} \\n')\n",
    "print(f'N = {N} \\n')"
   ]
  },
  {
   "cell_type": "markdown",
   "metadata": {
    "id": "ee2XPde2BW3g"
   },
   "source": [
    "\n",
    "\n",
    "---\n",
    "\n"
   ]
  },
  {
   "cell_type": "markdown",
   "metadata": {
    "id": "AZc_tXlAC9tU"
   },
   "source": [
    "#### **Basic matrix operations**\n",
    "\n",
    "Let $A=(a_{ij})_{m\\times n}$, $B=(b_{ij})_{m\\times n}$ be matrices with elements from the same field and $\\lambda$ be the scalar from the same field.\n",
    "\n",
    "1.   To get the *transpose* $A^t$ of $A$ one should write the rows of $A$ as the columns of $A^t$ (or write the columns of $A$ as the rows of $A^t$). Formally: $A^t=(a'_ij)_{n\\times m}$ with $a'_{ij}=a_{ji}$\n",
    "\n",
    "2.   To get the *sum* $A+B$ of $A$ and $B$ one should add them entrywise. Formally: $C=(c_{ij})_{m\\times n}=A+B$, if  $c_{ij}=a_{ij}+b_{ij}$.\n",
    "\n",
    "3. To get the matrix  *multiplied by scalar $\\lambda$* $\\lambda A$ one should multiply every element of $A$ by $\\lambda$. Formally: $\\lambda A=(\\lambda a_{ij})_{m\\times n}$.\n",
    "\n",
    "With matrix addition and scalar multiplication one can get *linear combinations* of an arbitrary number of matrices like $\\lambda_1A_1+\\lambda_2A_2+\\dots +\\lambda_kA_k$. Particularly one can get the linear combinations of column-vectors (or row-vectors).\n",
    "\n",
    "*Example.* For $a=\\left(\\begin{array}{ c }\n",
    "1\\\\\n",
    "2\\\\\n",
    "3\\\\\n",
    "\\end{array}\\right)$ and\n",
    "$b=\\left(\\begin{array}{ c }\n",
    "1\\\\\n",
    "1\\\\\n",
    "1\\\\\n",
    "\\end{array}\\right)$ take the linear combination\n",
    "$2a+3b=2\\left(\\begin{array}{ c }\n",
    "1\\\\\n",
    "2\\\\\n",
    "3\\\\\n",
    "\\end{array}\\right)+\n",
    "3\\left(\\begin{array}{ c }\n",
    "1\\\\\n",
    "1\\\\\n",
    "1\\\\\n",
    "\\end{array}\\right) =\n",
    "\\left(\\begin{array}{ c }\n",
    "5\\\\\n",
    "7\\\\\n",
    "9\\\\\n",
    "\\end{array}\\right).$\n",
    "\n",
    "\n"
   ]
  },
  {
   "cell_type": "markdown",
   "metadata": {
    "id": "ljqag5WwIPNk"
   },
   "source": [
    "---\n",
    "#### **Coding sample: how to do basic matrix operations in numpy**"
   ]
  },
  {
   "cell_type": "code",
   "execution_count": null,
   "metadata": {
    "colab": {
     "base_uri": "https://localhost:8080/"
    },
    "id": "uf8hR3AOC7uN",
    "outputId": "58353800-46d0-45d6-def1-84a8f33d0132"
   },
   "outputs": [
    {
     "name": "stdout",
     "output_type": "stream",
     "text": [
      "Transpose of A:\n",
      " AT=[[1 2 3]\n",
      " [2 4 6]]\n",
      " or AT=[[1 2 3]\n",
      " [2 4 6]] \n",
      "\n",
      "The sum of A and B:\n",
      " A+B=[[0 5]\n",
      " [2 6]\n",
      " [8 7]] \n",
      "\n",
      "2A = [[ 2  4]\n",
      " [ 4  8]\n",
      " [ 6 12]] \n",
      "\n"
     ]
    }
   ],
   "source": [
    "A = np.array([[1,2], [2,4], [3,6]])\n",
    "B = np.array([[-1,3], [0,2], [5,1]])\n",
    "l = 2\n",
    "\n",
    "AT = A.T            #transpose\n",
    "AT1 = A.transpose() #another way for transpose\n",
    "C = A+B             #addition\n",
    "D = l*A             #scalar multiplication\n",
    "\n",
    "print(f\"Transpose of A:\\n AT={AT}\\n or AT={AT1} \\n\")\n",
    "print(f\"The sum of A and B:\\n A+B={C} \\n\")\n",
    "print(f\"2A = {D} \\n\")"
   ]
  },
  {
   "cell_type": "markdown",
   "metadata": {
    "id": "28Z7_q_aJcKi"
   },
   "source": [
    "\n",
    "\n",
    "---\n",
    "\n"
   ]
  },
  {
   "cell_type": "markdown",
   "metadata": {
    "id": "shwiQJSkJp55"
   },
   "source": [
    "#### **Basic matrix operations properties**\n",
    "\n",
    "For every $A=(a_{ij})_{m\\times n}$, $B=(b_{ij})_{m\\times n}$, $C=(c_{ij})_{m\\times n}$ and scalars $\\lambda, \\mu$.\n",
    "\n",
    "\n",
    "\n",
    "1. *Transpose of transpose:* $(A^t)^t=A$.\n",
    "2. *Transpose of the sum:* $(A+B)^t=A^t+B^t$.\n",
    "3. *Transpose of scalar multiplication:* $(\\lambda A)^t=\\lambda A^t$.\n",
    "4. *Associativity of addition:* $A+(B+C)=(A+B)+C$.\n",
    "5. *Commutativity of addition:* $A+B=B+A$.\n",
    "6. *Addition neutral element:* $A+O=O+A=A$ for zero matrix $O=(0)_{m\\times n}$.\n",
    "7. *Scalar multiplication associativity:* $\\lambda(\\mu A)=(\\lambda\\mu)A$.\n",
    "8. *Distributivity in scalars:* $(\\lambda+\\mu)A=\\lambda A+\\mu A$.\n",
    "9. *Distributivity in matrices:* $\\lambda(A+B)=\\lambda A+\\lambda B$.\n",
    "\n",
    "\n"
   ]
  },
  {
   "cell_type": "markdown",
   "metadata": {
    "id": "lLR_Jhm1Qead"
   },
   "source": [
    "#### **The main types of square matrices**\n",
    "\n",
    "*Square matrix* has the same number of columns and rows:  $A=A_{n\\times n}$. The *main diagonal* of square matrix consists of elements $a_{ii}$. The *antidiagonal* of square matrix $A_{n\\times n}$ consists of elements $a_{i, (n+1-i)}$.\n",
    "\n",
    "The main types of square matrices are:\n",
    "\n",
    "1. *Upper triangular:* $U=(u_{ij})_{n\\times n}$ with $u_{ij}=0$ if $i>j$.\n",
    "$U=\\left(\\begin{array}{ c c c c }\n",
    "u_{11} & u_{12} & \\dotsc  & u_{1n}\\\\\n",
    "0 & u_{22} & \\dotsc  & u_{2n}\\\\\n",
    "\\vdots  & \\vdots  &  & \\vdots \\\\\n",
    "0 & 0 & \\dotsc  & u_{nn}\n",
    "\\end{array}\\right).$\n",
    "\n",
    "2. *Lower triangular:* $L=(l_{ij})_{n\\times n}$ with $l_{ij}=0$ if $i<j$.\n",
    "$L=\\left(\\begin{array}{ c c c c }\n",
    "l_{11} & 0 & \\dotsc  & 0\\\\\n",
    "l_{21} & l_{22} & \\dotsc  & 0\\\\\n",
    "\\vdots  & \\vdots  &  & \\vdots \\\\\n",
    "l_{n1} & l_{n2} & \\dotsc  & l_{nn}\n",
    "\\end{array}\\right).$"
   ]
  },
  {
   "cell_type": "markdown",
   "metadata": {
    "id": "-z2B0F89gv4M"
   },
   "source": [
    "3. *Diagonal*: $D=(d_{ij})$ with $d_{ij}=0$ if $i\\ne j$. $D= \\left(\\begin{array}{ c c c c }\n",
    "d_{11} & 0 & \\dotsc  & 0\\\\\n",
    "0 & d_{22} & \\dotsc  & 0\\\\\n",
    "\\vdots  & \\vdots  &  & \\vdots \\\\\n",
    "0 & 0 & \\dotsc  & d_{nn}\n",
    "\\end{array}\\right).$\n",
    "\n",
    "4. *Identity matrix:* $I=(d_{ij})$ with $d_{ij} =\\begin{cases}\n",
    "0,\\ i\\neq \\ j;\\\\\n",
    "1,\\ i=j.\n",
    "\\end{cases}$. $I=\\left(\\begin{array}{ c c c c }\n",
    "1 & 0 & \\dotsc  & 0\\\\\n",
    "0 & 1 & \\dotsc  & 0\\\\\n",
    "\\vdots  & \\vdots  &  & \\vdots \\\\\n",
    "0 & 0 & \\dotsc  & 1\n",
    "\\end{array}\\right).$\n",
    "\n",
    "5. *Scalar matrix:* $\\Lambda=(d_{ij})$ with $d_{ij} =\\begin{cases}\n",
    "0,\\ i\\neq \\ j;\\\\\n",
    "\\lambda,\\ i=j.\n",
    "\\end{cases}$. $\\Lambda=\\left(\\begin{array}{ c c c c }\n",
    "\\lambda & 0 & \\dotsc  & 0\\\\\n",
    "0 & \\lambda & \\dotsc  & 0\\\\\n",
    "\\vdots  & \\vdots  &  & \\vdots \\\\\n",
    "0 & 0 & \\dotsc  & \\lambda\n",
    "\\end{array}\\right) =\\lambda I.$\n",
    "\n",
    "6. *Symmetric:* $S=(s_{ij})$ with $s_{ij}=s_{ji}$, i.e. $S^t=S$.\n",
    "$S= \\left(\\begin{array}{ c c c c }\n",
    "s_{11} & s_{12} & \\dotsc  & s_{1n}\\\\\n",
    "s_{12} & s_{22} & \\dotsc  & s_{2n}\\\\\n",
    "\\vdots  & \\vdots  &  & \\vdots \\\\\n",
    "s_{1n} & s_{2n} & \\dotsc  & s_{nn}\n",
    "\\end{array}\\right).$\n",
    "\n",
    "7. *Skew-symmetric:* $K=(k_{ij})$ with $k_{ij}= -k_{ji}$ ($i\\ne j$) and $k_{ii}=0$, i.e. $K^t=-K$ (for most common fields, but not for all).\n",
    "$S= \\left(\\begin{array}{ c c c c }\n",
    "0 & k_{12} & \\dotsc  & k_{1n}\\\\\n",
    "-k_{12} & 0 & \\dotsc  & k_{2n}\\\\\n",
    "\\vdots  & \\vdots  &  & \\vdots \\\\\n",
    "-k_{1n} & -k_{2n} & \\dotsc  & 0\n",
    "\\end{array}\\right).$"
   ]
  },
  {
   "cell_type": "markdown",
   "metadata": {
    "id": "6N6w5T09jZ2f"
   },
   "source": [
    "---\n",
    "#### **Coding sample: how to manipulate with different types of matrices**"
   ]
  },
  {
   "cell_type": "code",
   "execution_count": null,
   "metadata": {
    "colab": {
     "base_uri": "https://localhost:8080/"
    },
    "id": "gNeaYADgIMuP",
    "outputId": "81fb1081-2e45-4961-8c73-d9a51c91673e"
   },
   "outputs": [
    {
     "name": "stdout",
     "output_type": "stream",
     "text": [
      "Identity matrix \n",
      " [[1. 0. 0.]\n",
      " [0. 1. 0.]\n",
      " [0. 0. 1.]] \n",
      "\n",
      "Diagonal matrix \n",
      " [[1 0 0]\n",
      " [0 2 0]\n",
      " [0 0 3]] \n",
      "\n",
      "Is matrix \n",
      " A = [[1 2 3]\n",
      " [2 4 5]\n",
      " [3 5 6]] symmetric? \n",
      " True \n",
      "\n",
      "Upper triangle of A is \n",
      " [[1 2 3]\n",
      " [0 4 5]\n",
      " [0 0 6]]\n"
     ]
    }
   ],
   "source": [
    "import scipy as sp\n",
    "\n",
    "#generate identity matrix 3x3\n",
    "I = np.eye(3)\n",
    "\n",
    "#generate diagonal matrix 3x3\n",
    "D = np.diag([1,2,3])\n",
    "\n",
    "#check if the matrix is symmetric (with some tollerance)\n",
    "A = np.array([[1,2,3], [2, 4, 5], [3, 5, 6]])\n",
    "issym = sp.linalg.issymmetric(A, atol=None, rtol=None)\n",
    "\n",
    "#take the upper-triangular part of the array\n",
    "AU = np.triu(A)\n",
    "\n",
    "print(f'Identity matrix \\n {I} \\n')\n",
    "print(f'Diagonal matrix \\n {D} \\n')\n",
    "print(f'Is matrix \\n A = {A} symmetric? \\n {issym} \\n')\n",
    "print(f'Upper triangle of A is \\n {AU}')"
   ]
  },
  {
   "cell_type": "markdown",
   "metadata": {
    "id": "PGr2LWj8jjkZ"
   },
   "source": [
    "\n",
    "\n",
    "---\n",
    "\n"
   ]
  },
  {
   "cell_type": "markdown",
   "metadata": {
    "id": "eTkLy6NdmCkT"
   },
   "source": [
    "#### **Matrix multiplication.**\n",
    "\n",
    "For $A=(a_{ij})_{m\\times n}$ and $B=(b_{ij})_{n\\times k}$ the *product*  $C=AB$ is $C=(c_{ij})_{m\\times k}$ with $c_{ij} = \\displaystyle\\sum_{t=1}^n a_{it}b_{tj}.$\n",
    "\n",
    "*Examples.*\n",
    "1. $\\begin{pmatrix}\n",
    "1 & 2 & 3\\\\\n",
    "4 & 5 & 6\n",
    "\\end{pmatrix}\\begin{pmatrix}\n",
    "1\\\\\n",
    "2\\\\\n",
    "3\n",
    "\\end{pmatrix} =\\begin{pmatrix}\n",
    "1\\cdot 1+2\\cdot 2+3\\cdot 3\\\\\n",
    "4\\cdot 1+5\\cdot 2+6\\cdot 3\n",
    "\\end{pmatrix} =\\begin{pmatrix}\n",
    "14\\\\\n",
    "32\n",
    "\\end{pmatrix}$\n",
    "\n",
    "2. $\\begin{pmatrix}\n",
    "1 & 2\\\\\n",
    "3 & 4\n",
    "\\end{pmatrix}\\begin{pmatrix}\n",
    "0 & 1\\\\\n",
    "2 & 1\n",
    "\\end{pmatrix} =\\begin{pmatrix}\n",
    "1\\cdot 0+2\\cdot 2 & 1\\cdot 1+2\\cdot 1\\\\\n",
    "3\\cdot 0+4\\cdot 2 & 3\\cdot 1+4\\cdot 1\n",
    "\\end{pmatrix} =\\begin{pmatrix}\n",
    "4 & 3\\\\\n",
    "8 & 7\n",
    "\\end{pmatrix}$\n"
   ]
  },
  {
   "cell_type": "markdown",
   "metadata": {
    "id": "RNJ64hU7yqTL"
   },
   "source": [
    "#### **Motivation of matrix multiplication**\n",
    "\n",
    "![Matrix_mult_motiv.png](data:image/png;base64,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)"
   ]
  },
  {
   "cell_type": "markdown",
   "metadata": {
    "id": "QZoumAt87DDb"
   },
   "source": [
    "Consider vectors $x=\\begin{pmatrix}\n",
    "x_1  \\\\\n",
    "x_2  \n",
    "\\end{pmatrix}$\n",
    "as geometrical vectors on the plane with cartesian coordinates. Let\n",
    "$A = \\begin{pmatrix}\n",
    "0 & -1 \\\\\n",
    "1 & 0\n",
    "\\end{pmatrix}$\n",
    "and\n",
    "$B = \\begin{pmatrix}\n",
    "1 & 0 \\\\\n",
    "0 & -1\n",
    "\\end{pmatrix}$.\n",
    "Then $A$ rotates plane $90^0$ counterclockwise and $B$ reflects the plane about $X$-axis (see picture above) since $A\\begin{pmatrix}\n",
    "x_1  \\\\\n",
    "x_2  \n",
    "\\end{pmatrix} = \\begin{pmatrix}\n",
    "-x_2  \\\\\n",
    "x_1  \n",
    "\\end{pmatrix}$ and\n",
    "$B\\begin{pmatrix}\n",
    "x_1  \\\\\n",
    "x_2  \n",
    "\\end{pmatrix} = \\begin{pmatrix}\n",
    "x_1  \\\\\n",
    "-x_2  \n",
    "\\end{pmatrix}$.\n",
    "\n",
    "The matrix product $AB = \\begin{pmatrix}\n",
    "0 & 1 \\\\\n",
    "1 & 0\n",
    "\\end{pmatrix}$ performs the composition: reflection first, then rotation.\n",
    "\n",
    "So the matrix product is adjusted to perform the composition of maps given by its factors."
   ]
  },
  {
   "cell_type": "markdown",
   "metadata": {
    "id": "rlkPDEkn9TMU"
   },
   "source": [
    "#### **Matrix multiplication properties**\n",
    "\n",
    "1.   *Associativity:* $A(BC)=(AB)C$ for every $A_{m\\times n}, B_{n\\times k}, C_{k\\times l}$.\n",
    "2.   *Neutral element:* $AI=IA=A$ for identity matrix $I=I_{n\\times n}$ and every $A_{n\\times n}$.\n",
    "3. *Distributivity:*\n",
    "\n",
    "$A(B+C)=AB+AC$ for every $A_{m\\times n}, B_{n\\times k}, C_{n\\times k}$.\n",
    "\n",
    "$(A+B)C=AC+BC$ for every $A_{m\\times n}, B_{m\\times n}, C_{n\\times k}$.\n",
    "\n",
    "4. *Transpose of the product:* $(AB)^t=B^tA^t$ for every $A_{m\\times n}, B_{n\\times k}$.\n",
    "\n",
    "Note that there are no commutativity in general, although some matrices can commute.\n",
    "\n",
    "*Example.* For $A = \\begin{pmatrix}\n",
    "0 & -1 \\\\\n",
    "1 & 0\n",
    "\\end{pmatrix}$\n",
    "and\n",
    "$B = \\begin{pmatrix}\n",
    "1 & 0 \\\\\n",
    "0 & -1\n",
    "\\end{pmatrix}$\n",
    "\n",
    "$AB=\\begin{pmatrix}\n",
    "0 & 1 \\\\\n",
    "1 & 0\n",
    "\\end{pmatrix}$ and\n",
    "$BA=\n",
    "\\begin{pmatrix}\n",
    "0 & -1 \\\\\n",
    "-1 & 0\n",
    "\\end{pmatrix}\\ne AB.$\n",
    "\n"
   ]
  },
  {
   "cell_type": "markdown",
   "metadata": {
    "id": "x7QP2_3JAkwO"
   },
   "source": [
    "---\n",
    "#### **Coding sample: how to do matrix multiplication in numpy**"
   ]
  },
  {
   "cell_type": "code",
   "execution_count": null,
   "metadata": {
    "colab": {
     "base_uri": "https://localhost:8080/"
    },
    "id": "E_fC-hESjkgT",
    "outputId": "b232c5b5-6976-448c-ed35-926a1809952c"
   },
   "outputs": [
    {
     "name": "stdout",
     "output_type": "stream",
     "text": [
      "AB =\n",
      " [[22 28]\n",
      " [49 64]] \n",
      " = [[22 28]\n",
      " [49 64]]\n",
      "\n",
      "Vectors dot (inner, scalar) product <x, y>= 9\n",
      "\n",
      "If (AB)C = A(BC): True\n"
     ]
    }
   ],
   "source": [
    "A = np.array([[1,2,3], [4,5,6]])\n",
    "B = np.array([[1,2], [3,4], [5,6]])\n",
    "C = np.array([[7,8], [9,10]])\n",
    "\n",
    "x = np.array([1, 1, 1])\n",
    "y = np.array([2, 3, 4])\n",
    "\n",
    "#matrix multiplication\n",
    "AB1 = A @ B\n",
    "AB2 = np.matmul(A, B) #another way for matrix multiplication\n",
    "\n",
    "#vectors dot (inner, scalar) product, can be used for matrices as well, but not recommended\n",
    "c = np.dot(x, y)\n",
    "\n",
    "#associativity law illustration\n",
    "AB_C = (A @ B) @ C\n",
    "A_BC = A @ (B @ C)\n",
    "check = np.allclose(AB_C, A_BC)\n",
    "\n",
    "print(f'AB =\\n {AB1} \\n = {AB2}\\n')\n",
    "print(f'Vectors dot (inner, scalar) product <x, y>= {c}\\n')\n",
    "print(f'If (AB)C = A(BC): {check}')"
   ]
  },
  {
   "cell_type": "markdown",
   "metadata": {
    "id": "TNNHqALSAsiE"
   },
   "source": [
    "\n",
    "\n",
    "---\n",
    "\n"
   ]
  },
  {
   "cell_type": "markdown",
   "metadata": {
    "id": "86ESJ1flPw62"
   },
   "source": [
    "#### **Inverse matrix: the first discussion**\n",
    "\n",
    "**Definition.** Let $A$ be a square matrix. $A^{-1}$ is called the *inverse* for $A$, if $AA^{-1}=A^{-1}A=I$. In this case we say that $A$ is *invertable*.\n",
    "\n",
    "Note that if $A$ is $n\\times n$, then $A^{-1}$ is $n\\times n$ either.\n",
    "\n",
    "Some matrices are invertable and some are not.\n",
    "\n",
    "*Examples.*\n",
    "\n",
    "1. $I$ is invertable, $I^{-1}=I$.\n",
    "\n",
    "2. $O=O_{n\\times n}$ is not invertable since $OA=AO=O$ for every $A_{n\\times n}$."
   ]
  },
  {
   "cell_type": "markdown",
   "metadata": {
    "id": "6Q4bWw9hTV8h"
   },
   "source": [
    "#### **Elementary properties of inverse matrix**\n",
    "\n",
    "1. *Uniqueness.* If $A$ is an invertable matrix there is the unique inverse for it.\n",
    "\n",
    "2. *Right and left inverses coincideness.* If $BA=I$ and $AC=I$, that is $B$ is the rigth inverse for $A$ and $C$ is the left one, then $B=C$.\n",
    "\n",
    "3. *Product inverse.* If $A, B$ are invertable matrices of the same order, then $AB$ is invertable and $(AB)^{-1}=B^{-1}A^{-1}$."
   ]
  },
  {
   "cell_type": "markdown",
   "metadata": {
    "id": "_4nqiXSMTnEF"
   },
   "source": [
    "---\n",
    "#### **Coding sample: the inverse matrix**"
   ]
  },
  {
   "cell_type": "code",
   "execution_count": 2,
   "metadata": {
    "colab": {
     "base_uri": "https://localhost:8080/"
    },
    "id": "XKcT496TAtJh",
    "outputId": "4af897b5-420e-4f4d-d696-68347a034782"
   },
   "outputs": [
    {
     "name": "stdout",
     "output_type": "stream",
     "text": [
      "Whether (AB)^-1=B^-1A^-1: \n",
      " True \n",
      "\n"
     ]
    }
   ],
   "source": [
    "from numpy.linalg import inv\n",
    "\n",
    "A = np.array([[1, 2], [3, 4]])\n",
    "B = np.array([[5, 6], [7, 8]])\n",
    "\n",
    "check = np.allclose(inv(B) @ inv(A), inv(A @ B))\n",
    "\n",
    "print(f'Whether (AB)^{-1}=B^{-1}A^{-1}: \\n {check} \\n')"
   ]
  },
  {
   "cell_type": "markdown",
   "metadata": {
    "id": "ePXgj1fKTtnf"
   },
   "source": [
    "\n",
    "\n",
    "---\n",
    "\n"
   ]
  },
  {
   "cell_type": "code",
   "execution_count": null,
   "metadata": {
    "id": "LRoSKNY1TuJ7"
   },
   "outputs": [],
   "source": []
  }
 ],
 "metadata": {
  "colab": {
   "provenance": []
  },
  "kernelspec": {
   "display_name": "Python 3 (ipykernel)",
   "language": "python",
   "name": "python3"
  },
  "language_info": {
   "codemirror_mode": {
    "name": "ipython",
    "version": 3
   },
   "file_extension": ".py",
   "mimetype": "text/x-python",
   "name": "python",
   "nbconvert_exporter": "python",
   "pygments_lexer": "ipython3",
   "version": "3.12.4"
  }
 },
 "nbformat": 4,
 "nbformat_minor": 4
}
