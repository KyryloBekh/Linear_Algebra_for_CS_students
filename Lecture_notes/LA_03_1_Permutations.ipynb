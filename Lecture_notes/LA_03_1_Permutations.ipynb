{
  "nbformat": 4,
  "nbformat_minor": 0,
  "metadata": {
    "colab": {
      "provenance": []
    },
    "kernelspec": {
      "name": "python3",
      "display_name": "Python 3"
    },
    "language_info": {
      "name": "python"
    }
  },
  "cells": [
    {
      "cell_type": "markdown",
      "source": [
        "# **LA_03_1 Permutations**"
      ],
      "metadata": {
        "id": "bIqSq-DM60QY"
      }
    },
    {
      "cell_type": "code",
      "source": [
        "import numpy as np"
      ],
      "metadata": {
        "id": "5kmrkxdA8vey"
      },
      "execution_count": null,
      "outputs": []
    },
    {
      "cell_type": "markdown",
      "source": [
        "#### **Permutations**\n",
        "\n",
        "**Definition**  An (algebraic) permutation of $n$ elements is a bijection (i.e. on-to-one map) from the set $\\{1,2,3,\\dots, n\\}$ to itself.\n",
        "\n",
        "For the permutation $\\sigma$ it means that map images $\\sigma(1), \\dots, \\sigma(n)$ are all the distinct elements from  $\\{1,2,3,\\dots, n\\}$.\n",
        "\n",
        "The permutation $\\sigma$ can be given as  $\\displaystyle \\sigma =\\begin{pmatrix}\n",
        "1 & 2 & \\dotsc  & n\\\\\n",
        "\\sigma ( 1) & \\sigma ( 2) & \\dotsc  & \\sigma ( n)\n",
        "\\end{pmatrix}$, where $\\sigma(1), \\dots, \\sigma(n)$ in the second raw is a combinatorial permutation of $1,2, \\dots, n$, i.e., just another rearrangment of these elements. That is why algebraic and combinatorial permutations are usually not distinguished. But we will refer to permutations as maps.\n",
        "\n",
        "The columns of the permutation can be given in any order.\n",
        "\n",
        "*Example.*  $\\sigma =\\begin{pmatrix}\n",
        "1 & 2 & 3 & 4\\\\\n",
        "3 & 2 & 4 &  1\n",
        "\\end{pmatrix} = \\begin{pmatrix}\n",
        "2 & 4 & 3 & 1\\\\\n",
        "2 & 1 & 4 & 3\n",
        "\\end{pmatrix}.$\n",
        "\n",
        "\n",
        "\n",
        "$S_n$ is used to denote the set of all permutations of $n$ elements.\n",
        "\n",
        "Obviously $|S_n|=n!$."
      ],
      "metadata": {
        "id": "NGEtA4G17pQH"
      }
    },
    {
      "cell_type": "markdown",
      "source": [
        "\n",
        "---\n",
        "#### **Coding sample: permutations generation**\n"
      ],
      "metadata": {
        "id": "06cgMQKu_4i4"
      }
    },
    {
      "cell_type": "code",
      "source": [
        "from itertools import permutations\n",
        "\n",
        "#construct all the permutation of 1, 2, 3\n",
        "permutations_list = list(permutations([1, 2, 3]))\n",
        "print('Permutations as tuples:', permutations_list)\n",
        "\n",
        "def perm_to_dict(tuple):\n",
        "  '''\n",
        "  Convert tuple-permutation into a dictionary\n",
        "  Args:\n",
        "      tuple: should be a permutation of  1, 2, ... ,n.\n",
        "  Returns:\n",
        "      A dictionary representing the permutation. Keys are the elements being permuted, and values are their images.\n",
        "  '''\n",
        "  return {i+1: tuple[i] for i in range(len(tuple))}\n",
        "\n",
        "print('Permutations as dicts(maps):', [perm_to_dict(t) for t in permutations_list])"
      ],
      "metadata": {
        "colab": {
          "base_uri": "https://localhost:8080/"
        },
        "id": "_JHm7DLNBFLb",
        "outputId": "e89bf2af-efb5-465c-9546-dfb04b841f4c"
      },
      "execution_count": null,
      "outputs": [
        {
          "output_type": "stream",
          "name": "stdout",
          "text": [
            "Permutations as tuples: [(1, 2, 3), (1, 3, 2), (2, 1, 3), (2, 3, 1), (3, 1, 2), (3, 2, 1)]\n",
            "Permutations as dicts(maps): [{1: 1, 2: 2, 3: 3}, {1: 1, 2: 3, 3: 2}, {1: 2, 2: 1, 3: 3}, {1: 2, 2: 3, 3: 1}, {1: 3, 2: 1, 3: 2}, {1: 3, 2: 2, 3: 1}]\n"
          ]
        }
      ]
    },
    {
      "cell_type": "markdown",
      "source": [
        "\n",
        "---\n"
      ],
      "metadata": {
        "id": "Vq7n5HxL__B3"
      }
    },
    {
      "cell_type": "markdown",
      "source": [
        "#### **Permutation multiplication**\n",
        "\n",
        "**Definition.** We can define the multiplication of permutations as a composition of underlying maps: $\\sigma\\tau(j)=\\sigma(\\tau(j))$ for every $j=1,2,\\dots, n.$\n",
        "\n",
        "*Example.* $\\sigma\\tau = \\left(\\begin{array}{ c c c c c }\n",
        "1 & 2 & 3 & 4 & 5\\\\\n",
        "4 & 2 & 1 & 5 & 3\n",
        "\\end{array}\\right)\\left(\\begin{array}{ c c c c c }\n",
        "1 & 2 & 3 & 4 & 5\\\\\n",
        "1 & 3 & 5 & 4 & 2\n",
        "\\end{array}\\right) =  \\left(\\begin{array}{ c c c c c }\n",
        "1 & 2 & 3 & 4 & 5\\\\\n",
        "4 & 1 & 3 & 5 & 2\n",
        "\\end{array}\\right)$.\n",
        "\n",
        "Note that due to composition nature multiplication is done from right to left (inner map first), e.g. $\\sigma\\tau(2)=\\sigma(\\tau(2))=\\sigma(3)=1$.\n",
        "\n",
        "Also note that permutation multiplication is not commutative in general.\n",
        "\n",
        "**Theorem [on permutation multiplication properties].**\n",
        "1. *Associativity*. $\\sigma(\\tau\\rho)=(\\sigma\\tau)\\rho$.\n",
        "2. *Neutral element*. For $id = \\left(\\begin{array}{ c c c c }\n",
        "1 & 2 & \\dots & n \\\\\n",
        "1 & 2 & \\dots & n\n",
        "\\end{array}\\right)$ and every $\\sigma$ it holds $\\sigma id = id\\sigma=\\sigma$.\n",
        "3. *Inverse*. There is an inverse permutation $\\sigma^{-1}$ for every $\\sigma\\in S_n$: $\\sigma^{-1}\\sigma=\\sigma\\sigma^{-1}=id$.\n",
        "\n",
        "The theorem states that $S_n$ is a group with multiplication operation. It is called the *symmetrical* group."
      ],
      "metadata": {
        "id": "4kAJoAcM69MK"
      }
    },
    {
      "cell_type": "markdown",
      "source": [
        "\n",
        "---\n",
        "#### **Coding sample: permutation multiplication**"
      ],
      "metadata": {
        "id": "Z66iu-i0ut6t"
      }
    },
    {
      "cell_type": "code",
      "execution_count": null,
      "metadata": {
        "id": "KR12dfkD6l_S"
      },
      "outputs": [],
      "source": [
        "# generated by AI\n",
        "\n",
        "def permutation_composition(sigma, tau):\n",
        "    \"\"\"\n",
        "    Computes the composition of two permutations.\n",
        "\n",
        "    Args:\n",
        "        sigma: A dictionary representing the first permutation. Keys are the elements being permuted, and values are their images.\n",
        "        tau: A dictionary representing the second permutation.\n",
        "\n",
        "    Returns:\n",
        "        A dictionary representing the composition of sigma and tau (sigma(tau(x))).\n",
        "        Returns None if the permutations are not compatible (different domains).\n",
        "    \"\"\"\n",
        "\n",
        "    # Check for compatible domains.\n",
        "    if set(sigma.keys()) != set(tau.keys()):\n",
        "        return None\n",
        "\n",
        "    composed_permutation = {}\n",
        "    for element in sigma:\n",
        "        composed_permutation[element] = sigma[tau[element]]\n",
        "\n",
        "    return composed_permutation\n",
        "\n"
      ]
    },
    {
      "cell_type": "markdown",
      "source": [
        "\n",
        "---\n"
      ],
      "metadata": {
        "id": "ccMb317mvMLM"
      }
    },
    {
      "cell_type": "markdown",
      "source": [
        "#### **Cycles and transpositions**\n",
        "\n",
        "**Definition.** A *cycle* of length $l\\geq 2$ is a permutation $\\sigma$ for which there exist $j_1, j_2, \\dots, j_l$, such as $\\sigma(j_1)=j_2, \\sigma(j_2)=j_3, \\dots , \\sigma(j_{l-1})=j_l, \\sigma(j_l)=j_1$ and other elements are fixed ( i.e. $\\sigma(j)=j$ for other $j$).\n",
        "\n",
        "A cycle of length 2 is called a *transposition*.\n",
        "\n",
        "Cycle of $j_1, \\dots, j_l$ is usually written as $(j_1, j_2, \\dots, j_l)$. It also can start from any other its element, that is $(j_1, j_2, \\dots, j_l)=(j_2, j_3, \\dots, j_l, j_1)=\\dots=(j_l, j_1, \\dots, j_2)$.\n",
        "\n",
        "Two cycles with different sets of elements are called *independent*. Independent cycles always commute:\n",
        "\n",
        "$(i_1, \\dots, i_l)(j_1, \\dots, j_s)=(j_1, \\dots, j_s)(i_1, \\dots, i_l)$ if $\\{i_1, \\dots, i_l\\}\\cap \\{j_1, \\dots, j_s\\}=\\emptyset$.\n",
        "\n",
        "**Theorem [on independent cycles decomposition].** Each permutation can be uniquely (up to the order of cycles and the way to write down the cycles) given as a product of independent cycles.\n",
        "\n",
        "*Example.* $\\left(\\begin{array}{ c c c c c c c c c}\n",
        "1 & 2 & 3 & 4 & 5 & 6 & 7 & 8 & 9\\\\\n",
        "4 & 2 & 1 & 5 & 6 & 3 & 8 & 7 & 9\n",
        "\\end{array}\\right) = (14563)(78) = (14563)(78)(2)(9)$.\n",
        "Last decomposition also includes the fixed elements (2, 9), which are not the cycles but usually are considered for completeness and utility.  \n",
        "\n",
        "\n",
        "**Theorem [on transposition decomposition].** Each permutation can be given as a product of transpositions.\n",
        "\n",
        "Note that the uniqueness of decomposition and the independence of transposition are not stated.\n",
        "\n",
        "*Example.* $\\left(\\begin{array}{ c c c c c c c c c}\n",
        "1 & 2 & 3 & 4 & 5 & 6 & 7 & 8 & 9\\\\\n",
        "4 & 2 & 1 & 5 & 6 & 3 & 8 & 7 & 9\n",
        "\\end{array}\\right) = (14563)(78) = (13)(16)(15)(14)(78)$.\n"
      ],
      "metadata": {
        "id": "NOiMh8X769Kx"
      }
    },
    {
      "cell_type": "markdown",
      "source": [
        "#### **Parity of permutations**\n",
        "\n",
        "**Definition** For a (combinatorial) permutation $i_1, i_2, \\dots, i_n$ of $\\{1, 2, \\dots , n\\}$ an *inversion* is a pair $(i_k, i_j)$, such as $k < j $ and $i_k > i_j$. The number of inversions for (algebraic) permutation $\\sigma$ for both its rows is denoted by $I(\\sigma)$.\n",
        "\n",
        "*Example.* For $\\sigma =\\begin{pmatrix}\n",
        "1 & 2 & 3 & 4\\\\\n",
        "3 & 2 & 4 &  1\n",
        "\\end{pmatrix}$ the number of inversions $I(\\sigma) = 4$ ((3,2), (3,1), (2,1), (4,1))  \n",
        "For the same permutation $\\begin{pmatrix}\n",
        "2 & 4 & 3 & 1\\\\\n",
        "2 & 1 & 4 & 3\n",
        "\\end{pmatrix}$ but written down in another way $I(\\sigma) = 4 + 2 = 6$ (4 for upper row and 2 -- for lower).\n",
        "\n",
        "**Theorem [on permutation parity].** Consider a permutation $\\sigma\\in S_n$.\n",
        "\n",
        "Let\n",
        "$\\sigma = \\sigma_1\\dots\\sigma_s$  be its decomposition into independent cycles and fixed elements;\n",
        "\n",
        "$\\sigma = \\tau_1\\dots\\tau_k$ be its decomposition into transpositions.\n",
        "\n",
        "\n",
        "Then $I(\\sigma), d=n-s, k$ have the same parity (are all even or are all odd).\n",
        "\n",
        "The Theorem particularly states that the parity of the number of inversions is the same for all ways to write down the permutation in two-rows notation. And all the decompositions into transpositions have either always even or always odd number of transpositions.\n",
        "\n",
        "*Example.*  $\\sigma =\\begin{pmatrix}\n",
        "1 & 2 & 3 & 4\\\\\n",
        "3 & 2 & 4 &  1\n",
        "\\end{pmatrix} = (134)(2) = (14)(13).$\n",
        "\n",
        "$I(\\sigma) = 4$, $d = 4 -2 =2$, $k = 2$ are all even.\n",
        "\n",
        "**Definition.** The number $d=n-s$, where $s$ is a number of independent cycles and fixed elements of $\\sigma\\in S_n$ is called a *decrement* of $\\sigma$.\n",
        "\n",
        "**Definition.** A sign of a permutation $\\sigma$ is $sgn(\\sigma)=(-1)^{I(\\sigma)}=(-1)^d=\\displaystyle \\begin{cases}\n",
        "+1,\\ \\sigma \\ is\\ even;\\\\\n",
        "-1,\\ \\sigma \\ is\\ odd.\n",
        "\\end{cases}$"
      ],
      "metadata": {
        "id": "sFjvscbfvRwn"
      }
    },
    {
      "cell_type": "markdown",
      "source": [
        "#### **Permutation matrices**\n",
        "\n",
        "Permutations can also be given as matrices.\n",
        "\n",
        "**Definition.** A square $n\\times n$ matrix $P_{\\sigma}=(p_{ij})$ is a *permutation matrix*, if there exist $\\sigma\\in S_n$ such as $p_{ij} =  \\begin{cases}\n",
        "1, \\ \\sigma(j) = i;\\\\\n",
        "0, \\ otherwise.\n",
        "\\end{cases}$\n",
        "\n",
        "**Proposition [on permutation matrix multiplication].**\n",
        "\n",
        "$P_{\\sigma}P_{\\tau} = P_{\\sigma\\tau}$."
      ],
      "metadata": {
        "id": "lC0hpnOY3TEL"
      }
    },
    {
      "cell_type": "markdown",
      "source": [
        "\n",
        "\n",
        "---\n",
        "\n",
        "#### **Coding sample: permutation matrices.**"
      ],
      "metadata": {
        "id": "21aJc0WX8jO0"
      }
    },
    {
      "cell_type": "code",
      "source": [
        "def permutation_matrix(sigma):\n",
        "  \"\"\"\n",
        "  Construct permutation matrix by permutation sigma\n",
        "\n",
        "  Args:\n",
        "        sigma: A dictionary representing the permutation. Keys are the elements being permuted, and values are their images.\n",
        "\n",
        "  Returns:\n",
        "        P: A numpy array representing the permutation matrix.\n",
        "  \"\"\"\n",
        "  P = np.zeros((len(sigma), len(sigma)), dtype=int)\n",
        "  for i in sigma:\n",
        "    P[sigma[i]-1, i-1] = 1\n",
        "  return P\n",
        "\n",
        "sigma = {1: 1, 2: 3, 3: 2}\n",
        "rho = {1: 2, 2: 3, 3: 1}\n",
        "P_sigma = permutation_matrix(sigma)\n",
        "P_rho = permutation_matrix(rho)\n",
        "\n",
        "sigma_rho = permutation_composition(sigma, rho)\n",
        "P_sigma_rho = permutation_matrix(sigma_rho)\n",
        "P = P_sigma @ P_rho\n",
        "\n",
        "print(f'''sigma: {sigma}, P_sigma: \\n {P_sigma} \\n ''')\n",
        "print(f'''rho: {rho}, P_rho:\\n  {P_rho} \\n''')\n",
        "print(f'''sigma_rho: {sigma_rho}, P_sigma_rho: \\n {P_sigma_rho},\\n P_sigma P_rho \\n {P}''')\n"
      ],
      "metadata": {
        "colab": {
          "base_uri": "https://localhost:8080/"
        },
        "outputId": "d871b51c-07b7-4f49-c12c-0ca2397578e1",
        "id": "z86nkmuv-YJm"
      },
      "execution_count": null,
      "outputs": [
        {
          "output_type": "stream",
          "name": "stdout",
          "text": [
            "sigma: {1: 1, 2: 3, 3: 2}, P_sigma: \n",
            " [[1 0 0]\n",
            " [0 0 1]\n",
            " [0 1 0]] \n",
            " \n",
            "rho: {1: 2, 2: 3, 3: 1}, P_rho:\n",
            "  [[0 0 1]\n",
            " [1 0 0]\n",
            " [0 1 0]] \n",
            "\n",
            "sigma_rho: {1: 3, 2: 2, 3: 1}, P_sigma_rho: \n",
            " [[0 0 1]\n",
            " [0 1 0]\n",
            " [1 0 0]],\n",
            " P_sigma P_rho \n",
            " [[0 0 1]\n",
            " [0 1 0]\n",
            " [1 0 0]]\n"
          ]
        }
      ]
    },
    {
      "cell_type": "markdown",
      "source": [
        "\n",
        "\n",
        "---\n",
        "\n"
      ],
      "metadata": {
        "id": "7P-CI6u08qUg"
      }
    },
    {
      "cell_type": "code",
      "source": [],
      "metadata": {
        "id": "xQpQpfK-8q8C"
      },
      "execution_count": null,
      "outputs": []
    }
  ]
}