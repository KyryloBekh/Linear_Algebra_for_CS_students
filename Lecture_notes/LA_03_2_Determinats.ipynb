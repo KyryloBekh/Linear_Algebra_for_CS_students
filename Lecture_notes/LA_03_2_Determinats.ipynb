{
  "nbformat": 4,
  "nbformat_minor": 0,
  "metadata": {
    "colab": {
      "provenance": []
    },
    "kernelspec": {
      "name": "python3",
      "display_name": "Python 3"
    },
    "language_info": {
      "name": "python"
    }
  },
  "cells": [
    {
      "cell_type": "markdown",
      "source": [
        "# **LA_03_2 Determinants**"
      ],
      "metadata": {
        "id": "_HivlAWf73Xz"
      }
    },
    {
      "cell_type": "code",
      "source": [
        "import numpy as np"
      ],
      "metadata": {
        "id": "wVkE_iFB7FBe"
      },
      "execution_count": null,
      "outputs": []
    },
    {
      "cell_type": "markdown",
      "source": [
        "#### **Determinants of order 2**\n",
        "\n",
        "Consider a linear system of order 2:\n",
        "$\\displaystyle \\begin{cases}\n",
        "a_{11} x_{1} +a_{12} x_{2} =b_{1} ;\\ \\ \\ \\times a_{22}\\\\\n",
        "a_{21} x_{1} +a_{22} x_{2} =b_{2} \\ \\ \\ \\ \\ \\times ( -a_{12})\n",
        "\\end{cases}$.\n",
        "\n",
        "Multiply with factors and add:\n",
        "\n",
        "$( a_{11} a_{22} -a_{12} a_{21}) x_{1} =b_{1} a_{22} -a_{12} b_{2}$.\n",
        "\n",
        "The same with factors $-a_{21} ,\\ a_{11}$:\n",
        "\n",
        "$(a_{11} a_{22} -a_{12} a_{21}) x_{2} =a_{11} b_{2} -b_{1} a_{21}$.\n",
        "\n",
        "\n",
        "If  $\\Delta =a_{11} a_{22} -a_{12} a_{21} \\neq 0$, then\n",
        "$x_{1} = \\frac{\\Delta _{1}}{\\Delta } ;\\ x_{2} =\\frac{\\Delta_{2}}{\\Delta }$, where $\\Delta _{1} =b_{1} a_{22} -a_{12} b_{2}$, $\\Delta _{2} =a_{11} b_{2} -b_{1} a_{21}$. These rules are known as Cramer's rules.\n",
        "\n",
        "$\\Delta, \\Delta_{1}, \\Delta_{2}$ can be calculated by matrices $\\begin{pmatrix}\n",
        "a_{11} & a_{12}\\\\\n",
        "a_{21} & a_{22}\n",
        "\\end{pmatrix}$, $\\displaystyle \\begin{pmatrix}\n",
        "b_{1} & a_{12}\\\\\n",
        "b_{2} & a_{22}\n",
        "\\end{pmatrix}$, $\\displaystyle \\begin{pmatrix}\n",
        "a_{11} & b_{1}\\\\\n",
        "a_{21} & b_{2}\n",
        "\\end{pmatrix}$ with the same rule: subtract the product of the antidiagonal elements  from the product of the main diagonal elements.\n",
        "\n",
        "\n",
        "This leads to the notion of determinant for order 2 matrices:\n",
        "\n",
        "**Definition.** For a matrix $\\begin{pmatrix}\n",
        "a_{11} & a_{12}\\\\\n",
        "a_{21} & a_{22}\n",
        "\\end{pmatrix}$ its determinant is $\\det\\begin{pmatrix}\n",
        "a_{11} & a_{12}\\\\\n",
        "a_{21} & a_{22}\n",
        "\\end{pmatrix} = \\begin{vmatrix}\n",
        "a_{11} & a_{12}\\\\\n",
        "a_{21} & a_{22}\n",
        "\\end{vmatrix}  = a_{11} a_{22} -a_{12} a_{21}$."
      ],
      "metadata": {
        "id": "Iwj9KlRR8LYT"
      }
    },
    {
      "cell_type": "markdown",
      "source": [
        "\n",
        "---\n",
        "#### **Coding sample: Cramer's rule**\n",
        "\n"
      ],
      "metadata": {
        "id": "Y8E8HFv-6y0M"
      }
    },
    {
      "cell_type": "code",
      "source": [
        "A = np.array([[1, 2], [2, 3]])\n",
        "b = np.array([3, 5])\n",
        "\n",
        "x = np.linalg.solve(A, b)\n",
        "\n",
        "#determinants for Cramer's rule\n",
        "delta = np.linalg.det(A)\n",
        "\n",
        "delta1 = np.linalg.det(np.array([[b[0], A[0, 1]], [b[1], A[1, 1]]]))\n",
        "delta2 = np.linalg.det(np.array([[A[0, 0], b[0]], [A[1, 0], b[1]]]))\n",
        "\n",
        "#solution by Cramer\n",
        "x_1, x_2 = delta1/delta, delta2/delta\n",
        "\n",
        "print(f'numpy solution x_1, x_2 = {x}')\n",
        "print(f'Cramer solution x_1, x_2 = {x_1}, {x_2}')"
      ],
      "metadata": {
        "colab": {
          "base_uri": "https://localhost:8080/"
        },
        "id": "NmzxfbSS7AXr",
        "outputId": "c2d56307-1416-4c9c-9383-e95a8a45b7e1"
      },
      "execution_count": null,
      "outputs": [
        {
          "output_type": "stream",
          "name": "stdout",
          "text": [
            "numpy solution x_1, x_2 = [1. 1.]\n",
            "Cramer solution x_1, x_2 = 0.9999999999999987, 1.0\n"
          ]
        }
      ]
    },
    {
      "cell_type": "markdown",
      "source": [
        "\n",
        "\n",
        "---\n",
        "\n"
      ],
      "metadata": {
        "id": "BuOg-UAC7Axp"
      }
    },
    {
      "cell_type": "markdown",
      "source": [
        "#### **Determinants of order 3**\n",
        "\n",
        "The same can be done for a linear system with 3 equations and 3 unknowns:\n",
        "\n",
        "Multiply with factors and add:\n",
        "$\\displaystyle \\begin{cases}\n",
        "a_{11} x_{1} +a_{12} x_{2} +a_{13} x_{3} =b_{1} ;\\ \\ \\ \\ \\ \\times \\ ( a_{22} a_{33} -a_{23} a_{32})\\\\\n",
        "a_{21} x_{1} +a_{22} x_{2} +a_{23} x_{3} =b_{2} ;\\ \\ \\ \\ \\ \\times \\ ( a_{13} a_{32} -a_{12} a_{33})\\\\\n",
        "a_{31} x_{1} +a_{32} x_{2} +a_{33} x_{3} =b_{3} \\ \\ \\ \\ \\ \\ \\ \\times \\ ( a_{12} a_{23} -a_{13} a_{22})\n",
        "\\end{cases}$\n",
        "\n",
        "\n",
        "$\\begin{array}{{>{\\displaystyle}l}}\n",
        "( a_{11} a_{22} a_{33} +a_{12} a_{23} a_{31} +a_{13} a_{21} a_{32} \\ -\\ a_{13} a_{22} a_{31} -\\ a_{12} a_{21} a_{33} -a_{11} a_{23} a_{32}) \\ x_{1} =\\\\\n",
        "\\ ( b_{1} a_{22} a_{33} +a_{12} a_{23} b_{3} +a_{13} b_{2} a_{32} \\ -\\ a_{13} a_{22} b_{3} -\\ a_{12} b_{2} a_{33} -b_{1} a_{23} a_{32})\n",
        "\\end{array}$\n",
        "\n",
        "and the same for $\\displaystyle x_{2} , x_{3}$.\n",
        "\n",
        "If $\\Delta =a_{11} a_{22} a_{33} +a_{12} a_{23} a_{31} +a_{13} a_{21} a_{32}  -  a_{13} a_{22} a_{31} -  a_{12} a_{21} a_{33} - a_{11} a_{23} a_{32} \\neq 0$, then $\\displaystyle x_{1} =\\frac{\\Delta_{1}}{\\Delta } ; x_{2} =\\frac{\\Delta_{2}}{\\Delta} ;  x_{3} =\\frac{\\Delta_{3}}{\\Delta }$ , where $\\Delta, \\Delta_{1}, \\Delta_{2}, \\Delta_{3}$ are the determinants of matrices\n",
        "$\\begin{pmatrix}\n",
        "a_{11} & a_{12} & a_{13}\\\\\n",
        "a_{21} & a_{22} & a_{23}\\\\\n",
        "a_{31} & a_{32} & a_{33}\n",
        "\\end{pmatrix}$,\n",
        "$\\begin{pmatrix}\n",
        "b_1 & a_{12} & a_{13}\\\\\n",
        "b_2 & a_{22} & a_{23}\\\\\n",
        "b_3 & a_{32} & a_{33}\n",
        "\\end{pmatrix}$,\n",
        "$\\begin{pmatrix}\n",
        "a_{11} & b_1 & a_{13}\\\\\n",
        "a_{21} & b_2 & a_{23}\\\\\n",
        "a_{31} & b_3 & a_{33}\n",
        "\\end{pmatrix}$ and\n",
        "$\\begin{pmatrix}\n",
        "a_{11} & a_{12} & b_1\\\\\n",
        "a_{21} & a_{22} & b_2\\\\\n",
        "a_{31} & a_{32} & b_3\n",
        "\\end{pmatrix}$\n",
        "respectively.\n",
        "\n",
        " It is Cramer's rule for order 3 system, where the order 3 determinants can be defined as follows.\n",
        "\n",
        "**Definition.** For a matrix $\\begin{pmatrix}\n",
        "a_{11} & a_{12} & a_{13}\\\\\n",
        "a_{21} & a_{22} & a_{23}\\\\\n",
        "a_{31} & a_{32} & a_{33}\n",
        "\\end{pmatrix}$ its determinat is $\\begin{array}{l}\n",
        "\\det\\begin{pmatrix}\n",
        "a_{11} & a_{12} & a_{13}\\\\\n",
        "a_{21} & a_{22} & a_{23}\\\\\n",
        "a_{31} & a_{32} & a_{33}\n",
        "\\end{pmatrix} =\\ \\begin{vmatrix}\n",
        "a_{11} & a_{12} & a_{13}\\\\\n",
        "a_{21} & a_{22} & a_{23}\\\\\n",
        "a_{31} & a_{32} & a_{33}\n",
        "\\end{vmatrix} \\ =\n",
        "a_{11} a_{22} a_{33} +a_{12} a_{23} a_{31} +a_{13} a_{21} a_{32} \\ -\\ a_{13} a_{22} a_{31} -\\ a_{12} a_{21} a_{33} -a_{11} a_{23} a_{32}\n",
        "\\end{array}$."
      ],
      "metadata": {
        "id": "672VHyEYCU6T"
      }
    },
    {
      "cell_type": "markdown",
      "source": [
        "#### **Mnemonic rules for order 3 determinants**\n",
        "\n",
        "To keep in mind the products and their signs from order 3 determinant expansion one can use\n",
        "\n",
        "1. Triangles rule.\n",
        "\n",
        "![triangles_det_3.gif](data:image/gif;base64,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)\n",
        "\n",
        "2. Sarrus' rule:\n",
        "\n",
        "![Sarrus_mnemonic-rule-for-matrix-determinant_1.png](data:image/png;base64,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)"
      ],
      "metadata": {
        "id": "CgzBeVYcEOuX"
      }
    },
    {
      "cell_type": "markdown",
      "source": [
        "#### **Determinats of order $n$: combinatorial approach**\n",
        "\n",
        "Order 2 and 3 determinants can be generalized for an arbitrary order with three equivalent approaches.\n",
        "\n",
        "The first one is a *combinatorial* one.\n",
        "\n",
        "**Definition (combinatorial).**\n",
        "For $A_{n\\times n}$ its determinant is $\\det A\\ =\\displaystyle\\sum _{\\sigma \\in S_{n}}( -1)^{I( \\sigma )} a_{1\\sigma _{1}} a_{2\\sigma _{2}} \\dotsc a_{n\\sigma _{n}}$, where $\\displaystyle \\sigma =\\begin{pmatrix}\n",
        "1 & 2 & \\dotsc  & n\\\\\n",
        "\\sigma _{1} & \\sigma _{2} & \\dotsc  & \\sigma _{n}\n",
        "\\end{pmatrix}$ is a permutation of indices and $I(\\sigma)$ is its inversions number.\n",
        "\n",
        "The sum in this definition contains $n!$ summands. Each summand is a product of the matrix elements taken by one from each row and each column. The indices of the elements in a product produce the permutation, and the sign of the permutation is the sign of the product.\n",
        "\n",
        "*Example.* For matrix $A =\\begin{pmatrix}\n",
        "1 & 1 & 2 & 1\\\\\n",
        "0 & 2 & 1 & 2\\\\\n",
        "0 & 0 & 2 & 1\\\\\n",
        "0 & 0 & 0 & 1\n",
        "\\end{pmatrix}$ its determinat $\\det A = \\begin{vmatrix}\n",
        "1 & 1 & 2 & 1\\\\\n",
        "0 & 2 & 1 & 2\\\\\n",
        "0 & 0 & 2 & 1\\\\\n",
        "0 & 0 & 0 & 1\n",
        "\\end{vmatrix}=1\\cdot 2\\cdot 2\\cdot 1 = 4$ since the only nonzero product in a combinatorial expansion of determinant is the product of the diagonal elements. And the sign of this product is $+$, since the corresponding permutation of indices in the product $a_{11}a_{22}a_{33}a_{44}$ is identical $\\begin{pmatrix}\n",
        "1 & 2 & 3 & 4\\\\\n",
        "1 & 2 & 3 & 4\n",
        "\\end{pmatrix}$, and that is even.\n",
        "\n",
        "The same rule can be used for every (upper or lower) triangular matrix: its determinant is the product of diagonal elements."
      ],
      "metadata": {
        "id": "bG1K50pgGeX9"
      }
    },
    {
      "cell_type": "markdown",
      "source": [
        "#### **Determinats of order $n$: functional approach**\n",
        "\n",
        "The second way to define determinants is a *functional* one.\n",
        "\n",
        "**Definition (functional).** The determinant is a function on $n$ columns $a_1, a_2, \\dots , a_n$ of matrix $A$, that have the properties:\n",
        "\n",
        "1. Linearity on each column: $\\det(\\dots,\\lambda a+\\mu b ,\\dots)=\\lambda\\det(\\dots, a ,\\dots) + \\mu\\det(\\dots, b ,\\dots)$.\n",
        "\n",
        "2. Skew symmetry: $\\det(\\dots, a, \\dots, a, \\dots) = 0$.\n",
        "\n",
        "3. Normalization property: $\\det I_n =1$.\n",
        "\n",
        "The properties 1 and 2 imply another one, which gave the name for property 2 and is equivalent for 2 for almost all fields:\n",
        "\n",
        "\n",
        "2'. $\\det(\\dots, a, \\dots, b, \\dots) = - \\det(\\dots, b, \\dots, a, \\dots)$,\n",
        "\n",
        "since\n",
        "\n",
        "$0=\\det(\\dots, a+b, \\dots, a+b, \\dots) = \\det(\\dots, a, \\dots, a, \\dots) + \\det(\\dots, a, \\dots, b, \\dots) + \\det(\\dots, b, \\dots, a, \\dots) + \\det(\\dots, b, \\dots, b, \\dots)$\n",
        "\n",
        "and so\n",
        "\n",
        "$\\det(\\dots, a, \\dots, b, \\dots) + \\det(\\dots, b, \\dots, a, \\dots) = 0$.\n",
        "\n",
        "If the function with the properties of linearity, skew simmetry and normalization exists, its value is the same as in combinatorial approach.\n",
        "\n",
        "*Example.* Let us see it for $2\\times 2$ matrix. Since $\\begin{pmatrix}\n",
        "a_{11} \\\\\n",
        "a_{21}\n",
        "\\end{pmatrix} = a_{11}\\begin{pmatrix}\n",
        "1 \\\\\n",
        "0\n",
        "\\end{pmatrix} + a_{12}\\begin{pmatrix}\n",
        "0 \\\\\n",
        "1\n",
        "\\end{pmatrix}$ and $\\begin{pmatrix}\n",
        "a_{12} \\\\\n",
        "a_{22}\n",
        "\\end{pmatrix} = a_{12}\\begin{pmatrix}\n",
        "1 \\\\\n",
        "0\n",
        "\\end{pmatrix} + a_{22}\\begin{pmatrix}\n",
        "0 \\\\\n",
        "1\n",
        "\\end{pmatrix}$  the determinant is expanded by linearity:\n",
        "$\\begin{vmatrix}\n",
        "a_{11} & a_{12}\\\\\n",
        "a_{21} & a_{22}\n",
        "\\end{vmatrix} = a_{11}\\begin{vmatrix}\n",
        "1 & a_{12}\\\\\n",
        "0 & a_{22}\n",
        "\\end{vmatrix} + a_{21} \\begin{vmatrix}\n",
        "0 & a_{12}\\\\\n",
        "1 & a_{22}\n",
        "\\end{vmatrix} =  \n",
        "a_{11}a_{12}\\begin{vmatrix}\n",
        "1 & 1\\\\\n",
        "0 & 0\n",
        "\\end{vmatrix} +\n",
        "a_{11}a_{22}\\begin{vmatrix}\n",
        "1 & 0\\\\\n",
        "0 & 1\n",
        "\\end{vmatrix}+\n",
        "a_{21}a_{12}\\begin{vmatrix}\n",
        "0 & 1\\\\\n",
        "1 & 0\n",
        "\\end{vmatrix}+\n",
        "a_{21}a_{22}\\begin{vmatrix}\n",
        "0 & 0\\\\\n",
        "1 & 1\n",
        "\\end{vmatrix}\n",
        "$\n",
        "\n",
        "Due to skew symmetry the first and the last summands are 0 and the third changes the sign after column permutation:\n",
        "$\\begin{vmatrix}\n",
        "a_{11} & a_{12}\\\\\n",
        "a_{21} & a_{22}\n",
        "\\end{vmatrix} = a_{11}a_{22}\\begin{vmatrix}\n",
        "1 & 0\\\\\n",
        "0 & 1\n",
        "\\end{vmatrix} -\n",
        "a_{21}a_{12}\\begin{vmatrix}\n",
        "1 & 0\\\\\n",
        "0 & 1\n",
        "\\end{vmatrix} = (a_{11}a_{22}-a_{12}a_{21})\\det I_2 = (a_{11}a_{22}-a_{12}a_{21})$.\n",
        "\n",
        "The last one is due to the normalization property.\n",
        "\n",
        "The same can be done for order $n$ determinants by $n^n$ summands with only $n!$ nonzero, and each from nonzero can be reduced to identity matrix determinant by proper number of columns permutations.\n",
        "\n",
        "\n"
      ],
      "metadata": {
        "id": "ifnoIaEfKdNU"
      }
    },
    {
      "cell_type": "markdown",
      "source": [
        "#### **Determinats of order $n$: recurrent approach**\n",
        "\n",
        "**Definition (recurrent, cofactor expansion).** Let $A$ be $n\\times n$ matrix.\n",
        "\n",
        "For $n=1$ $\\det A=\\det(a)=a$.\n",
        "\n",
        "For $n>1$ $\\det A = \\displaystyle\\sum_{j=1}^{n}a_{1j}A_{1j}$, where $A_{1j}$ is a cofactor of $a_{ij}$.\n",
        "\n",
        "$A_{ij}=(-1)^{1+j}\\det M_{1j}$, where $M_{1j}$ is a submatrix of $A$, obtained by crossing out the first row and the $j$-th column.\n",
        "\n",
        "*Example.* $\\begin{vmatrix}\n",
        "4 & 1 & 2 \\\\\n",
        "3 & -1 & 3 \\\\\n",
        "1 & 2 & 3\n",
        "\\end{vmatrix}= (-1)^{1+1}\\cdot 4\\cdot \\begin{vmatrix}\n",
        " -1 & 3 \\\\\n",
        "  2 & 3\n",
        "\\end{vmatrix}+ (-1)^{1+2}\\cdot 1\\cdot\\begin{vmatrix}\n",
        "3  & 3 \\\\\n",
        "1  & 3\n",
        "\\end{vmatrix} + (-1)^{1+3}\\cdot 2\\cdot \\begin{vmatrix}\n",
        "3 & -1  \\\\\n",
        "1 & 2  \n",
        "\\end{vmatrix} = 4(-3-6)-(9-3)+2(6+1) = - 28$\n",
        "\n",
        "It can be shown directly by induction that the recurrent approach gives the function with the properties of linearity, skew symmetry, and normalization. So, all the methods are equivalent."
      ],
      "metadata": {
        "id": "mYeeuGq6UPL8"
      }
    },
    {
      "cell_type": "markdown",
      "source": [
        "\n",
        "\n",
        "---\n",
        "#### **Coding sample: recursive calculation of the determinant**\n",
        "\n",
        "Generated by AI"
      ],
      "metadata": {
        "id": "o7_KzN3U97x4"
      }
    },
    {
      "cell_type": "code",
      "source": [
        "import numpy as np\n",
        "\n",
        "def determinant_recursive(matrix):\n",
        "    \"\"\"\n",
        "    Calculates the determinant of a square matrix recursively using cofactor expansion.\n",
        "\n",
        "    Args:\n",
        "        matrix: A NumPy 2D array representing the square matrix.\n",
        "\n",
        "    Returns:\n",
        "        The determinant of the matrix.\n",
        "        Returns an error message if the input is not a square matrix or a NumPy array.\n",
        "    \"\"\"\n",
        "    if not isinstance(matrix, np.ndarray):\n",
        "        return \"Error: Input must be a NumPy array.\"\n",
        "\n",
        "    rows, cols = matrix.shape\n",
        "    if rows != cols:\n",
        "        return \"Error: Input matrix must be square.\"\n",
        "\n",
        "    if rows == 1:\n",
        "        return matrix[0, 0]\n",
        "    elif rows == 2:\n",
        "        return matrix[0, 0] * matrix[1, 1] - matrix[0, 1] * matrix[1, 0]\n",
        "    else:\n",
        "        det = 0\n",
        "        for j in range(rows):\n",
        "            minor = np.delete(np.delete(matrix, 0, 0), j, 1)\n",
        "            det += matrix[0, j] * ((-1)**j) * determinant_recursive(minor)\n",
        "        return det\n",
        "\n",
        "# Example usage (from the provided text):\n",
        "matrix = np.array([[4, 1, 2],\n",
        "                   [3, -1, 3],\n",
        "                   [1, 2, 3]])\n",
        "\n",
        "det = determinant_recursive(matrix)\n",
        "print(f\"The determinant of the matrix \\n {matrix} \\n is: {det}\")"
      ],
      "metadata": {
        "colab": {
          "base_uri": "https://localhost:8080/"
        },
        "id": "9HNcbSdY9IBi",
        "outputId": "5fce8dcb-8be1-474f-bb84-b9bef6446457"
      },
      "execution_count": null,
      "outputs": [
        {
          "output_type": "stream",
          "name": "stdout",
          "text": [
            "The determinant of the matrix \n",
            " [[ 4  1  2]\n",
            " [ 3 -1  3]\n",
            " [ 1  2  3]] \n",
            " is: -28\n"
          ]
        }
      ]
    },
    {
      "cell_type": "markdown",
      "source": [
        "\n",
        "\n",
        "---\n",
        "\n"
      ],
      "metadata": {
        "id": "c_kXpKrg-Ise"
      }
    },
    {
      "cell_type": "markdown",
      "source": [
        "#### **Determinant properties**\n",
        "\n",
        "The three determinant definitions give plenty of determinant properties:\n",
        "\n",
        "1. $\\det A^t = \\det A$ for square matrix $A$.\n",
        "This also implies that all the row properties are also the column properties.\n",
        "\n",
        "2. The matrix with zero row has zero determinant: $ \\begin{vmatrix}\n",
        " & \\dots &  \\\\\n",
        " & -0- &  \\\\\n",
        " & \\dots &  \n",
        "\\end{vmatrix} =0$.\n",
        "\n",
        "3. The transposition of two rows changes the sign of the determinant:\n",
        "$ \\begin{vmatrix}\n",
        " &  &  \\\\\n",
        " & -a^t- & \\\\\n",
        " & -b^t- &  \\\\\n",
        " &  &  \n",
        "\\end{vmatrix} = - \\begin{vmatrix}\n",
        " &  &  \\\\\n",
        " & -b^t- & \\\\\n",
        " & -a^t- &  \\\\\n",
        " &  &  \n",
        "\\end{vmatrix}$.\n",
        "\n",
        "4. The determinant with two similar rows equals zero: $\\begin{vmatrix}\n",
        " &  &       \\\\\n",
        " & -a^t- &  \\\\\n",
        " & -a^t- &  \\\\\n",
        " &  &  \n",
        "\\end{vmatrix}=0$.\n",
        "\n",
        "5. Multiplying the row of the determinant by a scalar multiplies the entire determinant:   $\\begin{vmatrix}\n",
        " &  &  \\\\\n",
        " & -\\lambda a^t- &  \\\\\n",
        " &  &  \n",
        "\\end{vmatrix} = \\lambda\\begin{vmatrix}\n",
        " &  &  \\\\\n",
        " &  -a^t- &  \\\\\n",
        " &  &  \n",
        "\\end{vmatrix}$\n",
        "\n",
        "6. The determinant with two  proportional rows equals zero:  $\\begin{vmatrix}\n",
        " &  &       \\\\\n",
        " & -a^t- &  \\\\\n",
        " & -\\lambda a^t- &  \\\\\n",
        " &  &  \n",
        "\\end{vmatrix}=0$.\n",
        "\n",
        "7. If the multiple of a row is added to another row, the determinant is not changed:  \n",
        "$\\begin{vmatrix}\n",
        " &  &       \\\\\n",
        " & -a^t- &  \\\\\n",
        " & -b^t- &  \\\\\n",
        " &  &  \n",
        "\\end{vmatrix} = \\begin{vmatrix}\n",
        " &  &       \\\\\n",
        " & -a^t- &  \\\\\n",
        " & -b^t + \\lambda a^t- &  \\\\\n",
        " &  &  \n",
        "\\end{vmatrix}$.\n",
        "\n",
        "8. *Cofactor expansion.* For $A_{n\\times n}$, $n>1$ and  each $1\\leq i\\leq n$:\n",
        "\n",
        " $\\det A = \\displaystyle\\sum_{j=1}^{n}a_{ij}A_{ij},$\n",
        "\n",
        " where $A_{ij}$ is a cofactor of $a_{ij}$, $A_{ij}=(-1)^{i+j}\\det M_{ij}$, where $M_{ij}$ is a submatrix of $A$, obtained by crossing out the $i$-th row and the $j$-th column.\n",
        "\n",
        "9. It's almost unbelievable but\n",
        "$$\\det(AB) = \\det A\\cdot \\det B$$\n",
        "for all $n\\times n$ matrices $A, B$.\n"
      ],
      "metadata": {
        "id": "0C2nx29Qpt7D"
      }
    },
    {
      "cell_type": "markdown",
      "source": [
        "\n",
        "\n",
        "---\n",
        "#### **Coding sample: the determinant of the product**"
      ],
      "metadata": {
        "id": "HZg8N20M-Rf7"
      }
    },
    {
      "cell_type": "code",
      "source": [
        "A = np.array([[1,3], [2, 8]])\n",
        "B = np.array([[2, 5], [3, 7]])\n",
        "\n",
        "AB = A @ B\n",
        "detAB = np.linalg.det(AB)\n",
        "detA = np.linalg.det(A)\n",
        "detB = np.linalg.det(B)\n",
        "\n",
        "print(f'detA = {detA:.3f} for  A=\\n {A}')\n",
        "print(f'detB = {detB:.3f} for  B=\\n {B}')\n",
        "print(f'det(AB) = {detAB:.3f} for  AB=\\n {AB}')\n",
        "\n",
        "print(f'Check if det(AB)=detAdetB:\\n {np.isclose(detAB, detA*detB)}')\n"
      ],
      "metadata": {
        "colab": {
          "base_uri": "https://localhost:8080/"
        },
        "id": "7XqL8PDi-yCW",
        "outputId": "3a7e57d8-36b1-4447-e105-06141f5e77a0"
      },
      "execution_count": null,
      "outputs": [
        {
          "output_type": "stream",
          "name": "stdout",
          "text": [
            "detA = 2.000 for  A=\n",
            " [[1 3]\n",
            " [2 8]]\n",
            "detB = -1.000 for  B=\n",
            " [[2 5]\n",
            " [3 7]]\n",
            "det(AB) = -2.000 for  AB=\n",
            " [[11 26]\n",
            " [28 66]]\n",
            "Check if det(AB)=detAdetB:\n",
            " True\n"
          ]
        }
      ]
    },
    {
      "cell_type": "markdown",
      "source": [
        "\n",
        "---\n"
      ],
      "metadata": {
        "id": "2KlyqYmm-yvq"
      }
    },
    {
      "cell_type": "markdown",
      "source": [
        "#### **Determinats calculation**\n",
        "\n",
        "To calculate the general numerical determinants the Gaussian elimination is usually used to get it in a triangular form.\n",
        "\n",
        "*Example 1.*\n",
        "\\begin{equation*}\n",
        "\\left|\\begin{array}{cccc}  1 & 1 & 1  & 1 \\\\  1  & 2 & 1  & 2  \\\\\n",
        "1 & 1 & 3 & 1 \\\\ 1 & 2 & 1 & 4\\\\   \\end{array} \\right|\n",
        "= \\begin{array}{c} \\\\ II-I \\\\ III-I \\\\ IV - I \\end{array}\\left|\\begin{array}{cccc}  1 & 1 & 1  & 1 \\\\\n",
        "0  & 1 & 0  & 1  \\\\  0 & 0 & 2 & 0 \\\\ 0 & 1 & 0 & 3\\\\\n",
        "\\end{array} \\right| = \\begin{array}{c} \\\\  \\\\  \\\\ IV - II \\end{array}\n",
        "\\left|\\begin{array}{cccc}  1 & 1 & 1  & 1 \\\\  0  & 1 & 0  & 1  \\\\\n",
        "0 & 0 & 2 & 0 \\\\ 0 & 0 & 0 & 2\\\\   \\end{array} \\right| = 1\\cdot 1\\cdot 2\\cdot 2= 4.\n",
        "\\end{equation*}\n",
        "\n",
        "*Example 2.* We should take into account the multipliers of rows which are changed during the Gaussian elimination. In the next example, we first multiply row II and row IV by 2 and, the determinat is multiplied by 4, so we compensate it by dividing by 4. Then we subtract from rows II, III, IV the multiples of the first row and the determinant is not changed.\n",
        "\\begin{equation*}\n",
        "\\left|\\begin{array}{cccc}   2 & -3 & 4 & 2 \\\\   3 & -2 & -1 & 4\\\\\n",
        "4 & -2 & 3 & 5 \\\\  5 & -3 &  2 & 3\\\\   \\end{array} \\right|  = \\begin{array}{c} \\\\ 2II \\\\  \\\\ 2IV \\end{array} \\frac{1}{4}\\left|\\begin{array}{cccc}\n",
        "2 & -3 & 4 & 2 \\\\   6 & -4 & -2 & 8\\\\  4 & -2 & 3 & 5 \\\\  10 & -6\n",
        "&  4 & 6\\\\   \\end{array} \\right|= \\begin{array}{c} \\\\ II-3I \\\\ III-2I \\\\ IV-5I \\end{array}\n",
        "\\frac{1}{4}\\left|\\begin{array}{cccc}   2 & -3 & 4 & 2 \\\\   0 & 5 &\n",
        "-14 & 2\\\\  0 & 4 & -5 & 1 \\\\  0 & 9 &  -16 & -4\\\\   \\end{array}\n",
        "\\right|.\n",
        "\\end{equation*}\n",
        "\n",
        "The Gaussian elimination can also be cobmined with cofactor expansion. Let us finish the previous example by expanding the determinant along the first column:\n",
        "$\\dfrac{1}{4}\\left|\\begin{array}{cccc}   2 & -3 & 4 & 2 \\\\   0 & 5 &\n",
        "-14 & 2\\\\  0 & 4 & -5 & 1 \\\\  0 & 9 &  -16 & -4\\\\   \\end{array}\n",
        "\\right| =  \\dfrac{1}{4} \\cdot 2 \\left|\\begin{array}{ccc}       5 &\n",
        "-14 & 2\\\\   4 & -5 & 1 \\\\   9 &  -16 & -4\\\\   \\end{array}\n",
        "\\right| =  \\dfrac{1}{2}(5\\cdot(-5)\\cdot(-4) + (-14)\\cdot 1\\cdot 9 + 2\\cdot 4\\cdot(-16) - 2\\cdot(-5)\\cdot 9 - (-14)\\cdot 4\\cdot (-4) - 5\\cdot 1\\cdot (-16)) = -104.$\n",
        "\n",
        "\n"
      ],
      "metadata": {
        "id": "rpPQYQiFAwKJ"
      }
    },
    {
      "cell_type": "markdown",
      "source": [
        "#### **Vandermonde determinant**\n",
        "\n",
        "The Vandermonde determinant consists of the powers of scalars, variables or other expressions:  \n",
        "$\\begin{equation}\n",
        "W(x_1, x_2, \\dots, x_n)=\\left|\\begin{array}{ccccc}\n",
        "   1 & x_1 & x_1^2 &            & x_1^{n-1} \\\\  1 & x_2 & x_2^2 &           & x_2^{n-1} \\\\\n",
        "    &  &   &    \\dots     &      \\\\     1 & x_n & x_n^2 &           & x_n^{n-1} \\\\\n",
        "\\end{array} \\right|\n",
        "\\end{equation}$.\n",
        "\n",
        "The Vandermonde determinant equals the product of all the possible differences of expressions $x_j, x_i$:\n",
        "$$W(x_1, x_2, \\dots, x_n)=\\prod_{1\\leq i<j\\leq n}(x_j-x_i).$$\n",
        "\n"
      ],
      "metadata": {
        "id": "QVLnT0cSHn0Z"
      }
    },
    {
      "cell_type": "markdown",
      "source": [
        "#### **Cramer's rules**\n",
        "\n",
        "**Theorem [Cramer].** Let $A=(a_1, \\dots, a_n)$ be $n\\times n$ matrix with columns $a_j$, $b$ be a $n$-vector and $x=\\begin{pmatrix} x_1 \\\\ \\dots \\\\ x_n \\end{pmatrix}$ be the solution of the linear system $Ax=b$. Then  $$x_j\\det A = \\det (a_1, \\dots, a_{j-1}, b, a_{j+1}, \\dots, a_n)$$ for every $1\\leq j\\leq n$.\n",
        "\n",
        "The theorem can be obtained directly by plugging $b = x_1a_1+\\dots +x_na_n$ in  $\\det(a_1, \\dots, a_{j-1}, b, a_{j+1}, \\dots, a_n)$.\n",
        "\n",
        "Usually, for the system $Ax=b$:\n",
        "\n",
        " $\\Delta$ is for $\\det A$, $\\Delta_j$ is for $\\det (a_1, \\dots, a_{j-1}, b, a_{j+1}, \\dots, a_n)$ and the Cramer's rule is written in the form:\n",
        "$$\\mbox{If } \\Delta\\ne 0 \\mbox{ then } x_j=\\frac{\\Delta_j}{\\Delta}, 1\\leq j\\leq n.$$\n",
        "\n",
        "Note that if $\\Delta = 0$ and there exists $\\Delta_j\\ne 0$, then the Cramer's theorem implies that the system is inconsistent.\n",
        "\n",
        "In case of $\\Delta = 0$ and all the $\\Delta_j =0$ the system needs the further investigation.\n"
      ],
      "metadata": {
        "id": "f0lq5dSczTyg"
      }
    },
    {
      "cell_type": "markdown",
      "source": [
        "#### **The formula for $A^{-1}$ and the determinant test for matrix invertibility**\n",
        "\n",
        "Let $A$ be a square $n\\times n$ matrix.\n",
        "\n",
        "**Definition.** An *adjoint* matrix for $A$ is a transposed matrix of cofactors: $adj A = (A_{ij})^t$.\n",
        "\n",
        "**Theorem [on adjoint matrix].** $A\\cdot adj A = \\det A \\cdot I_n$.\n",
        "\n",
        "Note that $adj A \\cdot A = \\det A \\cdot I_n$ as well.\n",
        "\n",
        "It directly implies\n",
        "\n",
        "**Theorem [invertibility criteria and inverse matrix formula].**\n",
        "$A$ is invertible iff $\\det A\\ne 0$ and in this case $A^{-1} = \\dfrac{1}{\\det A}adj A$.\n",
        "\n",
        "\n",
        "**Definition.** A square matrix $A$ is said to be *degenerate* (or *singular*) if $\\det A=0$.\n",
        "\n",
        "The determinant test for matrix invertibility can be formulated as follows: $A$ is invertible iff $A$ is not degenerate.\n",
        "\n",
        "\n",
        "The last but not the least observation is that $\\det A^{-1} = \\dfrac{1}{\\det A}$ for every invertible $A$ since $\\det(A)\\det(A^{-1}) = \\det (AA^{-1})=\\det I_n =1.$\n",
        "\n",
        "\n"
      ],
      "metadata": {
        "id": "jkM2vFZB2ss0"
      }
    },
    {
      "cell_type": "code",
      "execution_count": null,
      "metadata": {
        "id": "qKYpaGc57xvM"
      },
      "outputs": [],
      "source": []
    }
  ]
}