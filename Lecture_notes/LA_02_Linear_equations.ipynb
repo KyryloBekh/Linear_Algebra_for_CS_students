{
 "cells": [
  {
   "cell_type": "markdown",
   "metadata": {
    "id": "XglBzXvvay65"
   },
   "source": [
    "# **LA_02 Linear equations**"
   ]
  },
  {
   "cell_type": "code",
   "execution_count": null,
   "metadata": {
    "id": "SvJD0qrUKxIH"
   },
   "outputs": [],
   "source": []
  },
  {
   "cell_type": "markdown",
   "metadata": {
    "id": "jrwuJvH28sOM"
   },
   "source": [
    "#### **Linear equations.**\n",
    "\n",
    "The general form of a linear equations system is $\\begin{cases}\n",
    "a_{11} x_{1} +a_{12} x_{2} +\\dotsc +a_{1n} x_{n} =b_{1} ;\\\\\n",
    "a_{21} x_{1} +a_{22} x_{2} +\\dotsc +a_{2n} x_{n} =b_{2} ;\\\\\n",
    "\\dotsc \\\\\n",
    "a_{m1} x_{1} +a_{m2} x_{2} +\\dotsc +a_{mn} x_{n} =b_{1} .\n",
    "\\end{cases}$\n",
    "\n",
    "The coefficients $a_{ij}$, $b_i$ can be taken from any field and $x_j$ are to be found in that field.\n",
    "\n",
    "We can give a linear system in a matrix form\n",
    "\n",
    "$$Ax=b,$$\n",
    "\n",
    "where $A = \\displaystyle \\left(\\begin{array}{ c c c c }\n",
    "a_{11} & a_{12} & \\dotsc  & a_{1n}\\\\\n",
    "a_{21} & a_{22} & \\dotsc  & a_{2n}\\\\\n",
    "\\vdots  & \\vdots  & \\ddots  & \\vdots \\\\\n",
    "a_{m1} & a_{m2} & \\dotsc  & a_{mn}\n",
    "\\end{array}\\right)$ is the  system (coefficient) matrix,\n",
    "$b = \\displaystyle \\left(\\begin{array}{c}\n",
    "b_{1} \\\\\n",
    "b_{2} \\\\\n",
    "\\vdots \\\\\n",
    "b_{m}\n",
    "\\end{array}\\right)$ is the right-side vector,\n",
    "$x = \\displaystyle \\left(\\begin{array}{c}\n",
    "x_{1} \\\\\n",
    "x_{2} \\\\\n",
    "\\vdots \\\\\n",
    "x_{n}\n",
    "\\end{array}\\right)$ is the unknowns vector.\n",
    "\n",
    "We also refer to the matrix $(A|b)$ as an augmented matrix."
   ]
  },
  {
   "cell_type": "markdown",
   "metadata": {
    "id": "h6VgT8ppTCMX"
   },
   "source": [
    "#### **Systems classification.**\n",
    "\n",
    "Linear systems can be classified by\n",
    "\n",
    "1. *Right side:* homogeneous with $b=0$ and nonhomogeneous with $b\\ne 0$.\n",
    "2. *Consistency:* consistent if it has a solution and inconsistent if it has no solution.\n",
    "3. *Solution set size:* determined if it has a unique solution and undetermined if there is more than one solution."
   ]
  },
  {
   "cell_type": "markdown",
   "metadata": {
    "id": "8pxgtKsJXtjC"
   },
   "source": [
    "#### **Solving linear systems: step-by-step examples.**\n",
    "\n",
    "School methods for solving linear systems assume some basic operations to get a simpler system, like \"multiply equations by some scalars and add them to eliminate an unknown\" or \"get an unknown, say x, from the first equation and substitute it to other.\"\n",
    "\n",
    "These tricks are generalized by *the Gaussian elimination method* which is the most important technique of linear algebra. We are going to discuss its ideas in a couple of step-by-step examples.\n",
    "\n",
    "*Example 1.* Consider the system\n",
    "$$\\displaystyle \\begin{cases}\n",
    "2x+4y-2z=2; & ( I)\\\\\n",
    "4x+9y-3z=8; & ( II)\\\\\n",
    "-2x-3y+7z=10. & ( III)\n",
    "\\end{cases}$$\n",
    "\n",
    "Note that if we subtract from equation II equation I multiplied by 2 and add equation I to equation III there will be no longer unknown $x$ in equations II and III. The unknown $x$ is eliminated:\n",
    "$$\\displaystyle \\begin{cases}\n",
    "y+z=4; & ( II-2I)\\\\\n",
    "y+5z=10. & ( III+I)\n",
    "\\end{cases}$$\n",
    "\n",
    "Also note that we can do all the transformations with only coefficients of the system organized in the matrix but without unnecessary rewriting of $x,y,z$:\n",
    "\n",
    "$$\\left(\\begin{array}{ c c c|c }\n",
    "2 & 4 & -2 & 2\\\\\n",
    "4 & 9 & -3 & 8\\\\\n",
    "-2 & -3 & 7 & 10\n",
    "\\end{array}\\right) \\sim \\begin{array}{ c }\n",
    " \\\\\n",
    "II-2I\\\\\n",
    "III+I\n",
    "\\end{array}\\left(\\begin{array}{ c c c|c }\n",
    "2 & 4 & -2 & 2\\\\\n",
    "0 & 1 & 1 & 4\\\\\n",
    "0 & 1 & 5 & 12\n",
    "\\end{array}\\right) \\sim \\begin{array}{ c }\n",
    " \\\\\n",
    " \\\\\n",
    "III-II\n",
    "\\end{array}\\left(\\begin{array}{ c c c|c }\n",
    "2 & 4 & -2 & 2\\\\\n",
    "0 & 1 & 1 & 4\\\\\n",
    "0 & 0 & 4 & 8\n",
    "\\end{array}\\right).$$\n",
    "\n",
    "The last matrix (obtained by subtracting II from III) is upper triangular and corresponds to the system\n",
    "\n",
    "$$\\displaystyle \\begin{cases}\n",
    "2x+4y-2z=2;\\\\\n",
    "\\quad \\quad \\quad y+z=4;\\\\\n",
    "\\quad \\quad \\quad \\quad 4z=8.\n",
    "\\end{cases}$$\n",
    "\n",
    "This last one can be easily solved by *back substitution*: get $z$ from the Last equation and plug it into the second and the first. Then, get $y$ from equation II, and at last, get $x$ from equation I.\n",
    "\n",
    "As well as previous transformations, we can do it in the matrix:\n",
    "\n",
    "$$\\sim \\begin{array}{ c }\n",
    "I+2III\\\\\n",
    "II-III\\\\\n",
    " \\\\\n",
    "\\end{array}\\left(\\begin{array}{ c c c|c }\n",
    "2 & 4 & 0 & 6\\\\\n",
    "0 & 1 & 0 & 2\\\\\n",
    "0 & 0 & 1 & 2\n",
    "\\end{array}\\right) \\ \\sim \\begin{array}{ c }\n",
    "I-4II\\\\\n",
    " \\\\\n",
    " \\\\\n",
    "\\end{array}\\left(\\begin{array}{ c c c|c }\n",
    "2 & 0 & 0 & -2\\\\\n",
    "0 & 1 & 0 & 2\\\\\n",
    "0 & 0 & 1 & 2\n",
    "\\end{array}\\right) \\sim \\left(\\begin{array}{ c c c|c }\n",
    "1 & 0 & 0 & -1\\\\\n",
    "0 & 1 & 0 & 2\\\\\n",
    "0 & 0 & 1 & 2\n",
    "\\end{array}\\right)$$\n",
    "\n",
    "From here we get the answer $\\begin{pmatrix}\n",
    "x\\\\\n",
    "y\\\\\n",
    "z\n",
    "\\end{pmatrix} =\\begin{pmatrix}\n",
    "-1\\\\\n",
    "2\\\\\n",
    "2\n",
    "\\end{pmatrix}.$\n",
    "\n",
    "Our conclusions are as follows:\n",
    "1. We managed to transform the system matrix to the identity one and get the solution of the system in the augmented part of the matrix (right side).\n",
    "2. We got it only by some kinds of row transformations, like multiplying the equation by a number and subtracting the equation from the other one.  \n"
   ]
  },
  {
   "cell_type": "markdown",
   "metadata": {
    "id": "AIdriKKYliba"
   },
   "source": [
    "*Example 2.* The solution process can be more challenging, as we can see in the following system. We consider the transformations with unknowns $x_1, x_2, x_3$ already in the matrix form:\n",
    "$$\\displaystyle \\left(\\begin{array}{ c c c|c }\n",
    "1 & 1 & 0 & 2\\\\\n",
    "1 & 2 & 1 & 3\\\\\n",
    "0 & 1 & 1 & 1\n",
    "\\end{array}\\right) \\sim \\begin{array}{ c }\n",
    " \\\\\n",
    "II-I\\\\\n",
    " \\\\\n",
    "\\end{array}\\left(\\begin{array}{ c c c|c }\n",
    "1 & 1 & 0 & 2\\\\\n",
    "0 & 1 & 1 & 1\\\\\n",
    "0 & 1 & 1 & 1\n",
    "\\end{array}\\right) \\sim \\begin{array}{ c }\n",
    " \\\\\n",
    " \\\\\n",
    "III-II\n",
    "\\end{array}\\left(\\begin{array}{ c c c|c }\n",
    "1 & 1 & 0 & 2\\\\\n",
    "0 & 1 & 1 & 1\\\\\n",
    "0 & 0 & 0 & 0\n",
    "\\end{array}\\right).$$\n",
    "\n",
    "As we can see elimination fails: there is nothing to get $x_3$ from in equation III. But we can consider $x_3$ as a free variable (parameter) that can have any value and express $x_2$ and $x_1$ in terms of $x_3$:\n",
    "\n",
    "$\\displaystyle \\sim \\begin{array}{ c }\n",
    "I-II\\\\\n",
    " \\\\\n",
    " \\\\\n",
    "\\end{array}\\left(\\begin{array}{ c c c|c }\n",
    "1 & 0 & -1 & 1\\\\\n",
    "0 & 1 & 1 & 1\\\\\n",
    "0 & 0 & 0 & 0\n",
    "\\end{array}\\right),$ or $\\displaystyle \\begin{cases}\n",
    "x_1=1+x_3;\\\\\n",
    "x_2=1-x_3\n",
    "\\end{cases}$ with any $x_3$ from $\\mathbb{R}$.\n",
    "\n",
    "The solution of the system can be written in a vector form  $x = \\begin{pmatrix}\n",
    "x_1\\\\\n",
    "x_2\\\\\n",
    "x_3\n",
    "\\end{pmatrix} =\\begin{pmatrix}\n",
    "1+x_3\\\\\n",
    "1-x_3\\\\\n",
    "x_3\n",
    "\\end{pmatrix} =\\begin{pmatrix}\n",
    "1\\\\\n",
    "1\\\\\n",
    "0\n",
    "\\end{pmatrix} +\\begin{pmatrix}\n",
    "1\\\\\n",
    "-1\\\\\n",
    "0\n",
    "\\end{pmatrix} x_3.$ It also can be interpreted as a line in $\\mathbb{R}^3$ that is shifted from the origin by vector $a=\\begin{pmatrix}\n",
    "1\\\\\n",
    "1\\\\\n",
    "0\n",
    "\\end{pmatrix}$ and is directed along the vector\n",
    "$b = \\begin{pmatrix}\n",
    "1\\\\\n",
    "-1\\\\\n",
    "0\n",
    "\\end{pmatrix}.$\n",
    "\n",
    "![system_solution.png](data:image/png;base64,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)"
   ]
  },
  {
   "cell_type": "markdown",
   "metadata": {
    "id": "tKIGte5_taOv"
   },
   "source": [
    "The conclusions from this example are as follows:\n",
    "1. We cannot be sure that our row transformations will lead us to the identity matrix, but we can expect some \"echelon\" form.\n",
    "2. The system (even with an equal number of equations and unknowns) can have more than one solution (and the set of solutions can be expressed in terms of parameters) or can have no solutions at all.  "
   ]
  },
  {
   "cell_type": "markdown",
   "metadata": {
    "id": "Y2ssVBvXu2tk"
   },
   "source": [
    "\n",
    "---\n",
    "#### **Coding sample: how to get the system solution.**\n"
   ]
  },
  {
   "cell_type": "code",
   "execution_count": null,
   "metadata": {
    "colab": {
     "base_uri": "https://localhost:8080/"
    },
    "id": "HJTKrj5Fatfj",
    "outputId": "a97b9b24-a45d-46ae-f257-e63a39179132"
   },
   "outputs": [
    {
     "name": "stdout",
     "output_type": "stream",
     "text": [
      "The solution of Ax=b is [-1.  2.  2.] by numpy and x=[-1.  2.  2.] by scipy \n",
      "\n",
      "Can't find the solution for A1x=b1: solution is not unique or no solution\n"
     ]
    }
   ],
   "source": [
    "import numpy as np\n",
    "import scipy as sp\n",
    "\n",
    "A = np.array([[2, 4, -2], [4, 9, -3], [-2, -3, 7]])\n",
    "b = np.array([2, 8, 10])\n",
    "\n",
    "x_np = np.linalg.solve(A, b)\n",
    "x_sp = sp.linalg.solve(A, b)\n",
    "\n",
    "print(f'The solution of Ax=b is {x_np} by numpy and x={x_sp} by scipy \\n')\n",
    "\n",
    "A1 = np.array([[1, 1, 0], [1, 2, 1], [0, 1, 1]])\n",
    "b1 = np.array([2, 3, 1])\n",
    "\n",
    "try:\n",
    "  x1_np = np.linalg.solve(A1, b1)\n",
    "except:\n",
    "  print(\"Can't find the solution for A1x=b1: solution is not unique or no solution\")"
   ]
  },
  {
   "cell_type": "markdown",
   "metadata": {
    "id": "bEyTitbqvF0N"
   },
   "source": [
    "\n",
    "\n",
    "---\n",
    "\n"
   ]
  },
  {
   "cell_type": "markdown",
   "metadata": {
    "id": "1jgB5IpnxyDp"
   },
   "source": [
    "#### **Gaussian elimination: preliminary**\n",
    "\n",
    "The above coding sample demonstrates that we cannot rely on \"one-row code\" to get the solutions of the system without understanding the algorithm to find them since we can get an error. Now, we are going to generalize our observations from the examples to get the *Gaussian elimination algorithm* and to use it for systems investigation.  \n",
    "\n",
    "We use some row transformations to get the appropriate form of the matrix for solution.\n",
    "\n",
    "**Elementary matrix (linear system) row transformations:**\n",
    "\n",
    "1. *Interchanging:* swap two rows.\n",
    "\n",
    "2. *Scaling:* multiply a row by a nonzero scalar.\n",
    "\n",
    "3. *Replacement:* subtract from a row a multiply (not necessary nonzero) of another row.\n",
    "\n",
    "We have not applied the first transformation yet, but we will use it in what follows. As one can check directly all the row transformations of the matrix do not change the set of the system solutions.\n",
    "\n",
    "**Theorem [on elementary transformations].** If the system is obtained from another system by some elementary row transformations, they are equivalent, i.e., they have the same solution set."
   ]
  },
  {
   "cell_type": "markdown",
   "metadata": {
    "id": "lzEv59Ch8HPs"
   },
   "source": [
    "The next step is to define the form of the matrix we want to get by Gaussian elimination.\n",
    "\n",
    "**Definition.** The first nonzero element in the row is said to be a *pivot* (or *leading element*).\n",
    "\n",
    "**Definition of echelon forms.**\n",
    "A matrix is in the *row echelon form (REF)* if\n",
    "\n",
    "1. If there are any rows that consist entirely of zeros (zero rows), then they are grouped together at the bottom of the matrix.\n",
    "\n",
    "2. For two successive nonzero rows, the pivot of the lower one has a greater number than the pivot of the higher one (i.e., it is located farther to the right).\n",
    "\n",
    "A matrix is in the *reduced row echelon form (RREF)* if additionally\n",
    "\n",
    "3. Each column that contains a pivot has zeros everywhere else.\n",
    "\n",
    "We will get the REF on forward Gaussian elimination stage and RREF on backward elimination stage.\n",
    "\n",
    "To imagine REF and RREF consider the following examples:\n",
    "\n",
    "*Examples (REF)*:\n",
    "$\\displaystyle \\begin{pmatrix}\n",
    "* & * & *\\\\\n",
    "0 & * & *\\\\\n",
    "0 & 0 & *\n",
    "\\end{pmatrix}$, $\\displaystyle \\begin{pmatrix}\n",
    "* & * & * & * & *\\\\\n",
    "0 & 0 & * & * & *\\\\\n",
    "0 & 0 & 0 & * & *\n",
    "\\end{pmatrix}$, $\\displaystyle \\begin{pmatrix}\n",
    "* & * & * & * & *\\\\\n",
    "0 & * & * & * & *\\\\\n",
    "0 & 0 & 0 & 0 & 0\\\\\n",
    "0 & 0 & 0 & 0 & 0\n",
    "\\end{pmatrix}$, $\\displaystyle \\begin{pmatrix}\n",
    "* & * & * & * & *\\\\\n",
    "0 & 0 & * & * & *\\\\\n",
    "0 & 0 & 0 & 0 & *\\\\\n",
    "0 & 0 & 0 & 0 & 0\n",
    "\\end{pmatrix}$\n",
    "\n",
    "*Examples (RREF)*:\n",
    "$\\displaystyle \\begin{pmatrix}\n",
    "* & 0 & 0\\\\\n",
    "0 & * & 0\\\\\n",
    "0 & 0 & *\n",
    "\\end{pmatrix}$, $\\displaystyle \\begin{pmatrix}\n",
    "* & * & 0 & 0 & *\\\\\n",
    "0 & 0 & * & 0 & *\\\\\n",
    "0 & 0 & 0 & * & *\n",
    "\\end{pmatrix}$, $\\displaystyle \\begin{pmatrix}\n",
    "* & 0 & * & * & *\\\\\n",
    "0 & * & * & * & *\\\\\n",
    "0 & 0 & 0 & 0 & 0\\\\\n",
    "0 & 0 & 0 & 0 & 0\n",
    "\\end{pmatrix}$, $\\displaystyle \\begin{pmatrix}\n",
    "* & * & 0 & * & 0\\\\\n",
    "0 & 0 & * & * & 0\\\\\n",
    "0 & 0 & 0 & 0 & *\\\\\n",
    "0 & 0 & 0 & 0 & 0\n",
    "\\end{pmatrix}$\n"
   ]
  },
  {
   "cell_type": "markdown",
   "metadata": {
    "id": "Ad1Im8N1BS-N"
   },
   "source": [
    "#### **Gaussian elimination: algorithm**\n",
    "\n",
    "Forward Gaussian elimination stage:\n",
    "\n",
    "```\n",
    "While it is possible to select a pivot:\n",
    "  1. Select a working row (w) with the minimum number (k) of pivot (l).\n",
    "  2. Interchange (if necessary) the top row with the working row.\n",
    "  3. For each r of the remaining rows:\n",
    "        do the replacement r - (a[r][k]/l)w (where a[r][k] is an element of r in k-th column).\n",
    "  4. Remove the top row from the consideration.   \n",
    "```\n",
    "\n",
    "This can be schematically written as\n",
    "\n",
    "$\\displaystyle \\begin{array}{ c }\n",
    " \\\\\n",
    "w\\\\\n",
    " \\\\\n",
    " \\\\\n",
    "\\end{array}\\begin{pmatrix}\n",
    "0 & 0 &  & \\\\\n",
    "0 & l & * & \\\\\n",
    "0 & * & * & \\\\\n",
    "0 & * &  &\n",
    "\\end{pmatrix}\\overset{\\updownarrow }{\\rightarrow }\\begin{array}{ c }\n",
    "w\\\\\n",
    " \\\\\n",
    " \\\\\n",
    " \\\\\n",
    "\\end{array}\\begin{pmatrix}\n",
    "0 & l &  & \\\\\n",
    "0 & 0 & * & \\\\\n",
    "0 & * & * & \\\\\n",
    "0 & * &  &\n",
    "\\end{pmatrix}\\overset{r-\\frac{a}{l} w}{\\longrightarrow } \\ \\begin{array}{ c }\n",
    "w\\\\\n",
    " \\\\\n",
    " \\\\\n",
    " \\\\\n",
    "\\end{array}\\begin{pmatrix}\n",
    "0 & l &  & \\\\\n",
    "0 & 0 & * & \\\\\n",
    "0 & 0 & * & \\\\\n",
    "0 & 0 &  &\n",
    "\\end{pmatrix}\\overset{\\uparrow{w}}{\\longrightarrow }\\begin{pmatrix}\n",
    "0 & 0 & * & \\\\\n",
    "0 & 0 & * & \\\\\n",
    "0 & 0 & * &\n",
    "\\end{pmatrix} \\ $"
   ]
  },
  {
   "cell_type": "markdown",
   "metadata": {
    "id": "RkhDQWHdyLyM"
   },
   "source": [
    "Backward Gaussian elimination stage (back substitution):\n",
    "\n",
    "```\n",
    "For each working row w from the last nonzero to the second:\n",
    "    1. Take the pivot (l) of w in column k.\n",
    "    2. For each row r that is higher than w:\n",
    "        do the replacement r - (a[r][k]/l)w (where a[r][k] is an element of r in k-th column).\n",
    "```\n",
    "\n",
    "This can be schematically written as\n",
    "\n",
    "$\\displaystyle \\begin{array}{ c }\n",
    " \\\\\n",
    " \\\\\n",
    "w\\\\\n",
    " \\\\\n",
    "\\end{array}\\begin{pmatrix}\n",
    "* & * & * & *\\\\\n",
    "0 & * & * & *\\\\\n",
    "0 & 0 & l & *\\\\\n",
    "0 & 0 & 0 & 0\n",
    "\\end{pmatrix}\\overset{r-\\frac{a}{l} w}{\\longrightarrow } \\ \\begin{array}{ c }\n",
    " \\\\\n",
    " \\\\\n",
    "w\\\\\n",
    " \\\\\n",
    "\\end{array}\\begin{pmatrix}\n",
    "* & * & 0 & *\\\\\n",
    "0 & * & 0 & *\\\\\n",
    "0 & 0 & l & *\\\\\n",
    "0 & 0 & 0 & 0\n",
    "\\end{pmatrix}$.\n"
   ]
  },
  {
   "cell_type": "markdown",
   "metadata": {
    "id": "X4F41dXC0QBi"
   },
   "source": [
    "This algorithm implies\n",
    "\n",
    "**Theorem [on the existence of (R)REF].** Every matrix can be transformed into (R)REF by elementary row transformations.\n",
    "\n",
    "Together with the Theorem on elementary row transformations, it implies\n",
    "\n",
    "**Corollary.** If $Ax=b$ is a linear system and $(R|b')$ is (R)REF of the augmented matrix $(A|b)$ then the systems $Ax=b$ and $Rx=b'$ are equivalent.\n",
    "\n",
    "Some remarks should be made:\n",
    "\n",
    "1. While selecting the working row among some with the minimum pivot number, usually the row with the largest pivot is taken for the reasons of computation stability. Pivots that are close to zero may cause the extremal accumulation of errors. This procedure is known as *pivoting*.\n",
    "\n",
    "2. The REF of the matrix is not unique, but the places of pivots (numbers of their columns) are defined uniquely.\n",
    "\n",
    "3. The RREF of the matrix is unique up to scaling the rows.\n"
   ]
  },
  {
   "cell_type": "markdown",
   "metadata": {
    "id": "7Cm4_Inp2U7V"
   },
   "source": [
    "\n",
    "---\n",
    "#### **Coding sample: Gaussian elimination (with pivoting)**\n",
    "\n",
    "From [GeeksForGeeks](https://www.geeksforgeeks.org/gaussian-elimination/).\n",
    "\n",
    "Note that the *partial_pivot* function selects the next pivot as the largest from possible for the computational stability of the solution."
   ]
  },
  {
   "cell_type": "code",
   "execution_count": null,
   "metadata": {
    "colab": {
     "base_uri": "https://localhost:8080/"
    },
    "id": "f9-f-03Nyxzm",
    "outputId": "8608b318-60e0-4178-dd33-561080b75e0d"
   },
   "outputs": [
    {
     "name": "stdout",
     "output_type": "stream",
     "text": [
      "Solution for the system Ax=b:\n",
      "3.0\n",
      "1.0\n",
      "2.0\n"
     ]
    }
   ],
   "source": [
    "import numpy as np\n",
    "MAXN = 100\n",
    "\n",
    "def partial_pivot(A, n):\n",
    "  '''Function to perform partial pivot for Gaussian elimination'''\n",
    "  # Iterate through each row in the matrix\n",
    "  for i in range(n):\n",
    "    pivot_row = i\n",
    "    # Find the row with the maximum absolute value in the current column\n",
    "    for j in range(i + 1, n):\n",
    "      if abs(A[j][i]) > abs(A[pivot_row][i]):\n",
    "        pivot_row = j\n",
    "      # Swap the current row with the row having the maximum absolute value\n",
    "      if pivot_row != i:\n",
    "        A[[i, pivot_row]] = A[[pivot_row, i]]\n",
    "      # Perform Gaussian elimination on the matrix\n",
    "      for j in range(i + 1, n):\n",
    "        factor = A[j][i] / A[i][i]\n",
    "        A[j] -= factor * A[i]\n",
    "\n",
    "# Function to perform back substitution to solve the system of equations\n",
    "def back_substitute(A, n):\n",
    "  x = np.zeros(n)\n",
    "  # Iterate through each row in reverse order\n",
    "  for i in range(n - 1, -1, -1):\n",
    "    sum_val = sum(A[i][j] * x[j] for j in range(i + 1, n))\n",
    "    # Solve for x[i] using the previously calculated values of x\n",
    "    x[i] = (A[i][n] - sum_val) / A[i][i]\n",
    "  return x\n",
    "\n",
    "\n",
    "# Driver code\n",
    "n = 3\n",
    "A = np.array([[3.0, 2.0, -4.0],\n",
    "              [2.0, 3.0, 3.0],\n",
    "              [5.0, -3.0, 1.0]])\n",
    "\n",
    "b = np.array([ 3.0, 15.0, 14.0])\n",
    "\n",
    "# Coefficient matrix augmented with the constant terms\n",
    "A_b = np.hstack((A, b.T.reshape(3, -1)))\n",
    "\n",
    "# Perform Gaussian elimination with partial pivot\n",
    "partial_pivot(A_b, n)\n",
    "x = back_substitute(A_b, n)\n",
    "\n",
    "print(\"Solution for the system Ax=b:\")\n",
    "for i in range(n):\n",
    "    print(x[i])"
   ]
  },
  {
   "cell_type": "markdown",
   "metadata": {
    "id": "l8tyh4Dd32on"
   },
   "source": [
    "\n",
    "---\n"
   ]
  },
  {
   "cell_type": "markdown",
   "metadata": {
    "id": "VFQgsUk24G9l"
   },
   "source": [
    "#### **Linear systems investigation.**\n",
    "\n",
    "Given a linear system $Ax=b$ with $A_{m\\times n}$ and (R)REF of its augmented matrix, one can describe entirely the solution set of the system.\n",
    "\n",
    "$$REF(A|b)= \\left( \\begin{array}{c c c c c c c c |c}\n",
    "l_{1,i_{1}} &  &  &  &  & \\dotsc  &  & * & b_{1}\\\\\n",
    " & l_{2,i_{2}} &  &  &  & \\dotsc  &  & * & b_{2}\\\\\n",
    " &  & &  &  & \\dotsc  &  &  & \\\\\n",
    " &  &  &  & l_{r,\\ i_{r}} & \\dotsc  &  & * & b_{r}\\\\\n",
    "0 &  &  &  &  &  &  & 0 & b_{r+1}\\\\\n",
    " &  &  &  &  &  &  & \\dotsc  & \\\\\n",
    "0 &  &  &  &  &  &  & 0 & b_m\n",
    "\\end{array}\\right), RREF(A|b)=\\left( \\begin{array}{c c c c c c c c | c}\n",
    "l_{1,i_{1}} & 0 &  &  & 0 & \\dotsc  &  & * & b_{1}\\\\\n",
    " & l_{2,i_{2}} &  &  & 0 & \\dotsc  &  & * & b_{2}\\\\\n",
    " &  & &  &  & \\dotsc  &  &  & \\\\\n",
    " &  &  &  & l_{r,\\ i_{r}} & \\dotsc  &  & * & b_{r}\\\\\n",
    "0 &  &  &  &  &  &  & 0 & 0\\\\\n",
    " &  &  &  &  &  &  & \\dotsc  & \\\\\n",
    "0 &  &  &  &  &  &  & 0 & 0\n",
    "\\end{array}\\right) $$\n",
    "\n",
    "If some $b_{j}$ of $b_{r+1}, \\dots, b_{m}$ in REF(A|b) is nonzero, then the system is inconsistent since $0=b_j$ is a contradictive equation.\n",
    "\n",
    "If $b_{r+1}=\\dots=b_m=0$ in RREF(A|b) we select the unknowns $x_{i_1}, \\dots, x_{i_r}$ corresponding to pivots columns as dependent (or main) variables. All the other are considered independent (or free, or parameters). The main variables can be expressed through the free ones: one should take the free variables to the right side of the equation and divide it by the pivot.\n",
    "Each selection of parameter values gives a solution of the system. If there are no free variables, the solution is unique.\n",
    "\n",
    "These observations are gathered in the following theorems. As usual in mathematical texts, \"iff\" stands for \"if and only if\".\n",
    "\n",
    "**Theorem [Criterion of linear system consistency].** $Ax=b$ is consistent iff $b_{r+1}=\\dots=b_m=0$ in $REF(A|b)$.\n",
    "\n",
    "**Theorem [Criterion of linear system determinance].** $Ax=b$ is determined iff $r=n$ in $RREF(A|b)$.\n",
    "\n",
    "The last condition $r=n$ also implies that $REF(A)$ is upper triangular and $RREF(A)$ is diagonal.\n"
   ]
  },
  {
   "cell_type": "markdown",
   "metadata": {
    "id": "XUI67uVyQr8C"
   },
   "source": [
    "#### **Coding sample: RREF**\n",
    "\n",
    "From [GeeksForGeeks](https://www.geeksforgeeks.org/python-sympy-matrix-rref-method/)\n",
    "\n",
    "---\n"
   ]
  },
  {
   "cell_type": "code",
   "execution_count": null,
   "metadata": {
    "colab": {
     "base_uri": "https://localhost:8080/"
    },
    "id": "VqP-2ye3QrUX",
    "outputId": "863b02f6-f817-4bab-fb84-3bb474f548c2"
   },
   "outputs": [
    {
     "name": "stdout",
     "output_type": "stream",
     "text": [
      "Matrix : Matrix([[1, 0, 1, 3], [2, 3, 4, 7], [-1, -3, -3, -4]]) \n",
      "The Reduced Row Echelon Form of matrix M and the pivot columns : (Matrix([\n",
      "[1, 0,   1,   3],\n",
      "[0, 1, 2/3, 1/3],\n",
      "[0, 0,   0,   0]]), (0, 1))\n"
     ]
    }
   ],
   "source": [
    "from sympy import *\n",
    "\n",
    "M = Matrix([[1, 0, 1, 3], [2, 3, 4, 7], [-1, -3, -3, -4]])\n",
    "print(\"Matrix : {} \".format(M))\n",
    "\n",
    "# Use sympy.rref() method\n",
    "M_rref = M.rref()\n",
    "\n",
    "print(\"The Reduced Row Echelon Form of matrix M and the pivot columns : {}\".format(M_rref))"
   ]
  },
  {
   "cell_type": "markdown",
   "metadata": {
    "id": "pHn1BrbbQ0TL"
   },
   "source": [
    "\n",
    "---\n"
   ]
  },
  {
   "cell_type": "markdown",
   "metadata": {
    "id": "wxA8mkNUCp97"
   },
   "source": [
    "#### **Row transformations and matrix multiplication**\n",
    "\n",
    "The elementary row transformation for matrix $A$ can be done by multiplying the matrix by some (elementary) matrix on the right:\n",
    "\n",
    "1. Interchanging of i-th and j-th rows: $A'=P_{ij}A$, where\n",
    "$P_{ij} =\\begin{pmatrix}\n",
    "1 &  &  &  & \\\\\n",
    " &  &  & 1 & \\\\\n",
    " &  &  &  & \\\\\n",
    " & 1 &  &  & \\\\\n",
    " &  &  &  & 1\n",
    "\\end{pmatrix}$ with \"outlier\" ones in $i$-th and $j$-th rows.\n",
    "\n",
    "2. Scaling $i$-th row by $\\lambda\\ne 0$: $A'=E_i(\\lambda)A$, where $E_{i}( \\lambda ) =\\begin{pmatrix}\n",
    "1 &  &  &  & \\\\\n",
    " & \\dotsc  &  & 0 & \\\\\n",
    " &  & \\lambda  &  & \\\\\n",
    " & 0 &  & \\dotsc  & \\\\\n",
    " &  &  &  & 1\n",
    "\\end{pmatrix}$ with $\\lambda$ in $i$-th row.\n",
    "\n",
    "3. Replacement of $j$-th row by the sum of $j$-th and $\\lambda$-multiple of $i$-th: $A'=(I+\\lambda E_{ji})$, where $E_{ji}$ has the only nonzero $(ji)$-th entry $\\lambda$: $I+\\lambda E_{ji}=\\begin{pmatrix}\n",
    "1 &  &  &  & \\\\\n",
    " & 1 &  &  & \\\\\n",
    " &  & \\dotsc  &  & \\\\\n",
    " & \\lambda  &  & 1 & \\\\\n",
    " &  &  &  & 1\n",
    "\\end{pmatrix}$.\n",
    "\n",
    "The key property of elementary matrices is their invertibility.\n",
    "\n",
    "**Theorem [on invertibility of elementary matrices].**\n",
    "$P_{ij}^{-1}=P_{ij}$, $(E_i({\\lambda}))^{-1}=E_i\\left(\\dfrac{1}{\\lambda}\\right)$ ($\\lambda\\ne 0$), $(I+\\lambda E_{ji})^{-1}=I-\\lambda E_{ji}$."
   ]
  },
  {
   "cell_type": "markdown",
   "metadata": {
    "id": "uhuuKQmqHQVu"
   },
   "source": [
    "#### **Coding sample: elementary matrices**\n",
    "\n",
    "---\n"
   ]
  },
  {
   "cell_type": "code",
   "execution_count": null,
   "metadata": {
    "colab": {
     "base_uri": "https://localhost:8080/"
    },
    "id": "kKrEC62IHIgn",
    "outputId": "327dba2d-f998-4f0e-f085-a287f44f92dc"
   },
   "outputs": [
    {
     "name": "stdout",
     "output_type": "stream",
     "text": [
      "P12 intercanges rows 1 and 2 \n",
      " [[4 5 6]\n",
      " [1 2 3]\n",
      " [7 8 9]] \n",
      "\n",
      "E2 scales row 1 by 2 \n",
      " [[2 4 6]\n",
      " [4 5 6]\n",
      " [7 8 9]] \n",
      "\n",
      "E31_2 adds row 1 multiplied by 2 to row 3 \n",
      " [[ 1.  2.  3.]\n",
      " [ 4.  5.  6.]\n",
      " [ 9. 12. 15.]] \n",
      "\n",
      "Elementary matrices are invertable\n",
      "P12*P12= \n",
      " [[1 0 0]\n",
      " [0 1 0]\n",
      " [0 0 1]] \n",
      "\n",
      "E2*E2_inv= \n",
      " [[1. 0. 0.]\n",
      " [0. 1. 0.]\n",
      " [0. 0. 1.]] \n",
      "\n",
      "E31_2*E31_2_inv= \n",
      " [[1. 0. 0.]\n",
      " [0. 1. 0.]\n",
      " [0. 0. 1.]] \n",
      "\n"
     ]
    }
   ],
   "source": [
    "import numpy as np\n",
    "\n",
    "A = np.array([[1, 2, 3], [4, 5, 6], [7, 8, 9]])\n",
    "\n",
    "P12 = np.array([[0, 1, 0], [1, 0, 0], [0, 0, 1]])\n",
    "\n",
    "E2 = np.diag([2,1,1])\n",
    "E2_inv = np.diag([0.5,1,1])\n",
    "\n",
    "E31_2 = np.eye(3)\n",
    "E31_2[2][0] = 2\n",
    "\n",
    "E31_2_inv = np.eye(3)\n",
    "E31_2_inv[2][0]=-2\n",
    "\n",
    "print(f'P12 intercanges rows 1 and 2 \\n {(P12 @ A)} \\n')\n",
    "print(f'E2 scales row 1 by 2 \\n {E2 @ A} \\n')\n",
    "print(f'E31_2 adds row 1 multiplied by 2 to row 3 \\n {E31_2 @ A} \\n')\n",
    "\n",
    "print('Elementary matrices are invertable')\n",
    "print(f'P12*P12= \\n {P12 @ P12} \\n')\n",
    "print(f'E2*E2_inv= \\n {E2 @ E2_inv} \\n')\n",
    "print(f'E31_2*E31_2_inv= \\n {E31_2 @ E31_2_inv} \\n')"
   ]
  },
  {
   "cell_type": "markdown",
   "metadata": {
    "id": "5ngrjUztHZaP"
   },
   "source": [
    "\n",
    "---\n"
   ]
  },
  {
   "cell_type": "markdown",
   "metadata": {
    "id": "OZb1zIZFKu9F"
   },
   "source": [
    "#### **How to find an inverse matrix.**\n",
    "\n",
    "Imagine that we transform the square matrix $A$ to the identity matrix by elementary row transformations. It can be written in multiplication form: $I=T_{k}T_{k-1}\\dots T_1 A$, where $T_1, \\dots, T_k$ are elementary matrices.\n",
    "\n",
    "$T=T_{k}T_{k-1}\\dots T_1$ is an invertable matrix since its inverse is $T_1^{-1}\\dots T_k^{-1}$.\n",
    "\n",
    "From the other hand $I=TA$, so $A$ should be the inverse of $T$ i.e., $A$ and $T$ are mutually invertable.\n",
    "\n",
    "The computational observation for $A^{-1}$ is\n",
    "\n",
    "**Theorem [on inverse matrix computation].** If $A$ is invertable and $T_1, \\dots , T_k$ are elementary row transformations that transform $A$ to the identity matrix $I$ then the same sequence of transformations applied to $I$ gives $A^{-1}$.\n",
    "\n",
    "The transformations for $A$ and $I$ are usually done simultaneously in a \"long\" matrix $(A|I)$.\n",
    "\n",
    "*Example.*\n",
    "$\\left(\\begin{array}{cc|cc}\n",
    "1 & 3 & 1 & 0\\\\\n",
    "2 & 5 & 0 & 1\n",
    "\\end{array}\\right) \\sim \\begin{array}{ c }\n",
    " \\\\\n",
    "II-2I\n",
    "\\end{array}\\left( \\begin{array}{cc|cc}\n",
    "1 & 3 & 1 & 0\\\\\n",
    "0 & -1 & -2 & 1\n",
    "\\end{array}\\right) \\sim \\begin{array}{ c }\n",
    "I+3II\\\\\n",
    " \\\\\n",
    "\\end{array}\\left( \\begin{array}{cc|cc}\n",
    "1 & 0 & -5 & 3\\\\\n",
    "0 & -1 & -2 & 1\n",
    "\\end{array}\\right) \\sim \\begin{array}{ c }\n",
    " \\\\\n",
    "-II\n",
    "\\end{array}\\left( \\begin{array}{cc|cc}\n",
    "1 & 0 & -5 & 3\\\\\n",
    "0 & 1 & 2 & -1\n",
    "\\end{array} \\right)$\n",
    "\n",
    "Check:\n",
    "$\\begin{pmatrix}\n",
    "1 & 3\\\\\n",
    "2 & 5\n",
    "\\end{pmatrix}\\begin{pmatrix}\n",
    "-5 & 3\\\\\n",
    "2 & -1\n",
    "\\end{pmatrix} =\\begin{pmatrix}\n",
    "-5 & 3\\\\\n",
    "2 & -1\n",
    "\\end{pmatrix}\\begin{pmatrix}\n",
    "1 & 3\\\\\n",
    "2 & 5\n",
    "\\end{pmatrix} =\\begin{pmatrix}\n",
    "1 & 0\\\\\n",
    "0 & 1\n",
    "\\end{pmatrix}$"
   ]
  },
  {
   "cell_type": "code",
   "execution_count": null,
   "metadata": {
    "id": "ViRgcdiPHIeS"
   },
   "outputs": [],
   "source": []
  },
  {
   "cell_type": "code",
   "execution_count": null,
   "metadata": {
    "id": "A5kyH61l0yEi"
   },
   "outputs": [],
   "source": []
  }
 ],
 "metadata": {
  "colab": {
   "provenance": []
  },
  "kernelspec": {
   "display_name": "Python 3 (ipykernel)",
   "language": "python",
   "name": "python3"
  },
  "language_info": {
   "codemirror_mode": {
    "name": "ipython",
    "version": 3
   },
   "file_extension": ".py",
   "mimetype": "text/x-python",
   "name": "python",
   "nbconvert_exporter": "python",
   "pygments_lexer": "ipython3",
   "version": "3.12.4"
  }
 },
 "nbformat": 4,
 "nbformat_minor": 4
}
